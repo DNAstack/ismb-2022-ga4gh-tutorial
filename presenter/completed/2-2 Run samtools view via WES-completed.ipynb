{
 "cells": [
  {
   "cell_type": "markdown",
   "metadata": {},
   "source": [
    "## Running samtools view via the WES API\n",
    "\n",
    "#### Learning Objectives\n",
    "Workshop attendees will learn how use the GA4GH Workflow Execution Service (WES).  \n",
    "\n",
    "What will participants do as part of the exercise?\n",
    "\n",
    " - Understanding how to run a workflow via WES\n",
    " - Adjust some parameters of the workflow\n",
    " - Check the status of the runs\n",
    " - Access the workflow results via DRS\n",
    " \n",
    " #### Icons in this Guide\n",
    "\n",
    " 🖐 A hands-on section where you will code something or interact with the server\n",
    " \n",
    " \n",
    " \n",
    "Just as we used a python client to submit DRS requests in the previous notebook we will use a similar client from the fasp package to run workflows.\n",
    "\n",
    "By setting the debug flag to True on the client, the actual http calls will be shown.\n",
    "\n",
    "#### Step 1: Set some variables for your specific settings\n",
    " 🖐 Set SB_PROJECT to the username and project you created earlier.\n",
    "You will only need to change SB_API_KEY_PATH if you changed the location of the key file.\n"
   ]
  },
  {
   "cell_type": "code",
   "execution_count": 4,
   "metadata": {},
   "outputs": [],
   "source": [
    "from fasp.workflow import sbcgcWESClient\n",
    "SB_PROJECT = 'ianfore/ian-tutorial'\n",
    "SB_API_KEY_PATH = '~/tutkeys/sbcgc_key.json'\n",
    "DOWNLOAD_LOCATION = '~/Downloads'\n",
    "\n",
    "cl = sbcgcWESClient(SB_PROJECT, SB_API_KEY_PATH, debug=False)"
   ]
  },
  {
   "cell_type": "markdown",
   "metadata": {},
   "source": [
    "#### Step 2: Set up workflow run\n",
    "Note that we may have to use one of the alternate options below for the SAMTools View application."
   ]
  },
  {
   "cell_type": "code",
   "execution_count": 16,
   "metadata": {},
   "outputs": [],
   "source": [
    "task_name = \"Tutorial run 1 test via WES - header only\"\n",
    "\n",
    "drs_uris  = ['drs://cgc-ga4gh-api.sbgenomics.com/62b0a8daf08fea4770469454',\n",
    "'drs://cgc-ga4gh-api.sbgenomics.com/62bd910d14b0e420a0e2dc8f']\n",
    "\n",
    "#sam_view_app = 'sbg://admin/sbg-public-data/samtools-view-1-9-cwl1-0'\n",
    "#sam_view_app = 'sbg://yasasvinip/test-1/samtools-view-1-9-cwl1-0'\n",
    "sam_view_app = 'sbg://forei/ismb-tutorial/samtools-view-1-9-cwl1-0-tut'\n",
    "#sam_view_app = 'sbg://ianfore/ian-tutorial/samtools-view-1-9-cwl1-0-tut'\n",
    "\n",
    "params = {\n",
    "\"project\": SB_PROJECT,\n",
    "\"name\": task_name,\n",
    "\"inputs\": {\n",
    "    \"output_header_only\": True,\n",
    "    \"include_header\": True,\n",
    "        \"in_alignments\": {\n",
    "          \"path\": drs_uris[0],\n",
    "          \"class\": \"File\"\n",
    "        }\n",
    "    }\n",
    "}"
   ]
  },
  {
   "cell_type": "markdown",
   "metadata": {},
   "source": [
    "#### Step 3: submit the workflow "
   ]
  },
  {
   "cell_type": "markdown",
   "metadata": {},
   "source": [
    "Now we have formulated the body in the way that it can be passed to a client function as follows."
   ]
  },
  {
   "cell_type": "code",
   "execution_count": 17,
   "metadata": {},
   "outputs": [
    {
     "data": {
      "text/plain": [
       "'62decebc-550f-4023-9ab7-b5ef505dd87e'"
      ]
     },
     "execution_count": 17,
     "metadata": {},
     "output_type": "execute_result"
    }
   ],
   "source": [
    "import json\n",
    "\n",
    "\n",
    "\n",
    "run_id= cl.run_generic_workflow(\n",
    "    workflow_url=sam_view_app,\n",
    "    workflow_params = json.dumps(params),\n",
    "    workflow_type = \"CWL\",\n",
    "    workflow_type_version = \"v1.0\",\n",
    "    verbose=False\n",
    ")\n",
    "run_id"
   ]
  },
  {
   "cell_type": "markdown",
   "metadata": {},
   "source": [
    "Step 4: Check the status of the workflow"
   ]
  },
  {
   "cell_type": "code",
   "execution_count": 22,
   "metadata": {},
   "outputs": [
    {
     "data": {
      "text/plain": [
       "'COMPLETE'"
      ]
     },
     "execution_count": 22,
     "metadata": {},
     "output_type": "execute_result"
    }
   ],
   "source": [
    "cl.get_task_status(run_id)"
   ]
  },
  {
   "cell_type": "markdown",
   "metadata": {},
   "source": [
    "The task will take a few minutes to complete.\n",
    "\n",
    "Go ahead with the next step\n",
    "\n",
    "#### Step 5: Adjust a parameter of the tool\n",
    "\n",
    "Using the desciption of the app on the Seven Bridges Platform\n",
    "identify the parameter that directs samtools view to only output the count of matching records\n",
    "https://cgc.sbgenomics.com/u/forei/ismb-tutorial/apps/#forei/ismb-tutorial/samtools-view-1-9-cwl1-0\n",
    "\n",
    "Alter the details in the following copy of the previous run\n",
    "* Edit the parameters section below to set the value of the parameter you have identified to True.\n",
    "* Delete the other parameters from the previous run.\n",
    "* Enter a task name that will help you identify the task"
   ]
  },
  {
   "cell_type": "code",
   "execution_count": 19,
   "metadata": {},
   "outputs": [],
   "source": [
    "task_name2 = \"new copy fixed samtools view count only\"\n",
    "\n",
    "params2 = {\n",
    "\"project\": SB_PROJECT,\n",
    "\"name\": task_name2,\n",
    "\"inputs\": {\n",
    "    \"count_alignments\": True,\n",
    "        \"in_alignments\": {\n",
    "          \"path\": drs_uris[0],\n",
    "          \"class\": \"File\"\n",
    "        }\n",
    "    }\n",
    "}"
   ]
  },
  {
   "cell_type": "markdown",
   "metadata": {},
   "source": [
    "#### Step 6: Submit the revised task and make a note of the run_id"
   ]
  },
  {
   "cell_type": "code",
   "execution_count": 20,
   "metadata": {},
   "outputs": [
    {
     "data": {
      "text/plain": [
       "'0d73f669-ff42-4229-a711-8a830e35ecb8'"
      ]
     },
     "execution_count": 20,
     "metadata": {},
     "output_type": "execute_result"
    }
   ],
   "source": [
    "run_id2 = cl.run_generic_workflow(\n",
    "    workflow_url=sam_view_app,\n",
    "    workflow_params = json.dumps(params2),\n",
    "    workflow_type = \"CWL\",\n",
    "    workflow_type_version = \"v1.0\",\n",
    "    verbose=False\n",
    ")\n",
    "run_id2"
   ]
  },
  {
   "cell_type": "markdown",
   "metadata": {},
   "source": [
    "#### Step 7: Check the status of the second run\n",
    "🖐 Noting the name of the variable in which the id of the new run was executed, write a line to check the status of the run"
   ]
  },
  {
   "cell_type": "code",
   "execution_count": 34,
   "metadata": {},
   "outputs": [
    {
     "data": {
      "text/plain": [
       "'COMPLETE'"
      ]
     },
     "execution_count": 34,
     "metadata": {},
     "output_type": "execute_result"
    }
   ],
   "source": [
    "cl.get_task_status(run_id2)"
   ]
  },
  {
   "cell_type": "markdown",
   "metadata": {},
   "source": [
    "## Getting the results - via DRS\n",
    "\n",
    "Once the first run is complete, further steps can use DRS to obtain the file output from the workflow.\n",
    "\n",
    "#### Step 8: Show the full response from the WES server\n",
    "Note the outputs section which shows outputs specitic to the SAMTools View command."
   ]
  },
  {
   "cell_type": "code",
   "execution_count": 24,
   "metadata": {},
   "outputs": [
    {
     "data": {
      "text/plain": [
       "{'request': {'tags': {},\n",
       "  'workflow_params': {'name': 'Tutorial run 1 test via WES - header only',\n",
       "   'project': 'ianfore/ian-tutorial',\n",
       "   'inputs': {'count_alignments': None,\n",
       "    'filter_exclude_all': None,\n",
       "    'output_fmt_option': None,\n",
       "    'in_reference': None,\n",
       "    'regions_array': None,\n",
       "    'filter_mapq': None,\n",
       "    'in_alignments': {'path': 'drs://cgc-ga4gh-api.sbgenomics.com/62bd93e814b0e420a0e2dea9',\n",
       "     'basename': 'G20479.HCC1143_1M.aligned.bam',\n",
       "     'nameext': '.bam',\n",
       "     'class': 'File',\n",
       "     'nameroot': 'G20479.HCC1143_1M.aligned'},\n",
       "    'read_tag_to_strip': None,\n",
       "    'subsample_fraction': None,\n",
       "    'output_format': None,\n",
       "    'output_header_only': True,\n",
       "    'fast_bam_compression': None,\n",
       "    'multi_region_iterator': None,\n",
       "    'in_index': None,\n",
       "    'filter_include': None,\n",
       "    'mem_per_job': None,\n",
       "    'collapse_cigar': None,\n",
       "    'min_cigar_operations': None,\n",
       "    'read_group': None,\n",
       "    'threads': None,\n",
       "    'cpu_per_job': None,\n",
       "    'read_group_list': None,\n",
       "    'reference_file_list': None,\n",
       "    'filter_library': None,\n",
       "    'bed_file': None,\n",
       "    'uncompressed_bam': None,\n",
       "    'input_fmt_option': None,\n",
       "    'omitted_reads_filename': None,\n",
       "    'output_filename': None,\n",
       "    'include_header': True,\n",
       "    'filter_exclude_any': None}},\n",
       "  'workflow_type': 'CWL',\n",
       "  'workflow_engine_params': {},\n",
       "  'workflow_url': 'sbg://ianfore/ian-tutorial/samtools-view-1-9-cwl1-0-tut'},\n",
       " 'state': 'COMPLETE',\n",
       " 'outputs': {'reads_not_selected_by_filters': None,\n",
       "  'alignment_count': None,\n",
       "  'out_alignments': {'path': 'drs://cgc-ga4gh-api.sbgenomics.com/62c9fc947e075536654152d5',\n",
       "   'basename': '_3_G20479.HCC1143_1M.aligned.header.sam',\n",
       "   'nameext': '.sam',\n",
       "   'class': 'File',\n",
       "   'nameroot': '_3_G20479.HCC1143_1M.aligned.header'}},\n",
       " 'run_id': '62decebc-550f-4023-9ab7-b5ef505dd87e',\n",
       " 'run_log': {'name': 'Tutorial run 1 test via WES - header only',\n",
       "  'cmd': None,\n",
       "  'start_time': '2022-07-09T22:07:16Z',\n",
       "  'end_time': '2022-07-09T22:09:36Z',\n",
       "  'stdout': None,\n",
       "  'stderr': None,\n",
       "  'exit_code': 0},\n",
       " 'task_logs': [{'name': 'samtools-view-1-9-cwl1-0-tut',\n",
       "   'cmd': '/opt/samtools-1.9/samtools view -h -H -o G20479.HCC1143_1M.aligned.header.sam /sbgenomics/workspaces/639d562d-08ea-496b-b749-d5701e9d470b/tasks/62decebc-550f-4023-9ab7-b5ef505dd87e/samtools-view-1-9-cwl1-0-tut/G20479.HCC1143_1M.aligned.bam',\n",
       "   'start_time': '2022-07-09T22:09:09Z',\n",
       "   'end_time': '2022-07-09T22:09:23Z',\n",
       "   'stdout': 'drs://cgc-ga4gh-api.sbgenomics.com/62c9fc91575cd418a159341f',\n",
       "   'stderr': 'drs://cgc-ga4gh-api.sbgenomics.com/62c9fc91575cd418a159341f',\n",
       "   'exit_code': 0}]}"
      ]
     },
     "execution_count": 24,
     "metadata": {},
     "output_type": "execute_result"
    }
   ],
   "source": [
    "runLog = cl.get_run_log(run_id)\n",
    "runLog"
   ]
  },
  {
   "cell_type": "markdown",
   "metadata": {},
   "source": [
    "#### Step 9: Extract the value of the DRS URI for the output file"
   ]
  },
  {
   "cell_type": "code",
   "execution_count": 25,
   "metadata": {},
   "outputs": [
    {
     "data": {
      "text/plain": [
       "'drs://cgc-ga4gh-api.sbgenomics.com/62c9fc947e075536654152d5'"
      ]
     },
     "execution_count": 25,
     "metadata": {},
     "output_type": "execute_result"
    }
   ],
   "source": [
    "results_drs_uri = runLog['outputs']['out_alignments']['path']\n",
    "results_drs_uri"
   ]
  },
  {
   "cell_type": "markdown",
   "metadata": {},
   "source": [
    "We'll pass over the question of how one would determine which DRS server that URI needs to be sent to because\n",
    "* In this case it's fairly obvious - it's the CGC DRS Server\n",
    "* We want to get something up and working"
   ]
  },
  {
   "cell_type": "code",
   "execution_count": null,
   "metadata": {},
   "outputs": [],
   "source": []
  },
  {
   "cell_type": "markdown",
   "metadata": {},
   "source": [
    "#### Step 10 Use DRS to get file details: \n",
    "First we set up a DRS client to access the results files"
   ]
  },
  {
   "cell_type": "code",
   "execution_count": 27,
   "metadata": {
    "scrolled": true
   },
   "outputs": [],
   "source": [
    "from fasp.loc import sbcgcDRSClient\n",
    "drsClient = sbcgcDRSClient(SB_API_KEY_PATH, 's3')"
   ]
  },
  {
   "cell_type": "markdown",
   "metadata": {},
   "source": [
    "As in Example 2-1 DRS can be used to get details of the file. Note that only the id portion of the DRS URI is being passed. "
   ]
  },
  {
   "cell_type": "code",
   "execution_count": 28,
   "metadata": {},
   "outputs": [
    {
     "name": "stdout",
     "output_type": "stream",
     "text": [
      "Getting 62c9fc947e075536654152d5 from DRS Client\n"
     ]
    },
    {
     "data": {
      "text/plain": [
       "{'id': '62c9fc947e075536654152d5',\n",
       " 'name': '_3_G20479.HCC1143_1M.aligned.header.sam',\n",
       " 'size': 3598,\n",
       " 'checksums': [{'type': 'etag',\n",
       "   'checksum': '159acae2ce81efee40f0f89ee58f2f95-1'}],\n",
       " 'self_uri': 'drs://cgc-ga4gh-api.sbgenomics.com/62c9fc947e075536654152d5',\n",
       " 'created_time': '2022-07-09T22:09:24Z',\n",
       " 'updated_time': '2022-07-09T22:09:24Z',\n",
       " 'mime_type': 'application/json',\n",
       " 'access_methods': [{'type': 's3',\n",
       "   'region': 'us-east-1',\n",
       "   'access_id': 'aws-us-east-1'}]}"
      ]
     },
     "execution_count": 28,
     "metadata": {},
     "output_type": "execute_result"
    }
   ],
   "source": [
    "# get the id part of the URI\n",
    "out_alignments_drs_id = results_drs_uri.split('/')[-1]\n",
    "print(f\"Getting {out_alignments_drs_id} from DRS Client\")\n",
    "fileDetails = drsClient.get_object(out_alignments_drs_id)\n",
    "fileDetails"
   ]
  },
  {
   "cell_type": "markdown",
   "metadata": {},
   "source": [
    "#### Note we can check the size of results files before downloading"
   ]
  },
  {
   "cell_type": "code",
   "execution_count": 29,
   "metadata": {},
   "outputs": [
    {
     "name": "stdout",
     "output_type": "stream",
     "text": [
      "3598\n"
     ]
    }
   ],
   "source": [
    "print(fileDetails['size'])"
   ]
  },
  {
   "cell_type": "markdown",
   "metadata": {},
   "source": [
    "#### Step 11: Downloading the file\n",
    "Now we can use the url obtained to download the file. \n",
    "\n",
    "DRS is used again to get a URL to the results file."
   ]
  },
  {
   "cell_type": "code",
   "execution_count": 30,
   "metadata": {},
   "outputs": [],
   "source": [
    "url = drsClient.get_access_url(out_alignments_drs_id,'s3')"
   ]
  },
  {
   "cell_type": "markdown",
   "metadata": {},
   "source": [
    "We'll create a small function to encapsulate the download."
   ]
  },
  {
   "cell_type": "code",
   "execution_count": 31,
   "metadata": {},
   "outputs": [],
   "source": [
    "import requests\n",
    "import os\n",
    "def download(url, file_path):\n",
    "    with open(os.path.expanduser(file_path), \"wb\") as file:\n",
    "        response = requests.get(url)\n",
    "        file.write(response.content)"
   ]
  },
  {
   "cell_type": "code",
   "execution_count": 33,
   "metadata": {},
   "outputs": [],
   "source": [
    "fullPath = DOWNLOAD_LOCATION + '/' + fileDetails['name']\n",
    "download(url, fullPath)"
   ]
  },
  {
   "cell_type": "markdown",
   "metadata": {},
   "source": [
    "#### Step 12: Repeat the steps above to retrieve the results of the second run"
   ]
  },
  {
   "cell_type": "code",
   "execution_count": 36,
   "metadata": {},
   "outputs": [
    {
     "name": "stdout",
     "output_type": "stream",
     "text": [
      "Getting 62c9fd8a7e07553665415319 from DRS Client\n"
     ]
    }
   ],
   "source": [
    "runLog = cl.get_run_log(run_id2)\n",
    "# Note the difference in the name of the output\n",
    "results_drs_uri = runLog['outputs']['alignment_count']['path']\n",
    "# get the id part of the URI\n",
    "alignment_count_drs_id = results_drs_uri.split('/')[-1]\n",
    "print(f\"Getting {alignment_count_drs_id} from DRS Client\")\n",
    "fileDetails = drsClient.get_object(alignment_count_drs_id)\n",
    "url = drsClient.get_access_url(alignment_count_drs_id,'s3')\n",
    "fullPath = DOWNLOAD_LOCATION + '/' + fileDetails['name']\n",
    "download(url, fullPath)"
   ]
  },
  {
   "cell_type": "code",
   "execution_count": null,
   "metadata": {},
   "outputs": [],
   "source": []
  }
 ],
 "metadata": {
  "kernelspec": {
   "display_name": "Python 3 (ipykernel)",
   "language": "python",
   "name": "python3"
  },
  "language_info": {
   "codemirror_mode": {
    "name": "ipython",
    "version": 3
   },
   "file_extension": ".py",
   "mimetype": "text/x-python",
   "name": "python",
   "nbconvert_exporter": "python",
   "pygments_lexer": "ipython3",
   "version": "3.9.7"
  }
 },
 "nbformat": 4,
 "nbformat_minor": 4
}
