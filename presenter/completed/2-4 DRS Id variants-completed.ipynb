{
 "cells": [
  {
   "cell_type": "markdown",
   "id": "16c0f2b8",
   "metadata": {},
   "source": [
    "#### Using the DRSMetaResolver Client\n",
    "\n",
    "The MetaResolver will:\n",
    "* Resolve compact ids\n",
    "* Resolve host based DRS ids\n",
    "* Send DRS calls to the correct server\n",
    "* Handle id's prefixed with drs:// or not\n",
    "\n",
    " 🖐 Run the following examples and review how each kind of DRS id is handled\n",
    " \n",
    "#### Step 1: As in previous examples create a client\n",
    "The DRS Metaresolver appears like a DRS Client but will take prefix or host based DRS ids and send them to the DRS Server which can resolve them.\n",
    "\n"
   ]
  },
  {
   "cell_type": "code",
   "execution_count": 1,
   "id": "7dab844c",
   "metadata": {},
   "outputs": [],
   "source": [
    "from fasp.loc import DRSMetaResolver\n",
    "drs_client = DRSMetaResolver(debug=False)"
   ]
  },
  {
   "cell_type": "markdown",
   "id": "2b3150a8",
   "metadata": {},
   "source": [
    "#### Step 2: Resolve a prefixed DRS id"
   ]
  },
  {
   "cell_type": "code",
   "execution_count": 2,
   "id": "d450406d",
   "metadata": {},
   "outputs": [
    {
     "data": {
      "text/plain": [
       "{'access_methods': [{'access_id': 'gs',\n",
       "   'access_url': {'url': 'gs://nih-nhlbi-biodata-catalyst-1000-genomes/CCDG_13607/Project_CCDG_13607_B01_GRM_WGS.cram.2019-02-06/Sample_HG01956/analysis/HG01956.final.cram'},\n",
       "   'region': '',\n",
       "   'type': 'gs'},\n",
       "  {'access_id': 's3',\n",
       "   'access_url': {'url': 's3://nih-nhlbi-biodata-catalyst-1000-genomes-high-coverage/CCDG_13607/Project_CCDG_13607_B01_GRM_WGS.cram.2019-02-06/Sample_HG01956/analysis/HG01956.final.cram'},\n",
       "   'region': '',\n",
       "   'type': 's3'}],\n",
       " 'aliases': [],\n",
       " 'checksums': [{'checksum': 'aed804b28e6ffb3c6d317e224ef50ebf',\n",
       "   'type': 'md5'}],\n",
       " 'created_time': '2020-01-15T15:27:12.113984',\n",
       " 'description': None,\n",
       " 'form': 'object',\n",
       " 'id': 'dg.4503/e747c529-a6ee-415f-90b8-e2db631f8ed9',\n",
       " 'mime_type': 'application/json',\n",
       " 'name': '',\n",
       " 'self_uri': 'drs://dg.4503:e747c529-a6ee-415f-90b8-e2db631f8ed9',\n",
       " 'size': 16400474363,\n",
       " 'updated_time': '2020-01-15T15:27:12.113992',\n",
       " 'version': 'b4fac52c'}"
      ]
     },
     "execution_count": 2,
     "metadata": {},
     "output_type": "execute_result"
    }
   ],
   "source": [
    "drs_client.get_object('dg.4503:e747c529-a6ee-415f-90b8-e2db631f8ed9')"
   ]
  },
  {
   "cell_type": "markdown",
   "id": "678586cd",
   "metadata": {},
   "source": [
    "#### Step 3: Define a function to use the Metaresolver to send the DRS URI to the right server\n",
    "\n",
    "As we are going to work with multiple lists of DRS ids we'll define a function to send a list of ids to the Metaresolver.\n",
    "\n",
    "Click on the following cell to define the function.\n",
    "\n",
    " 🖐 Expert option: In the following function you may edit what is printed for each DRS response. Use the example above to see what attributes may be listed."
   ]
  },
  {
   "cell_type": "code",
   "execution_count": 3,
   "id": "ad460d97",
   "metadata": {},
   "outputs": [],
   "source": [
    "def check_list(id_list):\n",
    "    for drs_id in id_list:\n",
    "        print(f\"DRS URI {drs_id}\")\n",
    "        drs_response = drs_client.get_object(drs_id)\n",
    "        num_of_methods = len(drs_response['access_methods'])\n",
    "        #print(f\"Full response\\n{drs_response}\")\n",
    "        print(f\"has {num_of_methods} access_methods\")\n",
    "        print('_'*80)"
   ]
  },
  {
   "cell_type": "markdown",
   "id": "4994363d",
   "metadata": {},
   "source": [
    "#### Step 4: Resolve compact (prefix based ids)\n",
    "The following is a list of DRS URIs with different prefixes"
   ]
  },
  {
   "cell_type": "code",
   "execution_count": 4,
   "id": "9d22c7d1",
   "metadata": {},
   "outputs": [
    {
     "name": "stdout",
     "output_type": "stream",
     "text": [
      "DRS URI dg.4503:66eeec21-aad0-4a77-8de5-621f05e2d301\n",
      "has 2 access_methods\n",
      "________________________________________________________________________________\n",
      "DRS URI dg.4DFC:0e3c5237-6933-4d30-83f8-6ab721096bc7\n",
      "has 2 access_methods\n",
      "________________________________________________________________________________\n",
      "DRS URI dg.ANV0:895c5a81-b985-4559-bc8e-cecece550756\n",
      "has 1 access_methods\n",
      "________________________________________________________________________________\n"
     ]
    }
   ],
   "source": [
    "prefixedIDs = [\n",
    "            'dg.4503:66eeec21-aad0-4a77-8de5-621f05e2d301',\n",
    "            'dg.4DFC:0e3c5237-6933-4d30-83f8-6ab721096bc7',\n",
    "            'dg.ANV0:895c5a81-b985-4559-bc8e-cecece550756'\n",
    "]\n",
    "\n",
    "check_list(prefixedIDs)"
   ]
  },
  {
   "cell_type": "markdown",
   "id": "94c42270",
   "metadata": {},
   "source": [
    "#### Step 5: Resolve host based ids"
   ]
  },
  {
   "cell_type": "code",
   "execution_count": 5,
   "id": "deb170f5",
   "metadata": {},
   "outputs": [
    {
     "name": "stdout",
     "output_type": "stream",
     "text": [
      "DRS URI drs://gen3.biodatacatalyst.nhlbi.nih.gov/66eeec21-aad0-4a77-8de5-621f05e2d301\n",
      "has 2 access_methods\n",
      "________________________________________________________________________________\n",
      "DRS URI drs://nci-crdc.datacommons.io/0e3c5237-6933-4d30-83f8-6ab721096bc7\n",
      "has 2 access_methods\n",
      "________________________________________________________________________________\n",
      "DRS URI drs://gen3.theanvil.io/895c5a81-b985-4559-bc8e-cecece550756\n",
      "has 1 access_methods\n",
      "________________________________________________________________________________\n",
      "DRS URI drs://locate.be-md.ncbi.nlm.nih.gov/81b75c18e5def027579f9441f987b8a8\n",
      "has 3 access_methods\n",
      "________________________________________________________________________________\n"
     ]
    }
   ],
   "source": [
    "host_based_IDs = [\n",
    "    'drs://gen3.biodatacatalyst.nhlbi.nih.gov/66eeec21-aad0-4a77-8de5-621f05e2d301',\n",
    "    'drs://nci-crdc.datacommons.io/0e3c5237-6933-4d30-83f8-6ab721096bc7',\n",
    "    'drs://gen3.theanvil.io/895c5a81-b985-4559-bc8e-cecece550756',\n",
    "    'drs://locate.be-md.ncbi.nlm.nih.gov/81b75c18e5def027579f9441f987b8a8'\n",
    "]\n",
    "\n",
    "check_list(host_based_IDs)"
   ]
  },
  {
   "cell_type": "markdown",
   "id": "bf7e00c9",
   "metadata": {},
   "source": [
    "#### Step 6: Mixed list\n",
    "* The following shows that lists of mixed host based and CURIEs can be handled\n",
    "* The DRS Metaresolver can handle DRS ids with or without the drs:// (scheme) on the front"
   ]
  },
  {
   "cell_type": "code",
   "execution_count": 6,
   "id": "4b6e671d",
   "metadata": {},
   "outputs": [
    {
     "name": "stdout",
     "output_type": "stream",
     "text": [
      "DRS URI drs://dg.4503:66eeec21-aad0-4a77-8de5-621f05e2d301\n",
      "has 2 access_methods\n",
      "________________________________________________________________________________\n",
      "DRS URI dg.4DFC:0e3c5237-6933-4d30-83f8-6ab721096bc7\n",
      "has 2 access_methods\n",
      "________________________________________________________________________________\n",
      "DRS URI drs://dg.ANV0:895c5a81-b985-4559-bc8e-cecece550756\n",
      "has 1 access_methods\n",
      "________________________________________________________________________________\n",
      "DRS URI locate.be-md.ncbi.nlm.nih.gov/81b75c18e5def027579f9441f987b8a8\n",
      "has 3 access_methods\n",
      "________________________________________________________________________________\n"
     ]
    }
   ],
   "source": [
    "mixedIDs = [\n",
    "            \n",
    "    # Curie with scheme\n",
    "    'drs://dg.4503:66eeec21-aad0-4a77-8de5-621f05e2d301',\n",
    "    # Curie no scheme\n",
    "    'dg.4DFC:0e3c5237-6933-4d30-83f8-6ab721096bc7',\n",
    "    # Host based with scheme\n",
    "    'drs://dg.ANV0:895c5a81-b985-4559-bc8e-cecece550756',\n",
    "    # Host based no scheme\n",
    "    'locate.be-md.ncbi.nlm.nih.gov/81b75c18e5def027579f9441f987b8a8'\n",
    "]\n",
    "\n",
    "check_list(mixedIDs)"
   ]
  },
  {
   "cell_type": "code",
   "execution_count": null,
   "id": "cbb1dd1c",
   "metadata": {},
   "outputs": [],
   "source": []
  }
 ],
 "metadata": {
  "kernelspec": {
   "display_name": "Python 3 (ipykernel)",
   "language": "python",
   "name": "python3"
  },
  "language_info": {
   "codemirror_mode": {
    "name": "ipython",
    "version": 3
   },
   "file_extension": ".py",
   "mimetype": "text/x-python",
   "name": "python",
   "nbconvert_exporter": "python",
   "pygments_lexer": "ipython3",
   "version": "3.9.7"
  }
 },
 "nbformat": 4,
 "nbformat_minor": 5
}
