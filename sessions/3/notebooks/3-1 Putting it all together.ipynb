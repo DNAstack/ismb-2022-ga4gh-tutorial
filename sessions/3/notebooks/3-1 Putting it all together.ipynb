{
 "cells": [
  {
   "cell_type": "markdown",
   "metadata": {},
   "source": [
    " ### Combining GA4GH standards to perform an end-to-end workflow\n",
    " \n",
    "#### Learning Objectives\n",
    "Combine Data Connect, WES and DRS services  \n",
    "\n",
    "What will participants do as part of the exercise?\n",
    "\n",
    " - Search for files with Data Connect\n",
    " - Obtain links to access files\n",
    " - Submit the files to a WES workflow\n",
    " - Retrieve the results of the analysis\n",
    " \n",
    " \n",
    " #### Icons in this Guide\n",
    "\n",
    " 🖐 A hands-on section where you will code something or interact with the server\n",
    " \n",
    " #### 1. Run a cell in a Jupyter notebook\n",
    " \n",
    " ## Obtain Thousand Genomes files from SRA DRS and submit to Seven Bridges WES"
   ]
  },
  {
   "cell_type": "markdown",
   "metadata": {},
   "source": [
    "🖐 Set up your project name, location of your file"
   ]
  },
  {
   "cell_type": "code",
   "execution_count": 69,
   "metadata": {},
   "outputs": [],
   "source": [
    "SB_PROJECT = 'forei/ismb-tutorial'\n",
    "SB_API_KEY_PATH = '~/.keys/sbcgc_key.json'\n",
    "DOWNLOAD_LOCATION = '~/Downloads'"
   ]
  },
  {
   "cell_type": "code",
   "execution_count": 82,
   "metadata": {},
   "outputs": [
    {
     "name": "stdout",
     "output_type": "stream",
     "text": [
      "Query: {\"query\":\"SELECT f.sample_name, drs_id bam_drs_id, acc FROM thousand_genomes.onek_genomes.ssd_drs s  join thousand_genomes.onek_genomes.sra_drs_files f on f.sample_name = s.su_submitter_id  where filetype = 'bam' and mapped = 'mapped'  and sequencing_type ='exome' and  population = 'PUR' LIMIT 3\", \"parameters\":[]}\n",
      "Retrieving the query\n",
      "____Page1_______________\n",
      "b'{\"data\":[],\"pagination\":{\"next_page_url\":\"https://ga4gh-search-adapter-presto-public.prod.dnastack.com/search/v1/statement/queued/20220630_012803_00003_qrrje/ya9ce1b4499de4b498a7e7698c5a7d09ff29d2230/1?queryJobId=20220630_012803_00003_qrrje\"}}'\n",
      "{\n",
      "   \"data\": [],\n",
      "   \"pagination\": {\n",
      "      \"next_page_url\": \"https://ga4gh-search-adapter-presto-public.prod.dnastack.com/search/v1/statement/queued/20220630_012803_00003_qrrje/ya9ce1b4499de4b498a7e7698c5a7d09ff29d2230/1?queryJobId=20220630_012803_00003_qrrje\"\n",
      "   }\n",
      "}\n",
      "____Page2_______________\n",
      "b'{\"data\":[],\"pagination\":{\"next_page_url\":\"https://ga4gh-search-adapter-presto-public.prod.dnastack.com/search/v1/statement/queued/20220630_012803_00003_qrrje/y09387d06668d8caa0169742541c5d60843c0df17/2?queryJobId=20220630_012803_00003_qrrje\"}}'\n",
      "{\n",
      "   \"data\": [],\n",
      "   \"pagination\": {\n",
      "      \"next_page_url\": \"https://ga4gh-search-adapter-presto-public.prod.dnastack.com/search/v1/statement/queued/20220630_012803_00003_qrrje/y09387d06668d8caa0169742541c5d60843c0df17/2?queryJobId=20220630_012803_00003_qrrje\"\n",
      "   }\n",
      "}\n",
      "____Page3_______________\n",
      "b'{\"data\":[],\"pagination\":{\"next_page_url\":\"https://ga4gh-search-adapter-presto-public.prod.dnastack.com/search/v1/statement/queued/20220630_012803_00003_qrrje/y5d3ac60be2c4c070a69f864a6b1683359b376f4f/3?queryJobId=20220630_012803_00003_qrrje\"}}'\n",
      "{\n",
      "   \"data\": [],\n",
      "   \"pagination\": {\n",
      "      \"next_page_url\": \"https://ga4gh-search-adapter-presto-public.prod.dnastack.com/search/v1/statement/queued/20220630_012803_00003_qrrje/y5d3ac60be2c4c070a69f864a6b1683359b376f4f/3?queryJobId=20220630_012803_00003_qrrje\"\n",
      "   }\n",
      "}\n",
      "____Page4_______________\n",
      "b'{\"data\":[],\"pagination\":{\"next_page_url\":\"https://ga4gh-search-adapter-presto-public.prod.dnastack.com/search/v1/statement/queued/20220630_012803_00003_qrrje/y1d397d3e483541cdcb24c5a6e8069d68b67b6c39/4?queryJobId=20220630_012803_00003_qrrje\"}}'\n",
      "{\n",
      "   \"data\": [],\n",
      "   \"pagination\": {\n",
      "      \"next_page_url\": \"https://ga4gh-search-adapter-presto-public.prod.dnastack.com/search/v1/statement/queued/20220630_012803_00003_qrrje/y1d397d3e483541cdcb24c5a6e8069d68b67b6c39/4?queryJobId=20220630_012803_00003_qrrje\"\n",
      "   }\n",
      "}\n",
      "____Page5_______________\n",
      "b'{\"data\":[],\"pagination\":{\"next_page_url\":\"https://ga4gh-search-adapter-presto-public.prod.dnastack.com/search/v1/statement/queued/20220630_012803_00003_qrrje/y12e60c8f2520745b5bd276bfbe62ccfee75ea930/5?queryJobId=20220630_012803_00003_qrrje\"}}'\n",
      "{\n",
      "   \"data\": [],\n",
      "   \"pagination\": {\n",
      "      \"next_page_url\": \"https://ga4gh-search-adapter-presto-public.prod.dnastack.com/search/v1/statement/queued/20220630_012803_00003_qrrje/y12e60c8f2520745b5bd276bfbe62ccfee75ea930/5?queryJobId=20220630_012803_00003_qrrje\"\n",
      "   }\n",
      "}\n",
      "____Page6_______________\n",
      "b'{\"data\":[],\"pagination\":{\"next_page_url\":\"https://ga4gh-search-adapter-presto-public.prod.dnastack.com/search/v1/statement/executing/20220630_012803_00003_qrrje/y1cba4706fb46ae1b2bd2fae3c50334bfae35a104/0?queryJobId=20220630_012803_00003_qrrje\"}}'\n",
      "{\n",
      "   \"data\": [],\n",
      "   \"pagination\": {\n",
      "      \"next_page_url\": \"https://ga4gh-search-adapter-presto-public.prod.dnastack.com/search/v1/statement/executing/20220630_012803_00003_qrrje/y1cba4706fb46ae1b2bd2fae3c50334bfae35a104/0?queryJobId=20220630_012803_00003_qrrje\"\n",
      "   }\n",
      "}\n",
      "____Page7_______________\n",
      "b'{\"data_model\":{\"description\":\"Automatically generated schema\",\"$schema\":\"http://json-schema.org/draft-07/schema#\",\"properties\":{\"sample_name\":{\"format\":\"varchar\",\"type\":\"string\",\"$comment\":\"varchar\"},\"bam_drs_id\":{\"format\":\"varchar\",\"type\":\"string\",\"$comment\":\"varchar\"},\"acc\":{\"format\":\"varchar\",\"type\":\"string\",\"$comment\":\"varchar\"}}},\"data\":[{\"sample_name\":\"HG00731\",\"bam_drs_id\":\"515ae091f29ac699a4d2e272812cea47\",\"acc\":\"SRR1606560\"},{\"sample_name\":\"HG00637\",\"bam_drs_id\":\"475dfc02f643c368036df6816d05afe4\",\"acc\":\"SRR1596919\"},{\"sample_name\":\"HG00640\",\"bam_drs_id\":\"58e2964f2a0adbf41ab0e8c7a95e7d0c\",\"acc\":\"SRR1596923\"}],\"pagination\":{\"next_page_url\":\"https://ga4gh-search-adapter-presto-public.prod.dnastack.com/search/v1/statement/executing/20220630_012803_00003_qrrje/ydb2f686d5ab7a941f6ec2affdf56d7c344aa7041/1?queryJobId=20220630_012803_00003_qrrje\"}}'\n",
      "{\n",
      "   \"data_model\": {\n",
      "      \"description\": \"Automatically generated schema\",\n",
      "      \"$schema\": \"http://json-schema.org/draft-07/schema#\",\n",
      "      \"properties\": {\n",
      "         \"sample_name\": {\n",
      "            \"format\": \"varchar\",\n",
      "            \"type\": \"string\",\n",
      "            \"$comment\": \"varchar\"\n",
      "         },\n",
      "         \"bam_drs_id\": {\n",
      "            \"format\": \"varchar\",\n",
      "            \"type\": \"string\",\n",
      "            \"$comment\": \"varchar\"\n",
      "         },\n",
      "         \"acc\": {\n",
      "            \"format\": \"varchar\",\n",
      "            \"type\": \"string\",\n",
      "            \"$comment\": \"varchar\"\n",
      "         }\n",
      "      }\n",
      "   },\n",
      "   \"data\": [\n",
      "      {\n",
      "         \"sample_name\": \"HG00731\",\n",
      "         \"bam_drs_id\": \"515ae091f29ac699a4d2e272812cea47\",\n",
      "         \"acc\": \"SRR1606560\"\n",
      "      },\n",
      "      {\n",
      "         \"sample_name\": \"HG00637\",\n",
      "         \"bam_drs_id\": \"475dfc02f643c368036df6816d05afe4\",\n",
      "         \"acc\": \"SRR1596919\"\n",
      "      },\n",
      "      {\n",
      "         \"sample_name\": \"HG00640\",\n",
      "         \"bam_drs_id\": \"58e2964f2a0adbf41ab0e8c7a95e7d0c\",\n",
      "         \"acc\": \"SRR1596923\"\n",
      "      }\n",
      "   ],\n",
      "   \"pagination\": {\n",
      "      \"next_page_url\": \"https://ga4gh-search-adapter-presto-public.prod.dnastack.com/search/v1/statement/executing/20220630_012803_00003_qrrje/ydb2f686d5ab7a941f6ec2affdf56d7c344aa7041/1?queryJobId=20220630_012803_00003_qrrje\"\n",
      "   }\n",
      "}\n",
      "found data model\n",
      "____Page8_______________\n",
      "b'{\"data\":[],\"pagination\":{}}'\n",
      "{\n",
      "   \"data\": [],\n",
      "   \"pagination\": {}\n",
      "}\n"
     ]
    },
    {
     "data": {
      "text/html": [
       "<div>\n",
       "<style scoped>\n",
       "    .dataframe tbody tr th:only-of-type {\n",
       "        vertical-align: middle;\n",
       "    }\n",
       "\n",
       "    .dataframe tbody tr th {\n",
       "        vertical-align: top;\n",
       "    }\n",
       "\n",
       "    .dataframe thead th {\n",
       "        text-align: right;\n",
       "    }\n",
       "</style>\n",
       "<table border=\"1\" class=\"dataframe\">\n",
       "  <thead>\n",
       "    <tr style=\"text-align: right;\">\n",
       "      <th></th>\n",
       "      <th>sample_name</th>\n",
       "      <th>bam_drs_id</th>\n",
       "      <th>acc</th>\n",
       "    </tr>\n",
       "  </thead>\n",
       "  <tbody>\n",
       "    <tr>\n",
       "      <th>0</th>\n",
       "      <td>HG00731</td>\n",
       "      <td>515ae091f29ac699a4d2e272812cea47</td>\n",
       "      <td>SRR1606560</td>\n",
       "    </tr>\n",
       "    <tr>\n",
       "      <th>1</th>\n",
       "      <td>HG00637</td>\n",
       "      <td>475dfc02f643c368036df6816d05afe4</td>\n",
       "      <td>SRR1596919</td>\n",
       "    </tr>\n",
       "    <tr>\n",
       "      <th>2</th>\n",
       "      <td>HG00640</td>\n",
       "      <td>58e2964f2a0adbf41ab0e8c7a95e7d0c</td>\n",
       "      <td>SRR1596923</td>\n",
       "    </tr>\n",
       "  </tbody>\n",
       "</table>\n",
       "</div>"
      ],
      "text/plain": [
       "  sample_name                        bam_drs_id         acc\n",
       "0     HG00731  515ae091f29ac699a4d2e272812cea47  SRR1606560\n",
       "1     HG00637  475dfc02f643c368036df6816d05afe4  SRR1596919\n",
       "2     HG00640  58e2964f2a0adbf41ab0e8c7a95e7d0c  SRR1596923"
      ]
     },
     "execution_count": 82,
     "metadata": {},
     "output_type": "execute_result"
    }
   ],
   "source": [
    "from fasp.search import DataConnectClient\n",
    "\n",
    "# Step 1 - Discovery\n",
    "# query for relevant DRS objects\n",
    "searchClient = DataConnectClient('https://ga4gh-search-adapter-presto-public.prod.dnastack.com/',debug=True)\n",
    "\n",
    "query = '''SELECT f.sample_name, drs_id bam_drs_id, acc\n",
    "FROM thousand_genomes.onek_genomes.ssd_drs s \n",
    "join thousand_genomes.onek_genomes.sra_drs_files f on f.sample_name = s.su_submitter_id \n",
    "where filetype = 'bam' and mapped = 'mapped' \n",
    "and sequencing_type ='exome' and  population = 'PUR' LIMIT 3'''\n",
    "\n",
    "df = searchClient.run_query(query, returnType='dataframe')\n",
    "df"
   ]
  },
  {
   "cell_type": "code",
   "execution_count": 83,
   "metadata": {},
   "outputs": [
    {
     "name": "stdout",
     "output_type": "stream",
     "text": [
      "Query: {\"query\":\"SELECT f.sample_name, drs_id bam_drs_id, acc FROM thousand_genomes.onek_genomes.ssd_drs s  join thousand_genomes.onek_genomes.sra_drs_files f on f.sample_name = s.su_submitter_id  where filetype = 'bam' and mapped = 'mapped'  and sequencing_type ='exome' and  population = 'PUR' LIMIT 3\", \"parameters\":[]}\n",
      "Retrieving the query\n",
      "____Page1_______________\n",
      "b'{\"data\":[],\"pagination\":{\"next_page_url\":\"https://ga4gh-search-adapter-presto-public.prod.dnastack.com/search/v1/statement/queued/20220630_013046_00004_qrrje/yc419b2e309e07bfcbe020a8b84c48b774ce08236/1?queryJobId=20220630_013046_00004_qrrje\"}}'\n",
      "{\n",
      "   \"data\": [],\n",
      "   \"pagination\": {\n",
      "      \"next_page_url\": \"https://ga4gh-search-adapter-presto-public.prod.dnastack.com/search/v1/statement/queued/20220630_013046_00004_qrrje/yc419b2e309e07bfcbe020a8b84c48b774ce08236/1?queryJobId=20220630_013046_00004_qrrje\"\n",
      "   }\n",
      "}\n",
      "____Page2_______________\n",
      "b'{\"data\":[],\"pagination\":{\"next_page_url\":\"https://ga4gh-search-adapter-presto-public.prod.dnastack.com/search/v1/statement/queued/20220630_013046_00004_qrrje/y6428b70c3f94cb5c7753ad35d910366b0966735a/2?queryJobId=20220630_013046_00004_qrrje\"}}'\n",
      "{\n",
      "   \"data\": [],\n",
      "   \"pagination\": {\n",
      "      \"next_page_url\": \"https://ga4gh-search-adapter-presto-public.prod.dnastack.com/search/v1/statement/queued/20220630_013046_00004_qrrje/y6428b70c3f94cb5c7753ad35d910366b0966735a/2?queryJobId=20220630_013046_00004_qrrje\"\n",
      "   }\n",
      "}\n",
      "____Page3_______________\n",
      "b'{\"data\":[],\"pagination\":{\"next_page_url\":\"https://ga4gh-search-adapter-presto-public.prod.dnastack.com/search/v1/statement/queued/20220630_013046_00004_qrrje/yaf9e7074e1068930b4f205c30156dab86fb7a01b/3?queryJobId=20220630_013046_00004_qrrje\"}}'\n",
      "{\n",
      "   \"data\": [],\n",
      "   \"pagination\": {\n",
      "      \"next_page_url\": \"https://ga4gh-search-adapter-presto-public.prod.dnastack.com/search/v1/statement/queued/20220630_013046_00004_qrrje/yaf9e7074e1068930b4f205c30156dab86fb7a01b/3?queryJobId=20220630_013046_00004_qrrje\"\n",
      "   }\n",
      "}\n",
      "____Page4_______________\n",
      "b'{\"data\":[],\"pagination\":{\"next_page_url\":\"https://ga4gh-search-adapter-presto-public.prod.dnastack.com/search/v1/statement/queued/20220630_013046_00004_qrrje/y06733a33b585fc1cb3e7ce1116dbbbe6998a8b83/4?queryJobId=20220630_013046_00004_qrrje\"}}'\n",
      "{\n",
      "   \"data\": [],\n",
      "   \"pagination\": {\n",
      "      \"next_page_url\": \"https://ga4gh-search-adapter-presto-public.prod.dnastack.com/search/v1/statement/queued/20220630_013046_00004_qrrje/y06733a33b585fc1cb3e7ce1116dbbbe6998a8b83/4?queryJobId=20220630_013046_00004_qrrje\"\n",
      "   }\n",
      "}\n",
      "____Page5_______________\n",
      "b'{\"data\":[],\"pagination\":{\"next_page_url\":\"https://ga4gh-search-adapter-presto-public.prod.dnastack.com/search/v1/statement/queued/20220630_013046_00004_qrrje/y44d2cf8e920bd9bbdce2cca023f32ed74ba7fe6a/5?queryJobId=20220630_013046_00004_qrrje\"}}'\n",
      "{\n",
      "   \"data\": [],\n",
      "   \"pagination\": {\n",
      "      \"next_page_url\": \"https://ga4gh-search-adapter-presto-public.prod.dnastack.com/search/v1/statement/queued/20220630_013046_00004_qrrje/y44d2cf8e920bd9bbdce2cca023f32ed74ba7fe6a/5?queryJobId=20220630_013046_00004_qrrje\"\n",
      "   }\n",
      "}\n",
      "____Page6_______________\n",
      "b'{\"data\":[],\"pagination\":{\"next_page_url\":\"https://ga4gh-search-adapter-presto-public.prod.dnastack.com/search/v1/statement/executing/20220630_013046_00004_qrrje/y03a3d3090625ca22000c70ae7489ad119841cc4c/0?queryJobId=20220630_013046_00004_qrrje\"}}'\n",
      "{\n",
      "   \"data\": [],\n",
      "   \"pagination\": {\n",
      "      \"next_page_url\": \"https://ga4gh-search-adapter-presto-public.prod.dnastack.com/search/v1/statement/executing/20220630_013046_00004_qrrje/y03a3d3090625ca22000c70ae7489ad119841cc4c/0?queryJobId=20220630_013046_00004_qrrje\"\n",
      "   }\n",
      "}\n",
      "____Page7_______________\n",
      "b'{\"data_model\":{\"description\":\"Automatically generated schema\",\"$schema\":\"http://json-schema.org/draft-07/schema#\",\"properties\":{\"sample_name\":{\"format\":\"varchar\",\"type\":\"string\",\"$comment\":\"varchar\"},\"bam_drs_id\":{\"format\":\"varchar\",\"type\":\"string\",\"$comment\":\"varchar\"},\"acc\":{\"format\":\"varchar\",\"type\":\"string\",\"$comment\":\"varchar\"}}},\"data\":[{\"sample_name\":\"HG00731\",\"bam_drs_id\":\"515ae091f29ac699a4d2e272812cea47\",\"acc\":\"SRR1606560\"},{\"sample_name\":\"HG00637\",\"bam_drs_id\":\"475dfc02f643c368036df6816d05afe4\",\"acc\":\"SRR1596919\"},{\"sample_name\":\"HG00640\",\"bam_drs_id\":\"58e2964f2a0adbf41ab0e8c7a95e7d0c\",\"acc\":\"SRR1596923\"}],\"pagination\":{\"next_page_url\":\"https://ga4gh-search-adapter-presto-public.prod.dnastack.com/search/v1/statement/executing/20220630_013046_00004_qrrje/yee7a87d27904729927ceccd49813ec7255298af1/1?queryJobId=20220630_013046_00004_qrrje\"}}'\n",
      "{\n",
      "   \"data_model\": {\n",
      "      \"description\": \"Automatically generated schema\",\n",
      "      \"$schema\": \"http://json-schema.org/draft-07/schema#\",\n",
      "      \"properties\": {\n",
      "         \"sample_name\": {\n",
      "            \"format\": \"varchar\",\n",
      "            \"type\": \"string\",\n",
      "            \"$comment\": \"varchar\"\n",
      "         },\n",
      "         \"bam_drs_id\": {\n",
      "            \"format\": \"varchar\",\n",
      "            \"type\": \"string\",\n",
      "            \"$comment\": \"varchar\"\n",
      "         },\n",
      "         \"acc\": {\n",
      "            \"format\": \"varchar\",\n",
      "            \"type\": \"string\",\n",
      "            \"$comment\": \"varchar\"\n",
      "         }\n",
      "      }\n",
      "   },\n",
      "   \"data\": [\n",
      "      {\n",
      "         \"sample_name\": \"HG00731\",\n",
      "         \"bam_drs_id\": \"515ae091f29ac699a4d2e272812cea47\",\n",
      "         \"acc\": \"SRR1606560\"\n",
      "      },\n",
      "      {\n",
      "         \"sample_name\": \"HG00637\",\n",
      "         \"bam_drs_id\": \"475dfc02f643c368036df6816d05afe4\",\n",
      "         \"acc\": \"SRR1596919\"\n",
      "      },\n",
      "      {\n",
      "         \"sample_name\": \"HG00640\",\n",
      "         \"bam_drs_id\": \"58e2964f2a0adbf41ab0e8c7a95e7d0c\",\n",
      "         \"acc\": \"SRR1596923\"\n",
      "      }\n",
      "   ],\n",
      "   \"pagination\": {\n",
      "      \"next_page_url\": \"https://ga4gh-search-adapter-presto-public.prod.dnastack.com/search/v1/statement/executing/20220630_013046_00004_qrrje/yee7a87d27904729927ceccd49813ec7255298af1/1?queryJobId=20220630_013046_00004_qrrje\"\n",
      "   }\n",
      "}\n",
      "found data model\n",
      "____Page8_______________\n",
      "b'{\"data\":[],\"pagination\":{}}'\n",
      "{\n",
      "   \"data\": [],\n",
      "   \"pagination\": {}\n",
      "}\n"
     ]
    },
    {
     "data": {
      "text/plain": [
       "[{'sample_name': 'HG00731',\n",
       "  'bam_drs_id': '515ae091f29ac699a4d2e272812cea47',\n",
       "  'acc': 'SRR1606560'},\n",
       " {'sample_name': 'HG00637',\n",
       "  'bam_drs_id': '475dfc02f643c368036df6816d05afe4',\n",
       "  'acc': 'SRR1596919'},\n",
       " {'sample_name': 'HG00640',\n",
       "  'bam_drs_id': '58e2964f2a0adbf41ab0e8c7a95e7d0c',\n",
       "  'acc': 'SRR1596923'}]"
      ]
     },
     "execution_count": 83,
     "metadata": {},
     "output_type": "execute_result"
    }
   ],
   "source": [
    "json_result = searchClient.run_query(query, returnType='json')\n",
    "json_result"
   ]
  },
  {
   "cell_type": "code",
   "execution_count": 110,
   "metadata": {},
   "outputs": [
    {
     "data": {
      "text/html": [
       "<div>\n",
       "<style scoped>\n",
       "    .dataframe tbody tr th:only-of-type {\n",
       "        vertical-align: middle;\n",
       "    }\n",
       "\n",
       "    .dataframe tbody tr th {\n",
       "        vertical-align: top;\n",
       "    }\n",
       "\n",
       "    .dataframe thead th {\n",
       "        text-align: right;\n",
       "    }\n",
       "</style>\n",
       "<table border=\"1\" class=\"dataframe\">\n",
       "  <thead>\n",
       "    <tr style=\"text-align: right;\">\n",
       "      <th></th>\n",
       "      <th>sample_name</th>\n",
       "      <th>bam_drs_id</th>\n",
       "      <th>acc</th>\n",
       "      <th>run_id</th>\n",
       "      <th>count_result</th>\n",
       "    </tr>\n",
       "  </thead>\n",
       "  <tbody>\n",
       "    <tr>\n",
       "      <th>0</th>\n",
       "      <td>HG00731</td>\n",
       "      <td>515ae091f29ac699a4d2e272812cea47</td>\n",
       "      <td>SRR1606560</td>\n",
       "      <td>9a8df37a-d265-4159-8d64-37244ff8f63a</td>\n",
       "      <td>RUNNING</td>\n",
       "    </tr>\n",
       "    <tr>\n",
       "      <th>1</th>\n",
       "      <td>HG00637</td>\n",
       "      <td>475dfc02f643c368036df6816d05afe4</td>\n",
       "      <td>SRR1596919</td>\n",
       "      <td>493e58a7-b631-4482-9a3c-b069a0b73cba</td>\n",
       "      <td>102554431</td>\n",
       "    </tr>\n",
       "    <tr>\n",
       "      <th>2</th>\n",
       "      <td>HG00640</td>\n",
       "      <td>58e2964f2a0adbf41ab0e8c7a95e7d0c</td>\n",
       "      <td>SRR1596923</td>\n",
       "      <td>25b1b213-6fee-4122-a26c-b348c08610fd</td>\n",
       "      <td>102424655</td>\n",
       "    </tr>\n",
       "  </tbody>\n",
       "</table>\n",
       "</div>"
      ],
      "text/plain": [
       "  sample_name                        bam_drs_id         acc  \\\n",
       "0     HG00731  515ae091f29ac699a4d2e272812cea47  SRR1606560   \n",
       "1     HG00637  475dfc02f643c368036df6816d05afe4  SRR1596919   \n",
       "2     HG00640  58e2964f2a0adbf41ab0e8c7a95e7d0c  SRR1596923   \n",
       "\n",
       "                                 run_id count_result  \n",
       "0  9a8df37a-d265-4159-8d64-37244ff8f63a      RUNNING  \n",
       "1  493e58a7-b631-4482-9a3c-b069a0b73cba    102554431  \n",
       "2  25b1b213-6fee-4122-a26c-b348c08610fd    102424655  "
      ]
     },
     "execution_count": 110,
     "metadata": {},
     "output_type": "execute_result"
    }
   ],
   "source": [
    "import pandas as pd\n",
    "first_df = pd.DataFrame(json_result)\n",
    "first_df"
   ]
  },
  {
   "cell_type": "markdown",
   "metadata": {},
   "source": [
    "### Use DRS to obtain file details"
   ]
  },
  {
   "cell_type": "markdown",
   "metadata": {},
   "source": [
    "The method of calling the Data Connect client above returns a dataframe. This is convenient for many purposes, including listing the results as above. The default return type from the runQuery gives a list of lists."
   ]
  },
  {
   "cell_type": "code",
   "execution_count": 71,
   "metadata": {},
   "outputs": [
    {
     "name": "stdout",
     "output_type": "stream",
     "text": [
      "Retrieving the query\n",
      "____Page1_______________\n",
      "____Page2_______________\n",
      "____Page3_______________\n",
      "____Page4_______________\n",
      "____Page5_______________\n",
      "____Page6_______________\n",
      "____Page7_______________\n"
     ]
    },
    {
     "data": {
      "text/plain": [
       "[['HG00731', '515ae091f29ac699a4d2e272812cea47', 'SRR1606560'],\n",
       " ['HG00637', '475dfc02f643c368036df6816d05afe4', 'SRR1596919'],\n",
       " ['HG00640', '58e2964f2a0adbf41ab0e8c7a95e7d0c', 'SRR1596923']]"
      ]
     },
     "execution_count": 71,
     "metadata": {},
     "output_type": "execute_result"
    }
   ],
   "source": [
    "results = searchClient.run_query(query)\n",
    "results"
   ]
  },
  {
   "cell_type": "markdown",
   "metadata": {},
   "source": [
    "The following shows how the SRA DRS server can be used to determine where the files can be obtained from. The following shows this for the first DRS id from the query results. "
   ]
  },
  {
   "cell_type": "code",
   "execution_count": 84,
   "metadata": {},
   "outputs": [
    {
     "name": "stdout",
     "output_type": "stream",
     "text": [
      "515ae091f29ac699a4d2e272812cea47\n"
     ]
    },
    {
     "data": {
      "text/plain": [
       "{'access_methods': [{'access_id': '8cc282a3e09887491fa5aa7ff1c209b1a4b9bf1cc55dd9767075e625968f364a',\n",
       "   'region': 'gs.US',\n",
       "   'type': 'https'},\n",
       "  {'access_id': '2c8e9f0f20117987660e677c0d3556c198ec109447b378dfcc6f8639b6a0b5e2',\n",
       "   'type': 'https'},\n",
       "  {'access_id': 'fa57eb71b1f001a479f2462a0ca9fc9f35f64e544150086e4a55fc86d8eeaed3',\n",
       "   'region': 's3.us-east-1',\n",
       "   'type': 'https'}],\n",
       " 'checksums': [{'checksum': '515ae091f29ac699a4d2e272812cea47',\n",
       "   'type': 'md5'}],\n",
       " 'created_time': '2013-05-08T10:25:13Z',\n",
       " 'id': '515ae091f29ac699a4d2e272812cea47',\n",
       " 'name': 'HG00731.mapped.ILLUMINA.bwa.PUR.exome.20130422.bam',\n",
       " 'self_url': 'drs://locate.be-md.ncbi.nlm.nih.gov/515ae091f29ac699a4d2e272812cea47',\n",
       " 'size': 32108614682}"
      ]
     },
     "execution_count": 84,
     "metadata": {},
     "output_type": "execute_result"
    }
   ],
   "source": [
    "from fasp.loc import DRSClient\n",
    "\n",
    "drsClient = DRSClient('https://locate.be-md.ncbi.nlm.nih.gov', public=True, debug=False)\n",
    "test_id = json_result[0]['bam_drs_id']\n",
    "print(test_id)\n",
    "objInfo = drsClient.get_object(test_id)\n",
    "objInfo"
   ]
  },
  {
   "cell_type": "markdown",
   "metadata": {},
   "source": [
    "A second DRS call can be used to obtain a url to access the file from one of the above locations."
   ]
  },
  {
   "cell_type": "code",
   "execution_count": 5,
   "metadata": {},
   "outputs": [
    {
     "name": "stdout",
     "output_type": "stream",
     "text": [
      "access_id:1e4846c05c81a49f684e7f940ffbd3a98e5f0e335f019ee4d32d85c72096b743\n",
      "url:https://storage.googleapis.com/genomics-public-data/ftp-trace.ncbi.nih.gov/1000genomes/ftp/phase3/data/NA18948/exome_alignment/NA18948.mapped.ILLUMINA.bwa.JPT.exome.20121211.bam\n"
     ]
    }
   ],
   "source": [
    "access_id = objInfo['access_methods'][0]['access_id']\n",
    "print('access_id:{}'.format(access_id))\n",
    "url = drsClient.get_access_url(test_id, access_id=access_id)\n",
    "print('url:{}'.format(url))"
   ]
  },
  {
   "cell_type": "markdown",
   "metadata": {},
   "source": [
    "### Set up a WES client"
   ]
  },
  {
   "cell_type": "code",
   "execution_count": 74,
   "metadata": {},
   "outputs": [],
   "source": [
    "from fasp.workflow import sbcgcWESClient\n",
    "wesClient = sbcgcWESClient(SB_PROJECT, api_key_path=SB_API_KEY_PATH)"
   ]
  },
  {
   "cell_type": "markdown",
   "metadata": {},
   "source": [
    "#### Define a function to submit the workflow"
   ]
  },
  {
   "cell_type": "code",
   "execution_count": 80,
   "metadata": {},
   "outputs": [],
   "source": [
    "import json\n",
    "import requests\n",
    "\n",
    "def runWorkflow(wesClient, fileurl, outfile):\n",
    "\n",
    "    sam_view_app = 'sbg://forei/ismb-tutorial/samtools-view-drsurl-1-8-url'\n",
    "\n",
    "    ref_drs_id = 'drs://cgc-ga4gh-api.sbgenomics.com/5caf7ebec80cb0e41b007adf'\n",
    "    params = {\n",
    "        \"project\": wesClient.project_id,\n",
    "        \"inputs\": {\n",
    "          \"alignment_file_url\": fileurl,\n",
    "          \"count_alignments\": True,\n",
    "          \"reference_file\": {\n",
    "            \"path\": ref_drs_id,\n",
    "            \"name\": \"references-hs37d5-hs37d5.fasta\",\n",
    "            \"class\": \"File\"\n",
    "          },\n",
    "          \"output_file_path\": outfile\n",
    "        }\n",
    "     }\n",
    "\n",
    "\n",
    "    body = {\n",
    "      \"workflow_params\": (None, json.dumps(params), 'application/json'),\n",
    "      \"workflow_type\": \"CWL\",\n",
    "      \"workflow_type_version\": \"sbg:draft-2\",\n",
    "      \"workflow_url\": sam_view_app\n",
    "    }\n",
    "    #print(wesClient.api_url_base)\n",
    "    #response = requests.request(\"POST\", wesClient.api_url_base+'/runs', \n",
    "    #                            headers=wesClient.headers, files = body)\n",
    "    \n",
    "    run_id= wesClient.run_generic_workflow(\n",
    "        workflow_url=sam_view_app,\n",
    "        workflow_params = json.dumps(params),\n",
    "        workflow_type = \"CWL\",\n",
    "        workflow_type_version = \"sbg:draft-2\",\n",
    "        verbose=False\n",
    "    )\n",
    "    return(run_id)"
   ]
  },
  {
   "cell_type": "markdown",
   "metadata": {},
   "source": [
    "This is the loop that would normally be within FASPRunner, but because of the different approach to access_id we will write a custom version"
   ]
  },
  {
   "cell_type": "code",
   "execution_count": 87,
   "metadata": {},
   "outputs": [
    {
     "name": "stdout",
     "output_type": "stream",
     "text": [
      "subject=515ae091f29ac699a4d2e272812cea47, drsID=HG00731\n",
      "Submitted run 9a8df37a-d265-4159-8d64-37244ff8f63a to sbcgcWESClient\n",
      "_________________________________________________________________________\n",
      "subject=475dfc02f643c368036df6816d05afe4, drsID=HG00637\n",
      "Submitted run 493e58a7-b631-4482-9a3c-b069a0b73cba to sbcgcWESClient\n",
      "_________________________________________________________________________\n",
      "subject=58e2964f2a0adbf41ab0e8c7a95e7d0c, drsID=HG00640\n",
      "Submitted run 25b1b213-6fee-4122-a26c-b348c08610fd to sbcgcWESClient\n",
      "_________________________________________________________________________\n"
     ]
    }
   ],
   "source": [
    "import datetime\n",
    "\n",
    "# set the region we want to access data from\n",
    "region = 's3.us-east-1'\n",
    "my_runs = []\n",
    "        \n",
    "for row in json_result:\n",
    "\n",
    "    print(\"subject={}, drsID={}\".format(row['bam_drs_id'], row['sample_name']))\n",
    "    drs_id = row['bam_drs_id']\n",
    "\n",
    "\n",
    "    objInfo = drsClient.get_object(drs_id)\n",
    "    url = drsClient.get_url_for_region(drs_id,region)\n",
    "\n",
    "    # Step 3 - Run a pipeline on the file at the drs url\n",
    "    if url != None:\n",
    "        outfile = \"{}.txt\".format(row['sample_name'])\n",
    "        time = datetime.datetime.now().strftime(\"%Y-%m-%d %H:%M:%S\")\n",
    "        run_id = runWorkflow(wesClient, url, outfile)\n",
    "        print('Submitted run {} to {}'.format(run_id, wesClient.__class__.__name__))\n",
    "        my_runs.append(run_id)\n",
    "        row['run_id']=run_id\n",
    "    print('_________________________________________________________________________')"
   ]
  },
  {
   "cell_type": "code",
   "execution_count": 99,
   "metadata": {},
   "outputs": [
    {
     "data": {
      "text/plain": [
       "[{'sample_name': 'HG00731',\n",
       "  'bam_drs_id': '515ae091f29ac699a4d2e272812cea47',\n",
       "  'acc': 'SRR1606560',\n",
       "  'run_id': '9a8df37a-d265-4159-8d64-37244ff8f63a'},\n",
       " {'sample_name': 'HG00637',\n",
       "  'bam_drs_id': '475dfc02f643c368036df6816d05afe4',\n",
       "  'acc': 'SRR1596919',\n",
       "  'run_id': '493e58a7-b631-4482-9a3c-b069a0b73cba'},\n",
       " {'sample_name': 'HG00640',\n",
       "  'bam_drs_id': '58e2964f2a0adbf41ab0e8c7a95e7d0c',\n",
       "  'acc': 'SRR1596923',\n",
       "  'run_id': '25b1b213-6fee-4122-a26c-b348c08610fd'}]"
      ]
     },
     "execution_count": 99,
     "metadata": {},
     "output_type": "execute_result"
    }
   ],
   "source": [
    "json_result"
   ]
  },
  {
   "cell_type": "code",
   "execution_count": 111,
   "metadata": {},
   "outputs": [
    {
     "name": "stdout",
     "output_type": "stream",
     "text": [
      "Run 9a8df37a-d265-4159-8d64-37244ff8f63a COMPLETE\n",
      "Run 493e58a7-b631-4482-9a3c-b069a0b73cba COMPLETE\n",
      "Run 25b1b213-6fee-4122-a26c-b348c08610fd COMPLETE\n"
     ]
    }
   ],
   "source": [
    "for run in json_result:\n",
    "    status = wesClient.get_task_status(run['run_id'])\n",
    "    print((\"Run {} {}\".format(run['run_id'], status)))"
   ]
  },
  {
   "cell_type": "markdown",
   "metadata": {},
   "source": [
    "## Getting the results"
   ]
  },
  {
   "cell_type": "code",
   "execution_count": 93,
   "metadata": {},
   "outputs": [
    {
     "data": {
      "text/plain": [
       "{'request': {'tags': {},\n",
       "  'workflow_params': {'name': 'SAMtools View 1.8 run - 06-30-22 01:38:16',\n",
       "   'project': 'forei/ismb-tutorial',\n",
       "   'inputs': {'total_memory_GB': None,\n",
       "    'coverage_limit': None,\n",
       "    'count_alignments': True,\n",
       "    'include_only_read_group': None,\n",
       "    'remove_duplicates': None,\n",
       "    'max_insert_size': None,\n",
       "    'reference_file': {'path': 'drs://cgc-ga4gh-api.sbgenomics.com/62b07ea84e3edb6b1c23c8d5',\n",
       "     'name': 'Homo_sapiens_assembly19_1000genomes_decoy.fasta',\n",
       "     'class': 'File'},\n",
       "    'output_file_path': 'HG00731.txt',\n",
       "    'alignment_file_url': 'https://1000genomes.s3.amazonaws.com/phase3/data/HG00731/exome_alignment/HG00731.mapped.ILLUMINA.bwa.PUR.exome.20130422.bam'}},\n",
       "  'workflow_type': 'CWL',\n",
       "  'workflow_engine_params': {},\n",
       "  'workflow_url': 'sbg://forei/ismb-tutorial/samtools-view-drsurl-1-8-url'},\n",
       " 'state': 'RUNNING',\n",
       " 'outputs': {'counts': None},\n",
       " 'run_id': '9a8df37a-d265-4159-8d64-37244ff8f63a',\n",
       " 'run_log': {'name': 'SAMtools View 1.8 run - 06-30-22 01:38:16',\n",
       "  'cmd': None,\n",
       "  'start_time': '2022-06-30T01:38:19Z',\n",
       "  'end_time': '2022-06-30T01:46:45Z',\n",
       "  'stdout': None,\n",
       "  'stderr': None,\n",
       "  'exit_code': 0},\n",
       " 'task_logs': [{'name': 'samtools-view-drsurl-1-8-url',\n",
       "   'cmd': '/opt/samtools-1.8/samtools view -c --reference /sbgenomics/Projects/4a147bd5-8c29-4fc4-b6aa-a71aeb36ff61/Homo_sapiens_assembly19_1000genomes_decoy.fasta \"https://1000genomes.s3.amazonaws.com/phase3/data/HG00731/exome_alignment/HG00731.mapped.ILLUMINA.bwa.PUR.exome.20130422.bam\" > HG00731.txt',\n",
       "   'start_time': '2022-06-30T01:40:35Z',\n",
       "   'end_time': '2022-06-30T01:46:45Z',\n",
       "   'stdout': None,\n",
       "   'stderr': None,\n",
       "   'exit_code': 0}]}"
      ]
     },
     "execution_count": 93,
     "metadata": {},
     "output_type": "execute_result"
    }
   ],
   "source": [
    "runLog = wesClient.get_run_log(my_runs[0])\n",
    "runLog"
   ]
  },
  {
   "cell_type": "markdown",
   "metadata": {},
   "source": [
    "Use the Seven Bridges CGC DRS service to retrieve the output file"
   ]
  },
  {
   "cell_type": "code",
   "execution_count": 97,
   "metadata": {},
   "outputs": [
    {
     "ename": "TypeError",
     "evalue": "'NoneType' object is not subscriptable",
     "output_type": "error",
     "traceback": [
      "\u001b[0;31m---------------------------------------------------------------------------\u001b[0m",
      "\u001b[0;31mTypeError\u001b[0m                                 Traceback (most recent call last)",
      "Input \u001b[0;32mIn [97]\u001b[0m, in \u001b[0;36m<cell line: 3>\u001b[0;34m()\u001b[0m\n\u001b[1;32m      1\u001b[0m \u001b[38;5;28;01mfrom\u001b[39;00m  \u001b[38;5;21;01mfasp\u001b[39;00m\u001b[38;5;21;01m.\u001b[39;00m\u001b[38;5;21;01mloc\u001b[39;00m \u001b[38;5;28;01mimport\u001b[39;00m sbcgcDRSClient\n\u001b[1;32m      2\u001b[0m results_DRS_client \u001b[38;5;241m=\u001b[39m sbcgcDRSClient(SB_API_KEY_PATH, \u001b[38;5;124m'\u001b[39m\u001b[38;5;124ms3\u001b[39m\u001b[38;5;124m'\u001b[39m)\n\u001b[0;32m----> 3\u001b[0m resultsDRSID \u001b[38;5;241m=\u001b[39m \u001b[43mrunLog\u001b[49m\u001b[43m[\u001b[49m\u001b[38;5;124;43m'\u001b[39;49m\u001b[38;5;124;43moutputs\u001b[39;49m\u001b[38;5;124;43m'\u001b[39;49m\u001b[43m]\u001b[49m\u001b[43m[\u001b[49m\u001b[38;5;124;43m'\u001b[39;49m\u001b[38;5;124;43mcounts\u001b[39;49m\u001b[38;5;124;43m'\u001b[39;49m\u001b[43m]\u001b[49m\u001b[43m[\u001b[49m\u001b[38;5;124;43m'\u001b[39;49m\u001b[38;5;124;43mpath\u001b[39;49m\u001b[38;5;124;43m'\u001b[39;49m\u001b[43m]\u001b[49m\n\u001b[1;32m      4\u001b[0m resultsDRSID \u001b[38;5;241m=\u001b[39m resultsDRSID\u001b[38;5;241m.\u001b[39msplit(\u001b[38;5;124m'\u001b[39m\u001b[38;5;124m/\u001b[39m\u001b[38;5;124m'\u001b[39m)[\u001b[38;5;241m-\u001b[39m\u001b[38;5;241m1\u001b[39m]\n\u001b[1;32m      5\u001b[0m \u001b[38;5;28mprint\u001b[39m(resultsDRSID)\n",
      "\u001b[0;31mTypeError\u001b[0m: 'NoneType' object is not subscriptable"
     ]
    }
   ],
   "source": [
    "from  fasp.loc import sbcgcDRSClient\n",
    "results_DRS_client = sbcgcDRSClient(SB_API_KEY_PATH, 's3')\n",
    "resultsDRSID = runLog['outputs']['counts']['path']\n",
    "resultsDRSID = resultsDRSID.split('/')[-1]\n",
    "print(resultsDRSID)\n",
    "fileDetails = results_DRS_client.get_object(resultsDRSID)\n",
    "print(fileDetails)\n",
    "url = results_DRS_client.get_access_url(resultsDRSID, 's3')"
   ]
  },
  {
   "cell_type": "code",
   "execution_count": 98,
   "metadata": {},
   "outputs": [
    {
     "name": "stdout",
     "output_type": "stream",
     "text": [
      "https://1000genomes.s3.amazonaws.com/phase3/data/HG00640/exome_alignment/HG00640.mapped.ILLUMINA.bwa.PUR.exome.20120522.bam\n"
     ]
    },
    {
     "ename": "KeyboardInterrupt",
     "evalue": "",
     "output_type": "error",
     "traceback": [
      "\u001b[0;31m---------------------------------------------------------------------------\u001b[0m",
      "\u001b[0;31mKeyboardInterrupt\u001b[0m                         Traceback (most recent call last)",
      "Input \u001b[0;32mIn [98]\u001b[0m, in \u001b[0;36m<cell line: 4>\u001b[0;34m()\u001b[0m\n\u001b[1;32m      2\u001b[0m fullPath \u001b[38;5;241m=\u001b[39m \u001b[38;5;124m'\u001b[39m\u001b[38;5;124m~/Downloads/\u001b[39m\u001b[38;5;124m'\u001b[39m \u001b[38;5;241m+\u001b[39m fileDetails[\u001b[38;5;124m'\u001b[39m\u001b[38;5;124mname\u001b[39m\u001b[38;5;124m'\u001b[39m]\n\u001b[1;32m      3\u001b[0m \u001b[38;5;28mprint\u001b[39m(url)\n\u001b[0;32m----> 4\u001b[0m \u001b[43mdownload\u001b[49m\u001b[43m(\u001b[49m\u001b[43murl\u001b[49m\u001b[43m,\u001b[49m\u001b[43m \u001b[49m\u001b[43mfullPath\u001b[49m\u001b[43m)\u001b[49m\n",
      "Input \u001b[0;32mIn [95]\u001b[0m, in \u001b[0;36mdownload\u001b[0;34m(url, file_path)\u001b[0m\n\u001b[1;32m      3\u001b[0m \u001b[38;5;28;01mdef\u001b[39;00m \u001b[38;5;21mdownload\u001b[39m(url, file_path):\n\u001b[1;32m      4\u001b[0m     \u001b[38;5;28;01mwith\u001b[39;00m \u001b[38;5;28mopen\u001b[39m(os\u001b[38;5;241m.\u001b[39mpath\u001b[38;5;241m.\u001b[39mexpanduser(file_path), \u001b[38;5;124m\"\u001b[39m\u001b[38;5;124mwb\u001b[39m\u001b[38;5;124m\"\u001b[39m) \u001b[38;5;28;01mas\u001b[39;00m file:\n\u001b[0;32m----> 5\u001b[0m         response \u001b[38;5;241m=\u001b[39m \u001b[43mrequests\u001b[49m\u001b[38;5;241;43m.\u001b[39;49m\u001b[43mget\u001b[49m\u001b[43m(\u001b[49m\u001b[43murl\u001b[49m\u001b[43m)\u001b[49m\n\u001b[1;32m      6\u001b[0m         file\u001b[38;5;241m.\u001b[39mwrite(response\u001b[38;5;241m.\u001b[39mcontent)\n",
      "File \u001b[0;32m~/imfenvs/ismb1/lib/python3.9/site-packages/requests/api.py:73\u001b[0m, in \u001b[0;36mget\u001b[0;34m(url, params, **kwargs)\u001b[0m\n\u001b[1;32m     62\u001b[0m \u001b[38;5;28;01mdef\u001b[39;00m \u001b[38;5;21mget\u001b[39m(url, params\u001b[38;5;241m=\u001b[39m\u001b[38;5;28;01mNone\u001b[39;00m, \u001b[38;5;241m*\u001b[39m\u001b[38;5;241m*\u001b[39mkwargs):\n\u001b[1;32m     63\u001b[0m     \u001b[38;5;124mr\u001b[39m\u001b[38;5;124;03m\"\"\"Sends a GET request.\u001b[39;00m\n\u001b[1;32m     64\u001b[0m \n\u001b[1;32m     65\u001b[0m \u001b[38;5;124;03m    :param url: URL for the new :class:`Request` object.\u001b[39;00m\n\u001b[0;32m   (...)\u001b[0m\n\u001b[1;32m     70\u001b[0m \u001b[38;5;124;03m    :rtype: requests.Response\u001b[39;00m\n\u001b[1;32m     71\u001b[0m \u001b[38;5;124;03m    \"\"\"\u001b[39;00m\n\u001b[0;32m---> 73\u001b[0m     \u001b[38;5;28;01mreturn\u001b[39;00m \u001b[43mrequest\u001b[49m\u001b[43m(\u001b[49m\u001b[38;5;124;43m\"\u001b[39;49m\u001b[38;5;124;43mget\u001b[39;49m\u001b[38;5;124;43m\"\u001b[39;49m\u001b[43m,\u001b[49m\u001b[43m \u001b[49m\u001b[43murl\u001b[49m\u001b[43m,\u001b[49m\u001b[43m \u001b[49m\u001b[43mparams\u001b[49m\u001b[38;5;241;43m=\u001b[39;49m\u001b[43mparams\u001b[49m\u001b[43m,\u001b[49m\u001b[43m \u001b[49m\u001b[38;5;241;43m*\u001b[39;49m\u001b[38;5;241;43m*\u001b[39;49m\u001b[43mkwargs\u001b[49m\u001b[43m)\u001b[49m\n",
      "File \u001b[0;32m~/imfenvs/ismb1/lib/python3.9/site-packages/requests/api.py:59\u001b[0m, in \u001b[0;36mrequest\u001b[0;34m(method, url, **kwargs)\u001b[0m\n\u001b[1;32m     55\u001b[0m \u001b[38;5;66;03m# By using the 'with' statement we are sure the session is closed, thus we\u001b[39;00m\n\u001b[1;32m     56\u001b[0m \u001b[38;5;66;03m# avoid leaving sockets open which can trigger a ResourceWarning in some\u001b[39;00m\n\u001b[1;32m     57\u001b[0m \u001b[38;5;66;03m# cases, and look like a memory leak in others.\u001b[39;00m\n\u001b[1;32m     58\u001b[0m \u001b[38;5;28;01mwith\u001b[39;00m sessions\u001b[38;5;241m.\u001b[39mSession() \u001b[38;5;28;01mas\u001b[39;00m session:\n\u001b[0;32m---> 59\u001b[0m     \u001b[38;5;28;01mreturn\u001b[39;00m \u001b[43msession\u001b[49m\u001b[38;5;241;43m.\u001b[39;49m\u001b[43mrequest\u001b[49m\u001b[43m(\u001b[49m\u001b[43mmethod\u001b[49m\u001b[38;5;241;43m=\u001b[39;49m\u001b[43mmethod\u001b[49m\u001b[43m,\u001b[49m\u001b[43m \u001b[49m\u001b[43murl\u001b[49m\u001b[38;5;241;43m=\u001b[39;49m\u001b[43murl\u001b[49m\u001b[43m,\u001b[49m\u001b[43m \u001b[49m\u001b[38;5;241;43m*\u001b[39;49m\u001b[38;5;241;43m*\u001b[39;49m\u001b[43mkwargs\u001b[49m\u001b[43m)\u001b[49m\n",
      "File \u001b[0;32m~/imfenvs/ismb1/lib/python3.9/site-packages/requests/sessions.py:587\u001b[0m, in \u001b[0;36mSession.request\u001b[0;34m(self, method, url, params, data, headers, cookies, files, auth, timeout, allow_redirects, proxies, hooks, stream, verify, cert, json)\u001b[0m\n\u001b[1;32m    582\u001b[0m send_kwargs \u001b[38;5;241m=\u001b[39m {\n\u001b[1;32m    583\u001b[0m     \u001b[38;5;124m\"\u001b[39m\u001b[38;5;124mtimeout\u001b[39m\u001b[38;5;124m\"\u001b[39m: timeout,\n\u001b[1;32m    584\u001b[0m     \u001b[38;5;124m\"\u001b[39m\u001b[38;5;124mallow_redirects\u001b[39m\u001b[38;5;124m\"\u001b[39m: allow_redirects,\n\u001b[1;32m    585\u001b[0m }\n\u001b[1;32m    586\u001b[0m send_kwargs\u001b[38;5;241m.\u001b[39mupdate(settings)\n\u001b[0;32m--> 587\u001b[0m resp \u001b[38;5;241m=\u001b[39m \u001b[38;5;28;43mself\u001b[39;49m\u001b[38;5;241;43m.\u001b[39;49m\u001b[43msend\u001b[49m\u001b[43m(\u001b[49m\u001b[43mprep\u001b[49m\u001b[43m,\u001b[49m\u001b[43m \u001b[49m\u001b[38;5;241;43m*\u001b[39;49m\u001b[38;5;241;43m*\u001b[39;49m\u001b[43msend_kwargs\u001b[49m\u001b[43m)\u001b[49m\n\u001b[1;32m    589\u001b[0m \u001b[38;5;28;01mreturn\u001b[39;00m resp\n",
      "File \u001b[0;32m~/imfenvs/ismb1/lib/python3.9/site-packages/requests/sessions.py:745\u001b[0m, in \u001b[0;36mSession.send\u001b[0;34m(self, request, **kwargs)\u001b[0m\n\u001b[1;32m    742\u001b[0m         \u001b[38;5;28;01mpass\u001b[39;00m\n\u001b[1;32m    744\u001b[0m \u001b[38;5;28;01mif\u001b[39;00m \u001b[38;5;129;01mnot\u001b[39;00m stream:\n\u001b[0;32m--> 745\u001b[0m     \u001b[43mr\u001b[49m\u001b[38;5;241;43m.\u001b[39;49m\u001b[43mcontent\u001b[49m\n\u001b[1;32m    747\u001b[0m \u001b[38;5;28;01mreturn\u001b[39;00m r\n",
      "File \u001b[0;32m~/imfenvs/ismb1/lib/python3.9/site-packages/requests/models.py:900\u001b[0m, in \u001b[0;36mResponse.content\u001b[0;34m(self)\u001b[0m\n\u001b[1;32m    898\u001b[0m         \u001b[38;5;28mself\u001b[39m\u001b[38;5;241m.\u001b[39m_content \u001b[38;5;241m=\u001b[39m \u001b[38;5;28;01mNone\u001b[39;00m\n\u001b[1;32m    899\u001b[0m     \u001b[38;5;28;01melse\u001b[39;00m:\n\u001b[0;32m--> 900\u001b[0m         \u001b[38;5;28mself\u001b[39m\u001b[38;5;241m.\u001b[39m_content \u001b[38;5;241m=\u001b[39m \u001b[38;5;124;43mb\u001b[39;49m\u001b[38;5;124;43m\"\u001b[39;49m\u001b[38;5;124;43m\"\u001b[39;49m\u001b[38;5;241;43m.\u001b[39;49m\u001b[43mjoin\u001b[49m\u001b[43m(\u001b[49m\u001b[38;5;28;43mself\u001b[39;49m\u001b[38;5;241;43m.\u001b[39;49m\u001b[43miter_content\u001b[49m\u001b[43m(\u001b[49m\u001b[43mCONTENT_CHUNK_SIZE\u001b[49m\u001b[43m)\u001b[49m\u001b[43m)\u001b[49m \u001b[38;5;129;01mor\u001b[39;00m \u001b[38;5;124mb\u001b[39m\u001b[38;5;124m\"\u001b[39m\u001b[38;5;124m\"\u001b[39m\n\u001b[1;32m    902\u001b[0m \u001b[38;5;28mself\u001b[39m\u001b[38;5;241m.\u001b[39m_content_consumed \u001b[38;5;241m=\u001b[39m \u001b[38;5;28;01mTrue\u001b[39;00m\n\u001b[1;32m    903\u001b[0m \u001b[38;5;66;03m# don't need to release the connection; that's been handled by urllib3\u001b[39;00m\n\u001b[1;32m    904\u001b[0m \u001b[38;5;66;03m# since we exhausted the data.\u001b[39;00m\n",
      "File \u001b[0;32m~/imfenvs/ismb1/lib/python3.9/site-packages/requests/models.py:816\u001b[0m, in \u001b[0;36mResponse.iter_content.<locals>.generate\u001b[0;34m()\u001b[0m\n\u001b[1;32m    814\u001b[0m \u001b[38;5;28;01mif\u001b[39;00m \u001b[38;5;28mhasattr\u001b[39m(\u001b[38;5;28mself\u001b[39m\u001b[38;5;241m.\u001b[39mraw, \u001b[38;5;124m\"\u001b[39m\u001b[38;5;124mstream\u001b[39m\u001b[38;5;124m\"\u001b[39m):\n\u001b[1;32m    815\u001b[0m     \u001b[38;5;28;01mtry\u001b[39;00m:\n\u001b[0;32m--> 816\u001b[0m         \u001b[38;5;28;01mfor\u001b[39;00m chunk \u001b[38;5;129;01min\u001b[39;00m \u001b[38;5;28mself\u001b[39m\u001b[38;5;241m.\u001b[39mraw\u001b[38;5;241m.\u001b[39mstream(chunk_size, decode_content\u001b[38;5;241m=\u001b[39m\u001b[38;5;28;01mTrue\u001b[39;00m):\n\u001b[1;32m    817\u001b[0m             \u001b[38;5;28;01myield\u001b[39;00m chunk\n\u001b[1;32m    818\u001b[0m     \u001b[38;5;28;01mexcept\u001b[39;00m ProtocolError \u001b[38;5;28;01mas\u001b[39;00m e:\n",
      "File \u001b[0;32m~/imfenvs/ismb1/lib/python3.9/site-packages/urllib3/response.py:579\u001b[0m, in \u001b[0;36mHTTPResponse.stream\u001b[0;34m(self, amt, decode_content)\u001b[0m\n\u001b[1;32m    577\u001b[0m \u001b[38;5;28;01melse\u001b[39;00m:\n\u001b[1;32m    578\u001b[0m     \u001b[38;5;28;01mwhile\u001b[39;00m \u001b[38;5;129;01mnot\u001b[39;00m is_fp_closed(\u001b[38;5;28mself\u001b[39m\u001b[38;5;241m.\u001b[39m_fp):\n\u001b[0;32m--> 579\u001b[0m         data \u001b[38;5;241m=\u001b[39m \u001b[38;5;28;43mself\u001b[39;49m\u001b[38;5;241;43m.\u001b[39;49m\u001b[43mread\u001b[49m\u001b[43m(\u001b[49m\u001b[43mamt\u001b[49m\u001b[38;5;241;43m=\u001b[39;49m\u001b[43mamt\u001b[49m\u001b[43m,\u001b[49m\u001b[43m \u001b[49m\u001b[43mdecode_content\u001b[49m\u001b[38;5;241;43m=\u001b[39;49m\u001b[43mdecode_content\u001b[49m\u001b[43m)\u001b[49m\n\u001b[1;32m    581\u001b[0m         \u001b[38;5;28;01mif\u001b[39;00m data:\n\u001b[1;32m    582\u001b[0m             \u001b[38;5;28;01myield\u001b[39;00m data\n",
      "File \u001b[0;32m~/imfenvs/ismb1/lib/python3.9/site-packages/urllib3/response.py:522\u001b[0m, in \u001b[0;36mHTTPResponse.read\u001b[0;34m(self, amt, decode_content, cache_content)\u001b[0m\n\u001b[1;32m    520\u001b[0m \u001b[38;5;28;01melse\u001b[39;00m:\n\u001b[1;32m    521\u001b[0m     cache_content \u001b[38;5;241m=\u001b[39m \u001b[38;5;28;01mFalse\u001b[39;00m\n\u001b[0;32m--> 522\u001b[0m     data \u001b[38;5;241m=\u001b[39m \u001b[38;5;28;43mself\u001b[39;49m\u001b[38;5;241;43m.\u001b[39;49m\u001b[43m_fp\u001b[49m\u001b[38;5;241;43m.\u001b[39;49m\u001b[43mread\u001b[49m\u001b[43m(\u001b[49m\u001b[43mamt\u001b[49m\u001b[43m)\u001b[49m \u001b[38;5;28;01mif\u001b[39;00m \u001b[38;5;129;01mnot\u001b[39;00m fp_closed \u001b[38;5;28;01melse\u001b[39;00m \u001b[38;5;124mb\u001b[39m\u001b[38;5;124m\"\u001b[39m\u001b[38;5;124m\"\u001b[39m\n\u001b[1;32m    523\u001b[0m     \u001b[38;5;28;01mif\u001b[39;00m (\n\u001b[1;32m    524\u001b[0m         amt \u001b[38;5;241m!=\u001b[39m \u001b[38;5;241m0\u001b[39m \u001b[38;5;129;01mand\u001b[39;00m \u001b[38;5;129;01mnot\u001b[39;00m data\n\u001b[1;32m    525\u001b[0m     ):  \u001b[38;5;66;03m# Platform-specific: Buggy versions of Python.\u001b[39;00m\n\u001b[0;32m   (...)\u001b[0m\n\u001b[1;32m    531\u001b[0m         \u001b[38;5;66;03m# not properly close the connection in all cases. There is\u001b[39;00m\n\u001b[1;32m    532\u001b[0m         \u001b[38;5;66;03m# no harm in redundantly calling close.\u001b[39;00m\n\u001b[1;32m    533\u001b[0m         \u001b[38;5;28mself\u001b[39m\u001b[38;5;241m.\u001b[39m_fp\u001b[38;5;241m.\u001b[39mclose()\n",
      "File \u001b[0;32m~/.pyenv/versions/3.9.7/lib/python3.9/http/client.py:462\u001b[0m, in \u001b[0;36mHTTPResponse.read\u001b[0;34m(self, amt)\u001b[0m\n\u001b[1;32m    459\u001b[0m \u001b[38;5;28;01mif\u001b[39;00m amt \u001b[38;5;129;01mis\u001b[39;00m \u001b[38;5;129;01mnot\u001b[39;00m \u001b[38;5;28;01mNone\u001b[39;00m:\n\u001b[1;32m    460\u001b[0m     \u001b[38;5;66;03m# Amount is given, implement using readinto\u001b[39;00m\n\u001b[1;32m    461\u001b[0m     b \u001b[38;5;241m=\u001b[39m \u001b[38;5;28mbytearray\u001b[39m(amt)\n\u001b[0;32m--> 462\u001b[0m     n \u001b[38;5;241m=\u001b[39m \u001b[38;5;28;43mself\u001b[39;49m\u001b[38;5;241;43m.\u001b[39;49m\u001b[43mreadinto\u001b[49m\u001b[43m(\u001b[49m\u001b[43mb\u001b[49m\u001b[43m)\u001b[49m\n\u001b[1;32m    463\u001b[0m     \u001b[38;5;28;01mreturn\u001b[39;00m \u001b[38;5;28mmemoryview\u001b[39m(b)[:n]\u001b[38;5;241m.\u001b[39mtobytes()\n\u001b[1;32m    464\u001b[0m \u001b[38;5;28;01melse\u001b[39;00m:\n\u001b[1;32m    465\u001b[0m     \u001b[38;5;66;03m# Amount is not given (unbounded read) so we must check self.length\u001b[39;00m\n\u001b[1;32m    466\u001b[0m     \u001b[38;5;66;03m# and self.chunked\u001b[39;00m\n",
      "File \u001b[0;32m~/.pyenv/versions/3.9.7/lib/python3.9/http/client.py:506\u001b[0m, in \u001b[0;36mHTTPResponse.readinto\u001b[0;34m(self, b)\u001b[0m\n\u001b[1;32m    501\u001b[0m         b \u001b[38;5;241m=\u001b[39m \u001b[38;5;28mmemoryview\u001b[39m(b)[\u001b[38;5;241m0\u001b[39m:\u001b[38;5;28mself\u001b[39m\u001b[38;5;241m.\u001b[39mlength]\n\u001b[1;32m    503\u001b[0m \u001b[38;5;66;03m# we do not use _safe_read() here because this may be a .will_close\u001b[39;00m\n\u001b[1;32m    504\u001b[0m \u001b[38;5;66;03m# connection, and the user is reading more bytes than will be provided\u001b[39;00m\n\u001b[1;32m    505\u001b[0m \u001b[38;5;66;03m# (for example, reading in 1k chunks)\u001b[39;00m\n\u001b[0;32m--> 506\u001b[0m n \u001b[38;5;241m=\u001b[39m \u001b[38;5;28;43mself\u001b[39;49m\u001b[38;5;241;43m.\u001b[39;49m\u001b[43mfp\u001b[49m\u001b[38;5;241;43m.\u001b[39;49m\u001b[43mreadinto\u001b[49m\u001b[43m(\u001b[49m\u001b[43mb\u001b[49m\u001b[43m)\u001b[49m\n\u001b[1;32m    507\u001b[0m \u001b[38;5;28;01mif\u001b[39;00m \u001b[38;5;129;01mnot\u001b[39;00m n \u001b[38;5;129;01mand\u001b[39;00m b:\n\u001b[1;32m    508\u001b[0m     \u001b[38;5;66;03m# Ideally, we would raise IncompleteRead if the content-length\u001b[39;00m\n\u001b[1;32m    509\u001b[0m     \u001b[38;5;66;03m# wasn't satisfied, but it might break compatibility.\u001b[39;00m\n\u001b[1;32m    510\u001b[0m     \u001b[38;5;28mself\u001b[39m\u001b[38;5;241m.\u001b[39m_close_conn()\n",
      "File \u001b[0;32m~/.pyenv/versions/3.9.7/lib/python3.9/socket.py:704\u001b[0m, in \u001b[0;36mSocketIO.readinto\u001b[0;34m(self, b)\u001b[0m\n\u001b[1;32m    702\u001b[0m \u001b[38;5;28;01mwhile\u001b[39;00m \u001b[38;5;28;01mTrue\u001b[39;00m:\n\u001b[1;32m    703\u001b[0m     \u001b[38;5;28;01mtry\u001b[39;00m:\n\u001b[0;32m--> 704\u001b[0m         \u001b[38;5;28;01mreturn\u001b[39;00m \u001b[38;5;28;43mself\u001b[39;49m\u001b[38;5;241;43m.\u001b[39;49m\u001b[43m_sock\u001b[49m\u001b[38;5;241;43m.\u001b[39;49m\u001b[43mrecv_into\u001b[49m\u001b[43m(\u001b[49m\u001b[43mb\u001b[49m\u001b[43m)\u001b[49m\n\u001b[1;32m    705\u001b[0m     \u001b[38;5;28;01mexcept\u001b[39;00m timeout:\n\u001b[1;32m    706\u001b[0m         \u001b[38;5;28mself\u001b[39m\u001b[38;5;241m.\u001b[39m_timeout_occurred \u001b[38;5;241m=\u001b[39m \u001b[38;5;28;01mTrue\u001b[39;00m\n",
      "File \u001b[0;32m~/.pyenv/versions/3.9.7/lib/python3.9/ssl.py:1241\u001b[0m, in \u001b[0;36mSSLSocket.recv_into\u001b[0;34m(self, buffer, nbytes, flags)\u001b[0m\n\u001b[1;32m   1237\u001b[0m     \u001b[38;5;28;01mif\u001b[39;00m flags \u001b[38;5;241m!=\u001b[39m \u001b[38;5;241m0\u001b[39m:\n\u001b[1;32m   1238\u001b[0m         \u001b[38;5;28;01mraise\u001b[39;00m \u001b[38;5;167;01mValueError\u001b[39;00m(\n\u001b[1;32m   1239\u001b[0m           \u001b[38;5;124m\"\u001b[39m\u001b[38;5;124mnon-zero flags not allowed in calls to recv_into() on \u001b[39m\u001b[38;5;132;01m%s\u001b[39;00m\u001b[38;5;124m\"\u001b[39m \u001b[38;5;241m%\u001b[39m\n\u001b[1;32m   1240\u001b[0m           \u001b[38;5;28mself\u001b[39m\u001b[38;5;241m.\u001b[39m\u001b[38;5;18m__class__\u001b[39m)\n\u001b[0;32m-> 1241\u001b[0m     \u001b[38;5;28;01mreturn\u001b[39;00m \u001b[38;5;28;43mself\u001b[39;49m\u001b[38;5;241;43m.\u001b[39;49m\u001b[43mread\u001b[49m\u001b[43m(\u001b[49m\u001b[43mnbytes\u001b[49m\u001b[43m,\u001b[49m\u001b[43m \u001b[49m\u001b[43mbuffer\u001b[49m\u001b[43m)\u001b[49m\n\u001b[1;32m   1242\u001b[0m \u001b[38;5;28;01melse\u001b[39;00m:\n\u001b[1;32m   1243\u001b[0m     \u001b[38;5;28;01mreturn\u001b[39;00m \u001b[38;5;28msuper\u001b[39m()\u001b[38;5;241m.\u001b[39mrecv_into(buffer, nbytes, flags)\n",
      "File \u001b[0;32m~/.pyenv/versions/3.9.7/lib/python3.9/ssl.py:1099\u001b[0m, in \u001b[0;36mSSLSocket.read\u001b[0;34m(self, len, buffer)\u001b[0m\n\u001b[1;32m   1097\u001b[0m \u001b[38;5;28;01mtry\u001b[39;00m:\n\u001b[1;32m   1098\u001b[0m     \u001b[38;5;28;01mif\u001b[39;00m buffer \u001b[38;5;129;01mis\u001b[39;00m \u001b[38;5;129;01mnot\u001b[39;00m \u001b[38;5;28;01mNone\u001b[39;00m:\n\u001b[0;32m-> 1099\u001b[0m         \u001b[38;5;28;01mreturn\u001b[39;00m \u001b[38;5;28;43mself\u001b[39;49m\u001b[38;5;241;43m.\u001b[39;49m\u001b[43m_sslobj\u001b[49m\u001b[38;5;241;43m.\u001b[39;49m\u001b[43mread\u001b[49m\u001b[43m(\u001b[49m\u001b[38;5;28;43mlen\u001b[39;49m\u001b[43m,\u001b[49m\u001b[43m \u001b[49m\u001b[43mbuffer\u001b[49m\u001b[43m)\u001b[49m\n\u001b[1;32m   1100\u001b[0m     \u001b[38;5;28;01melse\u001b[39;00m:\n\u001b[1;32m   1101\u001b[0m         \u001b[38;5;28;01mreturn\u001b[39;00m \u001b[38;5;28mself\u001b[39m\u001b[38;5;241m.\u001b[39m_sslobj\u001b[38;5;241m.\u001b[39mread(\u001b[38;5;28mlen\u001b[39m)\n",
      "\u001b[0;31mKeyboardInterrupt\u001b[0m: "
     ]
    }
   ],
   "source": [
    "fileDetails = results_DRS_client.get_object(resultsDRSID)\n",
    "fullPath = '~/Downloads/' + fileDetails['name']\n",
    "print(url)\n",
    "download(url, fullPath) "
   ]
  },
  {
   "cell_type": "code",
   "execution_count": 35,
   "metadata": {},
   "outputs": [
    {
     "data": {
      "text/plain": [
       "{'request': {'tags': {},\n",
       "  'workflow_params': {'name': 'SAMtools View 1.8 run - 06-29-22 23:50:13',\n",
       "   'project': 'forei/ismb-tutorial',\n",
       "   'inputs': {'total_memory_GB': None,\n",
       "    'coverage_limit': None,\n",
       "    'count_alignments': True,\n",
       "    'include_only_read_group': None,\n",
       "    'remove_duplicates': None,\n",
       "    'max_insert_size': None,\n",
       "    'reference_file': {'path': 'drs://cgc-ga4gh-api.sbgenomics.com/62b07ea84e3edb6b1c23c8d5',\n",
       "     'name': 'Homo_sapiens_assembly19_1000genomes_decoy.fasta',\n",
       "     'class': 'File'},\n",
       "    'output_file_path': 'NA18948.txt',\n",
       "    'alignment_file_url': 'https://1000genomes.s3.amazonaws.com/phase3/data/NA18948/exome_alignment/NA18948.mapped.ILLUMINA.bwa.JPT.exome.20121211.bam'}},\n",
       "  'workflow_type': 'CWL',\n",
       "  'workflow_engine_params': {},\n",
       "  'workflow_url': 'sbg://forei/ismb-tutorial/samtools-view-drsurl-1-8-url'},\n",
       " 'state': 'COMPLETE',\n",
       " 'outputs': {'counts': {'path': 'drs://cgc-ga4gh-api.sbgenomics.com/62bce6d14e3edb6b1c423d75',\n",
       "   'name': 'NA18948.txt',\n",
       "   'class': 'File'}},\n",
       " 'run_id': '4c1d705f-c9bb-4347-818b-a1e84af60255',\n",
       " 'run_log': {'name': 'SAMtools View 1.8 run - 06-29-22 23:50:13',\n",
       "  'cmd': None,\n",
       "  'start_time': '2022-06-29T23:50:14Z',\n",
       "  'end_time': '2022-06-29T23:57:06Z',\n",
       "  'stdout': None,\n",
       "  'stderr': None,\n",
       "  'exit_code': 0},\n",
       " 'task_logs': [{'name': 'samtools-view-drsurl-1-8-url',\n",
       "   'cmd': '/opt/samtools-1.8/samtools view -c --reference /sbgenomics/Projects/4a147bd5-8c29-4fc4-b6aa-a71aeb36ff61/Homo_sapiens_assembly19_1000genomes_decoy.fasta \"https://1000genomes.s3.amazonaws.com/phase3/data/NA18948/exome_alignment/NA18948.mapped.ILLUMINA.bwa.JPT.exome.20121211.bam\" > NA18948.txt',\n",
       "   'start_time': '2022-06-29T23:52:29Z',\n",
       "   'end_time': '2022-06-29T23:57:04Z',\n",
       "   'stdout': 'drs://cgc-ga4gh-api.sbgenomics.com/62bce6cef08fea4770668e4c',\n",
       "   'stderr': 'drs://cgc-ga4gh-api.sbgenomics.com/62bce6cef08fea4770668e4c',\n",
       "   'exit_code': 0}]}"
      ]
     },
     "execution_count": 35,
     "metadata": {},
     "output_type": "execute_result"
    }
   ],
   "source": [
    "wesClient.get_run_log('4c1d705f-c9bb-4347-818b-a1e84af60255')"
   ]
  },
  {
   "cell_type": "markdown",
   "metadata": {},
   "source": [
    "The next cell defines a function to retrieve "
   ]
  },
  {
   "cell_type": "code",
   "execution_count": 115,
   "metadata": {},
   "outputs": [],
   "source": [
    "import tempfile\n",
    "\n",
    "def get_sam_view_result(run_id):\n",
    "    # WES API call to retrieve the log of the run - including the results\n",
    "    log = wesClient.get_run_log(run_id)\n",
    "    resultsDRSID = log['outputs']['counts']['path']\n",
    "    resultsDRSID = resultsDRSID.split('/')[-1]\n",
    "    \n",
    "    # DRS API call to get the results file\n",
    "    url = results_DRS_client.get_access_url(resultsDRSID,'s3')\n",
    "    \n",
    "    with tempfile.NamedTemporaryFile(mode='r+') as file:\n",
    "        response = requests.get(url)\n",
    "        file.write(response.text)\n",
    "        file.seek(0)\n",
    "        x = file.read()\n",
    "    return x.strip()\n",
    "\n",
    "    "
   ]
  },
  {
   "cell_type": "code",
   "execution_count": 112,
   "metadata": {},
   "outputs": [],
   "source": [
    "for run in json_result:\n",
    "    status = wesClient.get_task_status(run['run_id'])\n",
    "    if  status == 'COMPLETE':\n",
    "        count_result = get_sam_view_result(run['run_id'])\n",
    "        run['count_result'] = count_result\n",
    "    else:\n",
    "        run['count_result'] = status\n"
   ]
  },
  {
   "cell_type": "code",
   "execution_count": 113,
   "metadata": {},
   "outputs": [
    {
     "data": {
      "text/plain": [
       "[{'sample_name': 'HG00731',\n",
       "  'bam_drs_id': '515ae091f29ac699a4d2e272812cea47',\n",
       "  'acc': 'SRR1606560',\n",
       "  'run_id': '9a8df37a-d265-4159-8d64-37244ff8f63a',\n",
       "  'count_result': '432255472'},\n",
       " {'sample_name': 'HG00637',\n",
       "  'bam_drs_id': '475dfc02f643c368036df6816d05afe4',\n",
       "  'acc': 'SRR1596919',\n",
       "  'run_id': '493e58a7-b631-4482-9a3c-b069a0b73cba',\n",
       "  'count_result': '102554431'},\n",
       " {'sample_name': 'HG00640',\n",
       "  'bam_drs_id': '58e2964f2a0adbf41ab0e8c7a95e7d0c',\n",
       "  'acc': 'SRR1596923',\n",
       "  'run_id': '25b1b213-6fee-4122-a26c-b348c08610fd',\n",
       "  'count_result': '102424655'}]"
      ]
     },
     "execution_count": 113,
     "metadata": {},
     "output_type": "execute_result"
    }
   ],
   "source": [
    "json_result"
   ]
  },
  {
   "cell_type": "code",
   "execution_count": 114,
   "metadata": {},
   "outputs": [
    {
     "data": {
      "text/html": [
       "<div>\n",
       "<style scoped>\n",
       "    .dataframe tbody tr th:only-of-type {\n",
       "        vertical-align: middle;\n",
       "    }\n",
       "\n",
       "    .dataframe tbody tr th {\n",
       "        vertical-align: top;\n",
       "    }\n",
       "\n",
       "    .dataframe thead th {\n",
       "        text-align: right;\n",
       "    }\n",
       "</style>\n",
       "<table border=\"1\" class=\"dataframe\">\n",
       "  <thead>\n",
       "    <tr style=\"text-align: right;\">\n",
       "      <th></th>\n",
       "      <th>sample_name</th>\n",
       "      <th>bam_drs_id</th>\n",
       "      <th>acc</th>\n",
       "      <th>run_id</th>\n",
       "      <th>count_result</th>\n",
       "    </tr>\n",
       "  </thead>\n",
       "  <tbody>\n",
       "    <tr>\n",
       "      <th>0</th>\n",
       "      <td>HG00731</td>\n",
       "      <td>515ae091f29ac699a4d2e272812cea47</td>\n",
       "      <td>SRR1606560</td>\n",
       "      <td>9a8df37a-d265-4159-8d64-37244ff8f63a</td>\n",
       "      <td>432255472</td>\n",
       "    </tr>\n",
       "    <tr>\n",
       "      <th>1</th>\n",
       "      <td>HG00637</td>\n",
       "      <td>475dfc02f643c368036df6816d05afe4</td>\n",
       "      <td>SRR1596919</td>\n",
       "      <td>493e58a7-b631-4482-9a3c-b069a0b73cba</td>\n",
       "      <td>102554431</td>\n",
       "    </tr>\n",
       "    <tr>\n",
       "      <th>2</th>\n",
       "      <td>HG00640</td>\n",
       "      <td>58e2964f2a0adbf41ab0e8c7a95e7d0c</td>\n",
       "      <td>SRR1596923</td>\n",
       "      <td>25b1b213-6fee-4122-a26c-b348c08610fd</td>\n",
       "      <td>102424655</td>\n",
       "    </tr>\n",
       "  </tbody>\n",
       "</table>\n",
       "</div>"
      ],
      "text/plain": [
       "  sample_name                        bam_drs_id         acc  \\\n",
       "0     HG00731  515ae091f29ac699a4d2e272812cea47  SRR1606560   \n",
       "1     HG00637  475dfc02f643c368036df6816d05afe4  SRR1596919   \n",
       "2     HG00640  58e2964f2a0adbf41ab0e8c7a95e7d0c  SRR1596923   \n",
       "\n",
       "                                 run_id count_result  \n",
       "0  9a8df37a-d265-4159-8d64-37244ff8f63a    432255472  \n",
       "1  493e58a7-b631-4482-9a3c-b069a0b73cba    102554431  \n",
       "2  25b1b213-6fee-4122-a26c-b348c08610fd    102424655  "
      ]
     },
     "execution_count": 114,
     "metadata": {},
     "output_type": "execute_result"
    }
   ],
   "source": [
    "import pandas as pd\n",
    "df = pd.DataFrame(json_result)\n",
    "df"
   ]
  },
  {
   "cell_type": "code",
   "execution_count": null,
   "metadata": {},
   "outputs": [],
   "source": []
  }
 ],
 "metadata": {
  "kernelspec": {
   "display_name": "Python 3 (ipykernel)",
   "language": "python",
   "name": "python3"
  },
  "language_info": {
   "codemirror_mode": {
    "name": "ipython",
    "version": 3
   },
   "file_extension": ".py",
   "mimetype": "text/x-python",
   "name": "python",
   "nbconvert_exporter": "python",
   "pygments_lexer": "ipython3",
   "version": "3.9.7"
  }
 },
 "nbformat": 4,
 "nbformat_minor": 4
}
