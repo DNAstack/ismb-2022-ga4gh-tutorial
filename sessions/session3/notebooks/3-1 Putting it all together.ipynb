{
 "cells": [
  {
   "cell_type": "markdown",
   "metadata": {},
   "source": [
    " ### Combining GA4GH standards to perform an end-to-end workflow\n",
    " \n",
    "#### Learning Objectives\n",
    "Combine Data Connect, WES and DRS services  \n",
    "\n",
    "What will participants do as part of the exercise?\n",
    "\n",
    " - Search for files with Data Connect\n",
    " - Obtain links to access files\n",
    " - Submit the files to a WES workflow\n",
    " - Retrieve the results of the analysis\n",
    " \n",
    " \n",
    " #### Icons in this Guide\n",
    "\n",
    " 🖐 A hands-on section where you will code something or interact with the server\n",
    " \n",
    " #### 1. Run a cell in a Jupyter notebook\n",
    " \n",
    " ## Obtain Thousand Genomes files from SRA DRS and submit to Seven Bridges WES"
   ]
  },
  {
   "cell_type": "markdown",
   "metadata": {},
   "source": [
    "🖐 Set up your project name, location of your file"
   ]
  },
  {
   "cell_type": "code",
   "execution_count": 1,
   "metadata": {},
   "outputs": [],
   "source": [
    "SB_PROJECT = 'forei/ismb-tutorial'\n",
    "SB_API_KEY_PATH = '~/.keys/sbcgc_key.json'\n",
    "DOWNLOAD_LOCATION = '~/Downloads'"
   ]
  },
  {
   "cell_type": "code",
   "execution_count": 5,
   "metadata": {},
   "outputs": [
    {
     "name": "stdout",
     "output_type": "stream",
     "text": [
      "Retrieving the query\n",
      "____Page1_______________\n",
      "____Page2_______________\n",
      "____Page3_______________\n",
      "____Page4_______________\n",
      "____Page5_______________\n",
      "____Page6_______________\n",
      "____Page7_______________\n"
     ]
    },
    {
     "data": {
      "text/plain": [
       "[{'sample_name': 'HG00731',\n",
       "  'bam_drs_id': '515ae091f29ac699a4d2e272812cea47',\n",
       "  'acc': 'SRR1606560'},\n",
       " {'sample_name': 'HG00637',\n",
       "  'bam_drs_id': '475dfc02f643c368036df6816d05afe4',\n",
       "  'acc': 'SRR1596919'},\n",
       " {'sample_name': 'HG00640',\n",
       "  'bam_drs_id': '58e2964f2a0adbf41ab0e8c7a95e7d0c',\n",
       "  'acc': 'SRR1596923'}]"
      ]
     },
     "execution_count": 5,
     "metadata": {},
     "output_type": "execute_result"
    }
   ],
   "source": [
    "from fasp.search import DataConnectClient\n",
    "\n",
    "# Step 1 - Discovery\n",
    "# query for relevant DRS objects\n",
    "searchClient = DataConnectClient('https://ga4gh-search-adapter-presto-public.prod.dnastack.com/')\n",
    "\n",
    "query = '''SELECT f.sample_name, drs_id bam_drs_id, acc\n",
    "FROM thousand_genomes.onek_genomes.ssd_drs s \n",
    "join thousand_genomes.onek_genomes.sra_drs_files f on f.sample_name = s.su_submitter_id \n",
    "where filetype = 'bam' and mapped = 'mapped' \n",
    "and sequencing_type ='exome' and  population = 'PUR' LIMIT 3'''\n",
    "\n",
    "json_result = searchClient.run_query(query, returnType='json')\n",
    "json_result"
   ]
  },
  {
   "cell_type": "code",
   "execution_count": 6,
   "metadata": {},
   "outputs": [
    {
     "data": {
      "text/html": [
       "<div>\n",
       "<style scoped>\n",
       "    .dataframe tbody tr th:only-of-type {\n",
       "        vertical-align: middle;\n",
       "    }\n",
       "\n",
       "    .dataframe tbody tr th {\n",
       "        vertical-align: top;\n",
       "    }\n",
       "\n",
       "    .dataframe thead th {\n",
       "        text-align: right;\n",
       "    }\n",
       "</style>\n",
       "<table border=\"1\" class=\"dataframe\">\n",
       "  <thead>\n",
       "    <tr style=\"text-align: right;\">\n",
       "      <th></th>\n",
       "      <th>sample_name</th>\n",
       "      <th>bam_drs_id</th>\n",
       "      <th>acc</th>\n",
       "    </tr>\n",
       "  </thead>\n",
       "  <tbody>\n",
       "    <tr>\n",
       "      <th>0</th>\n",
       "      <td>HG00731</td>\n",
       "      <td>515ae091f29ac699a4d2e272812cea47</td>\n",
       "      <td>SRR1606560</td>\n",
       "    </tr>\n",
       "    <tr>\n",
       "      <th>1</th>\n",
       "      <td>HG00637</td>\n",
       "      <td>475dfc02f643c368036df6816d05afe4</td>\n",
       "      <td>SRR1596919</td>\n",
       "    </tr>\n",
       "    <tr>\n",
       "      <th>2</th>\n",
       "      <td>HG00640</td>\n",
       "      <td>58e2964f2a0adbf41ab0e8c7a95e7d0c</td>\n",
       "      <td>SRR1596923</td>\n",
       "    </tr>\n",
       "  </tbody>\n",
       "</table>\n",
       "</div>"
      ],
      "text/plain": [
       "  sample_name                        bam_drs_id         acc\n",
       "0     HG00731  515ae091f29ac699a4d2e272812cea47  SRR1606560\n",
       "1     HG00637  475dfc02f643c368036df6816d05afe4  SRR1596919\n",
       "2     HG00640  58e2964f2a0adbf41ab0e8c7a95e7d0c  SRR1596923"
      ]
     },
     "execution_count": 6,
     "metadata": {},
     "output_type": "execute_result"
    }
   ],
   "source": [
    "import pandas as pd\n",
    "first_df = pd.DataFrame(json_result)\n",
    "first_df"
   ]
  },
  {
   "cell_type": "markdown",
   "metadata": {},
   "source": [
    "### Use DRS to obtain file details"
   ]
  },
  {
   "cell_type": "markdown",
   "metadata": {},
   "source": [
    "The following shows how the SRA DRS server can be used to determine where the files can be obtained from. The following shows this for the first DRS id from the query results. "
   ]
  },
  {
   "cell_type": "code",
   "execution_count": 8,
   "metadata": {},
   "outputs": [
    {
     "name": "stdout",
     "output_type": "stream",
     "text": [
      "515ae091f29ac699a4d2e272812cea47\n"
     ]
    },
    {
     "data": {
      "text/plain": [
       "{'access_methods': [{'access_id': '8cc282a3e09887491fa5aa7ff1c209b1a4b9bf1cc55dd9767075e625968f364a',\n",
       "   'region': 'gs.US',\n",
       "   'type': 'https'},\n",
       "  {'access_id': '2c8e9f0f20117987660e677c0d3556c198ec109447b378dfcc6f8639b6a0b5e2',\n",
       "   'type': 'https'},\n",
       "  {'access_id': 'fa57eb71b1f001a479f2462a0ca9fc9f35f64e544150086e4a55fc86d8eeaed3',\n",
       "   'region': 's3.us-east-1',\n",
       "   'type': 'https'}],\n",
       " 'checksums': [{'checksum': '515ae091f29ac699a4d2e272812cea47',\n",
       "   'type': 'md5'}],\n",
       " 'created_time': '2013-05-08T10:25:13Z',\n",
       " 'id': '515ae091f29ac699a4d2e272812cea47',\n",
       " 'name': 'HG00731.mapped.ILLUMINA.bwa.PUR.exome.20130422.bam',\n",
       " 'self_url': 'drs://locate.be-md.ncbi.nlm.nih.gov/515ae091f29ac699a4d2e272812cea47',\n",
       " 'size': 32108614682}"
      ]
     },
     "execution_count": 8,
     "metadata": {},
     "output_type": "execute_result"
    }
   ],
   "source": [
    "from fasp.loc import DRSClient\n",
    "\n",
    "drsClient = DRSClient('https://locate.be-md.ncbi.nlm.nih.gov', public=True, debug=False)\n",
    "test_id = json_result[0]['bam_drs_id']\n",
    "print(test_id)\n",
    "objInfo = drsClient.get_object(test_id)\n",
    "objInfo"
   ]
  },
  {
   "cell_type": "markdown",
   "metadata": {},
   "source": [
    "A second DRS call can be used to obtain a url to access the file from one of the above locations."
   ]
  },
  {
   "cell_type": "code",
   "execution_count": 9,
   "metadata": {},
   "outputs": [
    {
     "name": "stdout",
     "output_type": "stream",
     "text": [
      "access_id:8cc282a3e09887491fa5aa7ff1c209b1a4b9bf1cc55dd9767075e625968f364a\n",
      "url:https://storage.googleapis.com/genomics-public-data/ftp-trace.ncbi.nih.gov/1000genomes/ftp/phase3/data/HG00731/exome_alignment/HG00731.mapped.ILLUMINA.bwa.PUR.exome.20130422.bam\n"
     ]
    }
   ],
   "source": [
    "access_id = objInfo['access_methods'][0]['access_id']\n",
    "print('access_id:{}'.format(access_id))\n",
    "url = drsClient.get_access_url(test_id, access_id=access_id)\n",
    "print('url:{}'.format(url))"
   ]
  },
  {
   "cell_type": "markdown",
   "metadata": {},
   "source": [
    "### Set up a WES client"
   ]
  },
  {
   "cell_type": "code",
   "execution_count": 10,
   "metadata": {},
   "outputs": [],
   "source": [
    "from fasp.workflow import sbcgcWESClient\n",
    "wesClient = sbcgcWESClient(SB_PROJECT, api_key_path=SB_API_KEY_PATH)"
   ]
  },
  {
   "cell_type": "markdown",
   "metadata": {},
   "source": [
    "#### Define a function to submit the workflow"
   ]
  },
  {
   "cell_type": "code",
   "execution_count": 11,
   "metadata": {},
   "outputs": [],
   "source": [
    "import json\n",
    "import requests\n",
    "\n",
    "def runWorkflow(wesClient, fileurl, outfile):\n",
    "\n",
    "    sam_view_app = 'sbg://forei/ismb-tutorial/samtools-view-drsurl-1-8-url'\n",
    "\n",
    "    ref_drs_id = 'drs://cgc-ga4gh-api.sbgenomics.com/5caf7ebec80cb0e41b007adf'\n",
    "    params = {\n",
    "        \"project\": wesClient.project_id,\n",
    "        \"inputs\": {\n",
    "          \"alignment_file_url\": fileurl,\n",
    "          \"count_alignments\": True,\n",
    "          \"reference_file\": {\n",
    "            \"path\": ref_drs_id,\n",
    "            \"name\": \"references-hs37d5-hs37d5.fasta\",\n",
    "            \"class\": \"File\"\n",
    "          },\n",
    "          \"output_file_path\": outfile\n",
    "        }\n",
    "     }\n",
    "\n",
    "\n",
    "    body = {\n",
    "      \"workflow_params\": (None, json.dumps(params), 'application/json'),\n",
    "      \"workflow_type\": \"CWL\",\n",
    "      \"workflow_type_version\": \"sbg:draft-2\",\n",
    "      \"workflow_url\": sam_view_app\n",
    "    }\n",
    "    #print(wesClient.api_url_base)\n",
    "    #response = requests.request(\"POST\", wesClient.api_url_base+'/runs', \n",
    "    #                            headers=wesClient.headers, files = body)\n",
    "    \n",
    "    run_id= wesClient.run_generic_workflow(\n",
    "        workflow_url=sam_view_app,\n",
    "        workflow_params = json.dumps(params),\n",
    "        workflow_type = \"CWL\",\n",
    "        workflow_type_version = \"sbg:draft-2\",\n",
    "        verbose=False\n",
    "    )\n",
    "    return(run_id)"
   ]
  },
  {
   "cell_type": "markdown",
   "metadata": {},
   "source": [
    "This is the loop that would normally be within FASPRunner, but because of the different approach to access_id we will write a custom version"
   ]
  },
  {
   "cell_type": "code",
   "execution_count": 12,
   "metadata": {},
   "outputs": [
    {
     "name": "stdout",
     "output_type": "stream",
     "text": [
      "subject=515ae091f29ac699a4d2e272812cea47, drsID=HG00731\n",
      "Submitted run 9545528c-8014-4d73-a5c7-3c07c4b2472d to sbcgcWESClient\n",
      "_________________________________________________________________________\n",
      "subject=475dfc02f643c368036df6816d05afe4, drsID=HG00637\n",
      "Submitted run 4925d6a5-3227-401c-b4be-66e7285b410f to sbcgcWESClient\n",
      "_________________________________________________________________________\n",
      "subject=58e2964f2a0adbf41ab0e8c7a95e7d0c, drsID=HG00640\n",
      "Submitted run 4791be68-21a7-459d-ae95-d735c0b14d41 to sbcgcWESClient\n",
      "_________________________________________________________________________\n"
     ]
    }
   ],
   "source": [
    "import datetime\n",
    "\n",
    "# set the region we want to access data from\n",
    "region = 's3.us-east-1'\n",
    "my_runs = []\n",
    "        \n",
    "for row in json_result:\n",
    "\n",
    "    print(\"subject={}, drsID={}\".format(row['bam_drs_id'], row['sample_name']))\n",
    "    drs_id = row['bam_drs_id']\n",
    "\n",
    "\n",
    "    objInfo = drsClient.get_object(drs_id)\n",
    "    url = drsClient.get_url_for_region(drs_id,region)\n",
    "\n",
    "    # Step 3 - Run a pipeline on the file at the drs url\n",
    "    if url != None:\n",
    "        outfile = \"{}.txt\".format(row['sample_name'])\n",
    "        time = datetime.datetime.now().strftime(\"%Y-%m-%d %H:%M:%S\")\n",
    "        run_id = runWorkflow(wesClient, url, outfile)\n",
    "        print('Submitted run {} to {}'.format(run_id, wesClient.__class__.__name__))\n",
    "        my_runs.append(run_id)\n",
    "        row['run_id']=run_id\n",
    "    print('_________________________________________________________________________')"
   ]
  },
  {
   "cell_type": "code",
   "execution_count": 13,
   "metadata": {},
   "outputs": [
    {
     "data": {
      "text/plain": [
       "[{'sample_name': 'HG00731',\n",
       "  'bam_drs_id': '515ae091f29ac699a4d2e272812cea47',\n",
       "  'acc': 'SRR1606560',\n",
       "  'run_id': '9545528c-8014-4d73-a5c7-3c07c4b2472d'},\n",
       " {'sample_name': 'HG00637',\n",
       "  'bam_drs_id': '475dfc02f643c368036df6816d05afe4',\n",
       "  'acc': 'SRR1596919',\n",
       "  'run_id': '4925d6a5-3227-401c-b4be-66e7285b410f'},\n",
       " {'sample_name': 'HG00640',\n",
       "  'bam_drs_id': '58e2964f2a0adbf41ab0e8c7a95e7d0c',\n",
       "  'acc': 'SRR1596923',\n",
       "  'run_id': '4791be68-21a7-459d-ae95-d735c0b14d41'}]"
      ]
     },
     "execution_count": 13,
     "metadata": {},
     "output_type": "execute_result"
    }
   ],
   "source": [
    "json_result"
   ]
  },
  {
   "cell_type": "code",
   "execution_count": 14,
   "metadata": {},
   "outputs": [
    {
     "name": "stdout",
     "output_type": "stream",
     "text": [
      "Run 9545528c-8014-4d73-a5c7-3c07c4b2472d INITIALIZING\n",
      "Run 4925d6a5-3227-401c-b4be-66e7285b410f INITIALIZING\n",
      "Run 4791be68-21a7-459d-ae95-d735c0b14d41 INITIALIZING\n"
     ]
    }
   ],
   "source": [
    "for run in json_result:\n",
    "    status = wesClient.get_task_status(run['run_id'])\n",
    "    print((\"Run {} {}\".format(run['run_id'], status)))"
   ]
  },
  {
   "cell_type": "markdown",
   "metadata": {},
   "source": [
    "## Getting the results"
   ]
  },
  {
   "cell_type": "code",
   "execution_count": 15,
   "metadata": {},
   "outputs": [
    {
     "data": {
      "text/plain": [
       "{'request': {'tags': {},\n",
       "  'workflow_params': {'name': 'SAMtools View 1.8 run - 06-30-22 03:51:51',\n",
       "   'project': 'forei/ismb-tutorial',\n",
       "   'inputs': {'total_memory_GB': None,\n",
       "    'coverage_limit': None,\n",
       "    'count_alignments': True,\n",
       "    'include_only_read_group': None,\n",
       "    'remove_duplicates': None,\n",
       "    'max_insert_size': None,\n",
       "    'reference_file': {'path': 'drs://cgc-ga4gh-api.sbgenomics.com/62b07ea84e3edb6b1c23c8d5',\n",
       "     'name': 'Homo_sapiens_assembly19_1000genomes_decoy.fasta',\n",
       "     'class': 'File'},\n",
       "    'output_file_path': 'HG00731.txt',\n",
       "    'alignment_file_url': 'https://1000genomes.s3.amazonaws.com/phase3/data/HG00731/exome_alignment/HG00731.mapped.ILLUMINA.bwa.PUR.exome.20130422.bam'}},\n",
       "  'workflow_type': 'CWL',\n",
       "  'workflow_engine_params': {},\n",
       "  'workflow_url': 'sbg://forei/ismb-tutorial/samtools-view-drsurl-1-8-url'},\n",
       " 'state': 'INITIALIZING',\n",
       " 'outputs': {'counts': None},\n",
       " 'run_id': '9545528c-8014-4d73-a5c7-3c07c4b2472d',\n",
       " 'run_log': {'name': 'SAMtools View 1.8 run - 06-30-22 03:51:51',\n",
       "  'cmd': None,\n",
       "  'start_time': '2022-06-30T03:51:53Z',\n",
       "  'end_time': '2022-06-30T03:52:13Z',\n",
       "  'stdout': None,\n",
       "  'stderr': None,\n",
       "  'exit_code': 0},\n",
       " 'task_logs': []}"
      ]
     },
     "execution_count": 15,
     "metadata": {},
     "output_type": "execute_result"
    }
   ],
   "source": [
    "runLog = wesClient.get_run_log(my_runs[0])\n",
    "runLog"
   ]
  },
  {
   "cell_type": "markdown",
   "metadata": {},
   "source": [
    "Use the Seven Bridges CGC DRS service to retrieve the output file"
   ]
  },
  {
   "cell_type": "code",
   "execution_count": 16,
   "metadata": {},
   "outputs": [
    {
     "ename": "TypeError",
     "evalue": "'NoneType' object is not subscriptable",
     "output_type": "error",
     "traceback": [
      "\u001b[0;31m---------------------------------------------------------------------------\u001b[0m",
      "\u001b[0;31mTypeError\u001b[0m                                 Traceback (most recent call last)",
      "Input \u001b[0;32mIn [16]\u001b[0m, in \u001b[0;36m<cell line: 3>\u001b[0;34m()\u001b[0m\n\u001b[1;32m      1\u001b[0m \u001b[38;5;28;01mfrom\u001b[39;00m  \u001b[38;5;21;01mfasp\u001b[39;00m\u001b[38;5;21;01m.\u001b[39;00m\u001b[38;5;21;01mloc\u001b[39;00m \u001b[38;5;28;01mimport\u001b[39;00m sbcgcDRSClient\n\u001b[1;32m      2\u001b[0m results_DRS_client \u001b[38;5;241m=\u001b[39m sbcgcDRSClient(SB_API_KEY_PATH, \u001b[38;5;124m'\u001b[39m\u001b[38;5;124ms3\u001b[39m\u001b[38;5;124m'\u001b[39m)\n\u001b[0;32m----> 3\u001b[0m resultsDRSID \u001b[38;5;241m=\u001b[39m \u001b[43mrunLog\u001b[49m\u001b[43m[\u001b[49m\u001b[38;5;124;43m'\u001b[39;49m\u001b[38;5;124;43moutputs\u001b[39;49m\u001b[38;5;124;43m'\u001b[39;49m\u001b[43m]\u001b[49m\u001b[43m[\u001b[49m\u001b[38;5;124;43m'\u001b[39;49m\u001b[38;5;124;43mcounts\u001b[39;49m\u001b[38;5;124;43m'\u001b[39;49m\u001b[43m]\u001b[49m\u001b[43m[\u001b[49m\u001b[38;5;124;43m'\u001b[39;49m\u001b[38;5;124;43mpath\u001b[39;49m\u001b[38;5;124;43m'\u001b[39;49m\u001b[43m]\u001b[49m\n\u001b[1;32m      4\u001b[0m resultsDRSID \u001b[38;5;241m=\u001b[39m resultsDRSID\u001b[38;5;241m.\u001b[39msplit(\u001b[38;5;124m'\u001b[39m\u001b[38;5;124m/\u001b[39m\u001b[38;5;124m'\u001b[39m)[\u001b[38;5;241m-\u001b[39m\u001b[38;5;241m1\u001b[39m]\n\u001b[1;32m      5\u001b[0m \u001b[38;5;28mprint\u001b[39m(resultsDRSID)\n",
      "\u001b[0;31mTypeError\u001b[0m: 'NoneType' object is not subscriptable"
     ]
    }
   ],
   "source": [
    "from  fasp.loc import sbcgcDRSClient\n",
    "results_DRS_client = sbcgcDRSClient(SB_API_KEY_PATH, 's3')\n",
    "resultsDRSID = runLog['outputs']['counts']['path']\n",
    "resultsDRSID = resultsDRSID.split('/')[-1]\n",
    "print(resultsDRSID)\n",
    "fileDetails = results_DRS_client.get_object(resultsDRSID)\n",
    "print(fileDetails)\n",
    "url = results_DRS_client.get_access_url(resultsDRSID, 's3')"
   ]
  },
  {
   "cell_type": "code",
   "execution_count": 17,
   "metadata": {},
   "outputs": [
    {
     "ename": "NameError",
     "evalue": "name 'resultsDRSID' is not defined",
     "output_type": "error",
     "traceback": [
      "\u001b[0;31m---------------------------------------------------------------------------\u001b[0m",
      "\u001b[0;31mNameError\u001b[0m                                 Traceback (most recent call last)",
      "Input \u001b[0;32mIn [17]\u001b[0m, in \u001b[0;36m<cell line: 1>\u001b[0;34m()\u001b[0m\n\u001b[0;32m----> 1\u001b[0m fileDetails \u001b[38;5;241m=\u001b[39m results_DRS_client\u001b[38;5;241m.\u001b[39mget_object(\u001b[43mresultsDRSID\u001b[49m)\n\u001b[1;32m      2\u001b[0m fullPath \u001b[38;5;241m=\u001b[39m \u001b[38;5;124m'\u001b[39m\u001b[38;5;124m~/Downloads/\u001b[39m\u001b[38;5;124m'\u001b[39m \u001b[38;5;241m+\u001b[39m fileDetails[\u001b[38;5;124m'\u001b[39m\u001b[38;5;124mname\u001b[39m\u001b[38;5;124m'\u001b[39m]\n\u001b[1;32m      3\u001b[0m \u001b[38;5;28mprint\u001b[39m(url)\n",
      "\u001b[0;31mNameError\u001b[0m: name 'resultsDRSID' is not defined"
     ]
    }
   ],
   "source": [
    "fileDetails = results_DRS_client.get_object(resultsDRSID)\n",
    "fullPath = '~/Downloads/' + fileDetails['name']\n",
    "print(url)\n",
    "download(url, fullPath) "
   ]
  },
  {
   "cell_type": "code",
   "execution_count": 18,
   "metadata": {},
   "outputs": [
    {
     "data": {
      "text/plain": [
       "{'request': {'tags': {},\n",
       "  'workflow_params': {'name': 'SAMtools View 1.8 run - 06-29-22 23:50:13',\n",
       "   'project': 'forei/ismb-tutorial',\n",
       "   'inputs': {'total_memory_GB': None,\n",
       "    'coverage_limit': None,\n",
       "    'count_alignments': True,\n",
       "    'include_only_read_group': None,\n",
       "    'remove_duplicates': None,\n",
       "    'max_insert_size': None,\n",
       "    'reference_file': {'path': 'drs://cgc-ga4gh-api.sbgenomics.com/62b07ea84e3edb6b1c23c8d5',\n",
       "     'name': 'Homo_sapiens_assembly19_1000genomes_decoy.fasta',\n",
       "     'class': 'File'},\n",
       "    'output_file_path': 'NA18948.txt',\n",
       "    'alignment_file_url': 'https://1000genomes.s3.amazonaws.com/phase3/data/NA18948/exome_alignment/NA18948.mapped.ILLUMINA.bwa.JPT.exome.20121211.bam'}},\n",
       "  'workflow_type': 'CWL',\n",
       "  'workflow_engine_params': {},\n",
       "  'workflow_url': 'sbg://forei/ismb-tutorial/samtools-view-drsurl-1-8-url'},\n",
       " 'state': 'COMPLETE',\n",
       " 'outputs': {'counts': {'path': 'drs://cgc-ga4gh-api.sbgenomics.com/62bce6d14e3edb6b1c423d75',\n",
       "   'name': 'NA18948.txt',\n",
       "   'class': 'File'}},\n",
       " 'run_id': '4c1d705f-c9bb-4347-818b-a1e84af60255',\n",
       " 'run_log': {'name': 'SAMtools View 1.8 run - 06-29-22 23:50:13',\n",
       "  'cmd': None,\n",
       "  'start_time': '2022-06-29T23:50:14Z',\n",
       "  'end_time': '2022-06-29T23:57:06Z',\n",
       "  'stdout': None,\n",
       "  'stderr': None,\n",
       "  'exit_code': 0},\n",
       " 'task_logs': [{'name': 'samtools-view-drsurl-1-8-url',\n",
       "   'cmd': '/opt/samtools-1.8/samtools view -c --reference /sbgenomics/Projects/4a147bd5-8c29-4fc4-b6aa-a71aeb36ff61/Homo_sapiens_assembly19_1000genomes_decoy.fasta \"https://1000genomes.s3.amazonaws.com/phase3/data/NA18948/exome_alignment/NA18948.mapped.ILLUMINA.bwa.JPT.exome.20121211.bam\" > NA18948.txt',\n",
       "   'start_time': '2022-06-29T23:52:29Z',\n",
       "   'end_time': '2022-06-29T23:57:04Z',\n",
       "   'stdout': 'drs://cgc-ga4gh-api.sbgenomics.com/62bce6cef08fea4770668e4c',\n",
       "   'stderr': 'drs://cgc-ga4gh-api.sbgenomics.com/62bce6cef08fea4770668e4c',\n",
       "   'exit_code': 0}]}"
      ]
     },
     "execution_count": 18,
     "metadata": {},
     "output_type": "execute_result"
    }
   ],
   "source": [
    "wesClient.get_run_log('4c1d705f-c9bb-4347-818b-a1e84af60255')"
   ]
  },
  {
   "cell_type": "markdown",
   "metadata": {},
   "source": [
    "The next cell defines a function to retrieve the results from the WES server\n",
    "\n",
    "* Retrieve the result\n",
    "* Downlaod the result file\n",
    "* Extract the count from the file\n",
    "* Return the count\n"
   ]
  },
  {
   "cell_type": "code",
   "execution_count": 19,
   "metadata": {},
   "outputs": [],
   "source": [
    "import tempfile\n",
    "\n",
    "def get_sam_view_result(run_id):\n",
    "    # WES API call to retrieve the log of the run - including the results\n",
    "    log = wesClient.get_run_log(run_id)\n",
    "    resultsDRSID = log['outputs']['counts']['path']\n",
    "    resultsDRSID = resultsDRSID.split('/')[-1]\n",
    "    \n",
    "    # DRS API call to get the results file\n",
    "    url = results_DRS_client.get_access_url(resultsDRSID,'s3')\n",
    "    \n",
    "    with tempfile.NamedTemporaryFile(mode='r+') as file:\n",
    "        response = requests.get(url)\n",
    "        file.write(response.text)\n",
    "        file.seek(0)\n",
    "        x = file.read()\n",
    "    return x.strip()\n",
    "\n",
    "    "
   ]
  },
  {
   "cell_type": "code",
   "execution_count": 21,
   "metadata": {},
   "outputs": [],
   "source": [
    "for run in json_result:\n",
    "    status = wesClient.get_task_status(run['run_id'])\n",
    "    if  status == 'COMPLETE':\n",
    "        count_result = get_sam_view_result(run['run_id'])\n",
    "        run['count_result'] = count_result\n",
    "    else:\n",
    "        run['count_result'] = status\n"
   ]
  },
  {
   "cell_type": "code",
   "execution_count": 22,
   "metadata": {},
   "outputs": [
    {
     "data": {
      "text/plain": [
       "[{'sample_name': 'HG00731',\n",
       "  'bam_drs_id': '515ae091f29ac699a4d2e272812cea47',\n",
       "  'acc': 'SRR1606560',\n",
       "  'run_id': '9545528c-8014-4d73-a5c7-3c07c4b2472d',\n",
       "  'count_result': 'INITIALIZING'},\n",
       " {'sample_name': 'HG00637',\n",
       "  'bam_drs_id': '475dfc02f643c368036df6816d05afe4',\n",
       "  'acc': 'SRR1596919',\n",
       "  'run_id': '4925d6a5-3227-401c-b4be-66e7285b410f',\n",
       "  'count_result': 'INITIALIZING'},\n",
       " {'sample_name': 'HG00640',\n",
       "  'bam_drs_id': '58e2964f2a0adbf41ab0e8c7a95e7d0c',\n",
       "  'acc': 'SRR1596923',\n",
       "  'run_id': '4791be68-21a7-459d-ae95-d735c0b14d41',\n",
       "  'count_result': 'INITIALIZING'}]"
      ]
     },
     "execution_count": 22,
     "metadata": {},
     "output_type": "execute_result"
    }
   ],
   "source": [
    "json_result"
   ]
  },
  {
   "cell_type": "code",
   "execution_count": 114,
   "metadata": {},
   "outputs": [
    {
     "data": {
      "text/html": [
       "<div>\n",
       "<style scoped>\n",
       "    .dataframe tbody tr th:only-of-type {\n",
       "        vertical-align: middle;\n",
       "    }\n",
       "\n",
       "    .dataframe tbody tr th {\n",
       "        vertical-align: top;\n",
       "    }\n",
       "\n",
       "    .dataframe thead th {\n",
       "        text-align: right;\n",
       "    }\n",
       "</style>\n",
       "<table border=\"1\" class=\"dataframe\">\n",
       "  <thead>\n",
       "    <tr style=\"text-align: right;\">\n",
       "      <th></th>\n",
       "      <th>sample_name</th>\n",
       "      <th>bam_drs_id</th>\n",
       "      <th>acc</th>\n",
       "      <th>run_id</th>\n",
       "      <th>count_result</th>\n",
       "    </tr>\n",
       "  </thead>\n",
       "  <tbody>\n",
       "    <tr>\n",
       "      <th>0</th>\n",
       "      <td>HG00731</td>\n",
       "      <td>515ae091f29ac699a4d2e272812cea47</td>\n",
       "      <td>SRR1606560</td>\n",
       "      <td>9a8df37a-d265-4159-8d64-37244ff8f63a</td>\n",
       "      <td>432255472</td>\n",
       "    </tr>\n",
       "    <tr>\n",
       "      <th>1</th>\n",
       "      <td>HG00637</td>\n",
       "      <td>475dfc02f643c368036df6816d05afe4</td>\n",
       "      <td>SRR1596919</td>\n",
       "      <td>493e58a7-b631-4482-9a3c-b069a0b73cba</td>\n",
       "      <td>102554431</td>\n",
       "    </tr>\n",
       "    <tr>\n",
       "      <th>2</th>\n",
       "      <td>HG00640</td>\n",
       "      <td>58e2964f2a0adbf41ab0e8c7a95e7d0c</td>\n",
       "      <td>SRR1596923</td>\n",
       "      <td>25b1b213-6fee-4122-a26c-b348c08610fd</td>\n",
       "      <td>102424655</td>\n",
       "    </tr>\n",
       "  </tbody>\n",
       "</table>\n",
       "</div>"
      ],
      "text/plain": [
       "  sample_name                        bam_drs_id         acc  \\\n",
       "0     HG00731  515ae091f29ac699a4d2e272812cea47  SRR1606560   \n",
       "1     HG00637  475dfc02f643c368036df6816d05afe4  SRR1596919   \n",
       "2     HG00640  58e2964f2a0adbf41ab0e8c7a95e7d0c  SRR1596923   \n",
       "\n",
       "                                 run_id count_result  \n",
       "0  9a8df37a-d265-4159-8d64-37244ff8f63a    432255472  \n",
       "1  493e58a7-b631-4482-9a3c-b069a0b73cba    102554431  \n",
       "2  25b1b213-6fee-4122-a26c-b348c08610fd    102424655  "
      ]
     },
     "execution_count": 114,
     "metadata": {},
     "output_type": "execute_result"
    }
   ],
   "source": [
    "import pandas as pd\n",
    "df = pd.DataFrame(json_result)\n",
    "df"
   ]
  },
  {
   "cell_type": "code",
   "execution_count": null,
   "metadata": {},
   "outputs": [],
   "source": []
  }
 ],
 "metadata": {
  "kernelspec": {
   "display_name": "Python 3 (ipykernel)",
   "language": "python",
   "name": "python3"
  },
  "language_info": {
   "codemirror_mode": {
    "name": "ipython",
    "version": 3
   },
   "file_extension": ".py",
   "mimetype": "text/x-python",
   "name": "python",
   "nbconvert_exporter": "python",
   "pygments_lexer": "ipython3",
   "version": "3.9.7"
  }
 },
 "nbformat": 4,
 "nbformat_minor": 4
}
