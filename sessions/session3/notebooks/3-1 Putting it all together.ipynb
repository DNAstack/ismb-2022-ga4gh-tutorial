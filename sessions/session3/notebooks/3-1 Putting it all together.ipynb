{
 "cells": [
  {
   "cell_type": "markdown",
   "metadata": {},
   "source": [
    " ### Combining GA4GH standards to perform an end-to-end workflow\n",
    " \n",
    "#### Learning Objectives\n",
    "Combine Data Connect, WES and DRS services  \n",
    "\n",
    "What will participants do as part of the exercise?\n",
    "\n",
    " - Search for files with Data Connect\n",
    " - Obtain links to access files\n",
    " - Submit the files to a WES workflow\n",
    " - Retrieve the results of the analysis\n",
    " \n",
    " \n",
    " #### Icons in this Guide\n",
    "\n",
    " 🖐 A hands-on section where you will code something or interact with the server\n",
    " \n",
    " #### 1. Run a cell in a Jupyter notebook\n",
    " \n",
    " ## Obtain Thousand Genomes files from SRA DRS and submit to Seven Bridges WES"
   ]
  },
  {
   "cell_type": "markdown",
   "metadata": {},
   "source": [
    "🖐 Set up your project name, location of your file"
   ]
  },
  {
   "cell_type": "code",
   "execution_count": null,
   "metadata": {},
   "outputs": [],
   "source": [
    "SB_PROJECT = 'forei/ismb-tutorial'\n",
    "SB_API_KEY_PATH = '~/.keys/sbcgc_key.json'\n",
    "DOWNLOAD_LOCATION = '~/Downloads'"
   ]
  },
  {
   "cell_type": "code",
   "execution_count": null,
   "metadata": {},
   "outputs": [],
   "source": [
    "from fasp.search import DataConnectClient\n",
    "\n",
    "# Step 1 - Discovery\n",
    "# query for relevant DRS objects\n",
    "searchClient = DataConnectClient('https://ga4gh-search-adapter-presto-public.prod.dnastack.com/')\n",
    "\n",
    "query = '''SELECT f.sample_name, drs_id bam_drs_id, acc\n",
    "FROM thousand_genomes.onek_genomes.ssd_drs s \n",
    "join thousand_genomes.onek_genomes.sra_drs_files f on f.sample_name = s.su_submitter_id \n",
    "where filetype = 'bam' and mapped = 'mapped' \n",
    "and sequencing_type ='exome' and  population = 'PUR' LIMIT 3'''\n",
    "\n",
    "json_result = searchClient.run_query(query, returnType='json')\n",
    "json_result"
   ]
  },
  {
   "cell_type": "markdown",
   "metadata": {},
   "source": [
    "### Convert the result into a Dataframe"
   ]
  },
  {
   "cell_type": "code",
   "execution_count": null,
   "metadata": {},
   "outputs": [],
   "source": [
    "import pandas as pd\n",
    "first_df = pd.DataFrame(json_result)\n",
    "first_df"
   ]
  },
  {
   "cell_type": "markdown",
   "metadata": {},
   "source": [
    "### Use DRS to obtain file details"
   ]
  },
  {
   "cell_type": "markdown",
   "metadata": {},
   "source": [
    "The following shows how the SRA DRS server can be used to determine where the files can be obtained from. The following shows this for the first DRS id from the query results. "
   ]
  },
  {
   "cell_type": "code",
   "execution_count": null,
   "metadata": {},
   "outputs": [],
   "source": [
    "from fasp.loc import DRSClient\n",
    "\n",
    "drsClient = DRSClient('https://locate.be-md.ncbi.nlm.nih.gov', public=True, debug=False)\n",
    "test_id = json_result[0]['bam_drs_id']\n",
    "print(test_id)\n",
    "objInfo = drsClient.get_object(test_id)\n",
    "objInfo"
   ]
  },
  {
   "cell_type": "markdown",
   "metadata": {},
   "source": [
    "A second DRS call can be used to obtain a url to access the file from one of the above locations."
   ]
  },
  {
   "cell_type": "code",
   "execution_count": null,
   "metadata": {},
   "outputs": [],
   "source": [
    "access_id = objInfo['access_methods'][0]['access_id']\n",
    "print('access_id:{}'.format(access_id))\n",
    "url = drsClient.get_access_url(test_id, access_id=access_id)\n",
    "print('url:{}'.format(url))"
   ]
  },
  {
   "cell_type": "markdown",
   "metadata": {},
   "source": [
    "### Set up a WES client"
   ]
  },
  {
   "cell_type": "code",
   "execution_count": null,
   "metadata": {},
   "outputs": [],
   "source": [
    "from fasp.workflow import sbcgcWESClient\n",
    "wesClient = sbcgcWESClient(SB_PROJECT, api_key_path=SB_API_KEY_PATH)"
   ]
  },
  {
   "cell_type": "markdown",
   "metadata": {},
   "source": [
    "#### Define a function to submit the workflow\n",
    "\n",
    "🖐 In the following it may be necessary to point to your copy of the application.\n",
    "Instructions will we provided"
   ]
  },
  {
   "cell_type": "code",
   "execution_count": null,
   "metadata": {},
   "outputs": [],
   "source": [
    "import json\n",
    "import requests\n",
    "\n",
    "def runWorkflow(wesClient, fileurl, outfile):\n",
    "\n",
    "    sam_view_app = 'sbg://forei/ismb-tutorial/samtools-view-drsurl-1-8-url'\n",
    "    #replace with your copy of the app\n",
    "    #sam_view_app = 'sbg://forei/ismb-tutorial/samtools-view-drsurl-1-8-url'\n",
    "\n",
    "    ref_drs_id = 'drs://cgc-ga4gh-api.sbgenomics.com/62b07ea84e3edb6b1c23c8d5'\n",
    "\n",
    "    params = {\n",
    "        \"project\": SB_PROJECT,\n",
    "        \"inputs\": {\n",
    "          \"alignment_file_url\": fileurl,\n",
    "          \"count_alignments\": True,\n",
    "          \"reference_file\": {\n",
    "            \"path\": ref_drs_id,\n",
    "            \"name\": \"references-hs37d5-hs37d5.fasta\",\n",
    "            \"class\": \"File\"\n",
    "          },\n",
    "          \"output_file_path\": outfile\n",
    "        }\n",
    "     }\n",
    "\n",
    "\n",
    "    body = {\n",
    "      \"workflow_params\": (None, json.dumps(params), 'application/json'),\n",
    "      \"workflow_type\": \"CWL\",\n",
    "      \"workflow_type_version\": \"sbg:draft-2\",\n",
    "      \"workflow_url\": sam_view_app\n",
    "    }\n",
    "    \n",
    "    run_id= wesClient.run_generic_workflow(\n",
    "        workflow_url=sam_view_app,\n",
    "        workflow_params = json.dumps(params),\n",
    "        workflow_type = \"CWL\",\n",
    "        workflow_type_version = \"sbg:draft-2\",\n",
    "        verbose=False\n",
    "    )\n",
    "    return(run_id)"
   ]
  },
  {
   "cell_type": "markdown",
   "metadata": {},
   "source": [
    "#### For each result of the query above submit a task to the Cancer Genomics Cloud"
   ]
  },
  {
   "cell_type": "code",
   "execution_count": null,
   "metadata": {},
   "outputs": [],
   "source": [
    "import datetime\n",
    "\n",
    "# set the region we want to access data from\n",
    "region = 's3.us-east-1'\n",
    "my_runs = []\n",
    "        \n",
    "for row in json_result:\n",
    "\n",
    "    print(\"subject={}, drsID={}\".format(row['bam_drs_id'], row['sample_name']))\n",
    "    drs_id = row['bam_drs_id']\n",
    "\n",
    "\n",
    "    objInfo = drsClient.get_object(drs_id)\n",
    "    url = drsClient.get_url_for_region(drs_id,region)\n",
    "\n",
    "    # Step 3 - Run a pipeline on the file at the drs url\n",
    "    if url != None:\n",
    "        outfile = \"{}.txt\".format(row['sample_name'])\n",
    "        time = datetime.datetime.now().strftime(\"%Y-%m-%d %H:%M:%S\")\n",
    "        run_id = runWorkflow(wesClient, url, outfile)\n",
    "        print('Submitted run {} to {}'.format(run_id, wesClient.__class__.__name__))\n",
    "        my_runs.append(run_id)\n",
    "        row['run_id']=run_id\n",
    "    print('_________________________________________________________________________')"
   ]
  },
  {
   "cell_type": "code",
   "execution_count": null,
   "metadata": {},
   "outputs": [],
   "source": [
    "json_result"
   ]
  },
  {
   "cell_type": "code",
   "execution_count": null,
   "metadata": {},
   "outputs": [],
   "source": [
    "for run in json_result:\n",
    "    status = wesClient.get_task_status(run['run_id'])\n",
    "    print((\"Run {} {}\".format(run['run_id'], status)))"
   ]
  },
  {
   "cell_type": "markdown",
   "metadata": {},
   "source": [
    "### Check status above until completion\n",
    "Expect these runs to take 7-10 minutes to complete"
   ]
  },
  {
   "cell_type": "markdown",
   "metadata": {},
   "source": [
    "## Getting the results"
   ]
  },
  {
   "cell_type": "markdown",
   "metadata": {},
   "source": [
    "Use the Seven Bridges CGC DRS service to retrieve the output file"
   ]
  },
  {
   "cell_type": "markdown",
   "metadata": {},
   "source": [
    "The next cell defines a function to retrieve the results from the WES server\n",
    "\n",
    "* Retrieve the result\n",
    "* Download the result file\n",
    "* Extract the count from the file\n",
    "* Return the count\n"
   ]
  },
  {
   "cell_type": "code",
   "execution_count": null,
   "metadata": {},
   "outputs": [],
   "source": [
    "import tempfile\n",
    "\n",
    "def get_sam_view_result(run_id):\n",
    "    # WES API call to retrieve the log of the run - including the results\n",
    "    log = wesClient.get_run_log(run_id)\n",
    "    resultsDRSID = log['outputs']['counts']['path']\n",
    "    resultsDRSID = resultsDRSID.split('/')[-1]\n",
    "    \n",
    "    # DRS API call to get the results file\n",
    "    url = results_DRS_client.get_access_url(resultsDRSID,'s3')\n",
    "    \n",
    "    with tempfile.NamedTemporaryFile(mode='r+') as file:\n",
    "        response = requests.get(url)\n",
    "        file.write(response.text)\n",
    "        file.seek(0)\n",
    "        x = file.read()\n",
    "    return x.strip()\n",
    "\n",
    "    "
   ]
  },
  {
   "cell_type": "code",
   "execution_count": null,
   "metadata": {},
   "outputs": [],
   "source": [
    "for run in json_result:\n",
    "    status = wesClient.get_task_status(run['run_id'])\n",
    "    if  status == 'COMPLETE':\n",
    "        count_result = get_sam_view_result(run['run_id'])\n",
    "        run['count_result'] = count_result\n",
    "    else:\n",
    "        run['count_result'] = status\n"
   ]
  },
  {
   "cell_type": "code",
   "execution_count": null,
   "metadata": {},
   "outputs": [],
   "source": [
    "json_result"
   ]
  },
  {
   "cell_type": "code",
   "execution_count": null,
   "metadata": {},
   "outputs": [],
   "source": [
    "import pandas as pd\n",
    "df = pd.DataFrame(json_result)\n",
    "df"
   ]
  }
 ],
 "metadata": {
  "kernelspec": {
   "display_name": "Python 3 (ipykernel)",
   "language": "python",
   "name": "python3"
  },
  "language_info": {
   "codemirror_mode": {
    "name": "ipython",
    "version": 3
   },
   "file_extension": ".py",
   "mimetype": "text/x-python",
   "name": "python",
   "nbconvert_exporter": "python",
   "pygments_lexer": "ipython3",
   "version": "3.9.7"
  }
 },
 "nbformat": 4,
 "nbformat_minor": 4
}
