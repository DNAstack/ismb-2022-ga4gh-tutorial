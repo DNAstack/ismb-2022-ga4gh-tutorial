{
 "cells": [
  {
   "cell_type": "markdown",
   "metadata": {},
   "source": [
    "## Running samtools view via the WES API\n",
    "\n",
    "#### Learning Objectives\n",
    "Workshop attendees will learn how use the GA4GH Workflow Execution Service (WES).  \n",
    "\n",
    "What will participants do as part of the exercise?\n",
    "\n",
    " - Understanding how to run a workflow via WES\n",
    " - Adjust some parameters of the workflow\n",
    " - Check the status of the runs\n",
    " - Access the workflow results via DRS\n",
    " \n",
    " #### Icons in this Guide\n",
    "\n",
    " 🖐 A hands-on section where you will code something or interact with the server\n",
    " \n",
    " \n",
    " \n",
    "Just as we used a python client to submit DRS requests in the previous notebook we will use a similar client from the fasp package to run workflows.\n",
    "\n",
    "By setting the debug flag to True on the client, the actual http calls will be shown.\n"
   ]
  },
  {
   "cell_type": "code",
   "execution_count": 30,
   "metadata": {},
   "outputs": [],
   "source": [
    "from fasp.workflow import sbcgcWESClient\n",
    "SB_PROJECT = 'forei/ismb-tutorial'\n",
    "SB_API_KEY_PATH = '~/.keys/sbcgc_key.json'\n",
    "\n",
    "cl = sbcgcWESClient(SB_PROJECT, debug=True)"
   ]
  },
  {
   "cell_type": "code",
   "execution_count": 2,
   "metadata": {},
   "outputs": [],
   "source": [
    "task_name = \"Tutorial run 1 test via WES - header only\"\n",
    "\n",
    "drs_uris  = ['drs://cgc-ga4gh-api.sbgenomics.com/5832fef8507c17de5bfc5806',\n",
    "'drs://cgc-ga4gh-api.sbgenomics.com/5772b6f8507c175267448709']\n",
    "\n",
    "params = {\n",
    "\"project\": project_name,\n",
    "\"name\": task_name,\n",
    "\"inputs\": {\n",
    "    \"output_header_only\": True,\n",
    "    \"include_header\": True,\n",
    "        \"in_alignments\": {\n",
    "          \"path\": drs_uris[0],\n",
    "          \"class\": \"File\"\n",
    "        }\n",
    "    }\n",
    "}"
   ]
  },
  {
   "cell_type": "markdown",
   "metadata": {},
   "source": [
    "## Calling WES from Python"
   ]
  },
  {
   "cell_type": "markdown",
   "metadata": {},
   "source": [
    "Now we have formulated the body in the way that it can be passed to a client function as follows."
   ]
  },
  {
   "cell_type": "code",
   "execution_count": 3,
   "metadata": {},
   "outputs": [
    {
     "name": "stdout",
     "output_type": "stream",
     "text": [
      "sending to https://cgc-ga4gh-api.sbgenomics.com/ga4gh/wes/v1/runs\n",
      "Workflow Parameters\n",
      "\"{\\\"project\\\": \\\"forei/ismb-tutorial\\\", \\\"name\\\": \\\"Tutorial run 1 test via WES - header only\\\", \\\"inputs\\\": {\\\"output_header_only\\\": true, \\\"include_header\\\": true, \\\"in_alignments\\\": {\\\"path\\\": \\\"drs://cgc-ga4gh-api.sbgenomics.com/5832fef8507c17de5bfc5806\\\", \\\"class\\\": \\\"File\\\"}}}\"\n",
      "BODY\n",
      "{\n",
      "   \"workflow_url\": [\n",
      "      null,\n",
      "      \"sbg://forei/ismb-tutorial/samtools-view-1-9-cwl1-0\",\n",
      "      \"text/plain\"\n",
      "   ],\n",
      "   \"workflow_params\": [\n",
      "      null,\n",
      "      \"{\\\"project\\\": \\\"forei/ismb-tutorial\\\", \\\"name\\\": \\\"Tutorial run 1 test via WES - header only\\\", \\\"inputs\\\": {\\\"output_header_only\\\": true, \\\"include_header\\\": true, \\\"in_alignments\\\": {\\\"path\\\": \\\"drs://cgc-ga4gh-api.sbgenomics.com/5832fef8507c17de5bfc5806\\\", \\\"class\\\": \\\"File\\\"}}}\",\n",
      "      \"application/json\"\n",
      "   ],\n",
      "   \"workflow_engine_params\": [\n",
      "      null,\n",
      "      null,\n",
      "      \"application/json\"\n",
      "   ],\n",
      "   \"workflow_type\": [\n",
      "      null,\n",
      "      \"CWL\",\n",
      "      \"text/plain\"\n",
      "   ],\n",
      "   \"workflow_type_version\": [\n",
      "      null,\n",
      "      \"v1.0\",\n",
      "      \"text/plain\"\n",
      "   ],\n",
      "   \"tags\": [\n",
      "      null,\n",
      "      null,\n",
      "      \"text/plain\"\n",
      "   ],\n",
      "   \"workflow_attachment\": null\n",
      "}\n"
     ]
    },
    {
     "data": {
      "text/plain": [
       "'a5e6968e-72ea-4846-ad72-010878fb5d94'"
      ]
     },
     "execution_count": 3,
     "metadata": {},
     "output_type": "execute_result"
    }
   ],
   "source": [
    "import json\n",
    "\n",
    "#sam_view_app = 'sbg://admin/sbg-public-data/samtools-view-1-9-cwl1-0'\n",
    "#sam_view_app = 'sbg://yasasvinip/test-1/samtools-view-1-9-cwl1-0'\n",
    "sam_view_app = 'sbg://forei/ismb-tutorial/samtools-view-1-9-cwl1-0'\n",
    "\n",
    "run_id= cl.run_generic_workflow(\n",
    "    workflow_url=sam_view_app,\n",
    "    workflow_params = json.dumps(params),\n",
    "    workflow_type = \"CWL\",\n",
    "    workflow_type_version = \"v1.0\",\n",
    "    verbose=False\n",
    ")\n",
    "run_id"
   ]
  },
  {
   "cell_type": "code",
   "execution_count": 10,
   "metadata": {},
   "outputs": [
    {
     "name": "stdout",
     "output_type": "stream",
     "text": [
      "Get request sent to: https://cgc-ga4gh-api.sbgenomics.com/ga4gh/wes/v1/runs/a5e6968e-72ea-4846-ad72-010878fb5d94\n"
     ]
    },
    {
     "data": {
      "text/plain": [
       "'COMPLETE'"
      ]
     },
     "execution_count": 10,
     "metadata": {},
     "output_type": "execute_result"
    }
   ],
   "source": [
    "cl.get_task_status(run_id)"
   ]
  },
  {
   "cell_type": "markdown",
   "metadata": {},
   "source": [
    "#### Adjust a parameter of the run\n",
    "\n",
    "Using the desciption of the app on the Seven Bridges Platform\n",
    "identify the parameter that directs samtools view to only output the count of matching records\n",
    "https://cgc.sbgenomics.com/u/forei/ismb-tutorial/apps/#forei/ismb-tutorial/samtools-view-1-9-cwl1-0\n",
    "\n",
    "Alter the details in the following copy of the previous run\n",
    "* Edit the parameters section below to set the value of the parameter you have identified to True.\n",
    "* Delete the other parameters from the previous run.\n",
    "* Enter a task name that will help you identify the task"
   ]
  },
  {
   "cell_type": "code",
   "execution_count": 8,
   "metadata": {},
   "outputs": [],
   "source": [
    "task_name2 = \"samtools view count only\"\n",
    "\n",
    "params2 = {\n",
    "\"project\": project_name,\n",
    "\"name\": task_name2,\n",
    "\"inputs\": {\n",
    "    \"count_alignments\": True,\n",
    "        \"in_alignments\": {\n",
    "          \"path\": drs_uris[0],\n",
    "          \"class\": \"File\"\n",
    "        }\n",
    "    }\n",
    "}"
   ]
  },
  {
   "cell_type": "markdown",
   "metadata": {},
   "source": [
    "#### Submit the revised task and make a note of the run_id"
   ]
  },
  {
   "cell_type": "code",
   "execution_count": 11,
   "metadata": {},
   "outputs": [
    {
     "name": "stdout",
     "output_type": "stream",
     "text": [
      "sending to https://cgc-ga4gh-api.sbgenomics.com/ga4gh/wes/v1/runs\n",
      "Workflow Parameters\n",
      "\"{\\\"project\\\": \\\"forei/ismb-tutorial\\\", \\\"name\\\": \\\"samtools view count only\\\", \\\"inputs\\\": {\\\"count_alignments\\\": true, \\\"in_alignments\\\": {\\\"path\\\": \\\"drs://cgc-ga4gh-api.sbgenomics.com/5832fef8507c17de5bfc5806\\\", \\\"class\\\": \\\"File\\\"}}}\"\n",
      "BODY\n",
      "{\n",
      "   \"workflow_url\": [\n",
      "      null,\n",
      "      \"sbg://forei/ismb-tutorial/samtools-view-1-9-cwl1-0\",\n",
      "      \"text/plain\"\n",
      "   ],\n",
      "   \"workflow_params\": [\n",
      "      null,\n",
      "      \"{\\\"project\\\": \\\"forei/ismb-tutorial\\\", \\\"name\\\": \\\"samtools view count only\\\", \\\"inputs\\\": {\\\"count_alignments\\\": true, \\\"in_alignments\\\": {\\\"path\\\": \\\"drs://cgc-ga4gh-api.sbgenomics.com/5832fef8507c17de5bfc5806\\\", \\\"class\\\": \\\"File\\\"}}}\",\n",
      "      \"application/json\"\n",
      "   ],\n",
      "   \"workflow_engine_params\": [\n",
      "      null,\n",
      "      null,\n",
      "      \"application/json\"\n",
      "   ],\n",
      "   \"workflow_type\": [\n",
      "      null,\n",
      "      \"CWL\",\n",
      "      \"text/plain\"\n",
      "   ],\n",
      "   \"workflow_type_version\": [\n",
      "      null,\n",
      "      \"v1.0\",\n",
      "      \"text/plain\"\n",
      "   ],\n",
      "   \"tags\": [\n",
      "      null,\n",
      "      null,\n",
      "      \"text/plain\"\n",
      "   ],\n",
      "   \"workflow_attachment\": null\n",
      "}\n"
     ]
    },
    {
     "data": {
      "text/plain": [
       "'60d1acc0-13f3-4647-82dc-2948cec56d4f'"
      ]
     },
     "execution_count": 11,
     "metadata": {},
     "output_type": "execute_result"
    }
   ],
   "source": [
    "run_id2 = cl.run_generic_workflow(\n",
    "    workflow_url=sam_view_app,\n",
    "    workflow_params = json.dumps(params2),\n",
    "    workflow_type = \"CWL\",\n",
    "    workflow_type_version = \"v1.0\",\n",
    "    verbose=False\n",
    ")\n",
    "run_id2"
   ]
  },
  {
   "cell_type": "markdown",
   "metadata": {},
   "source": [
    "#### Noting the name of the variable in which the id of the new run was executed, write a line to check the status of the run"
   ]
  },
  {
   "cell_type": "code",
   "execution_count": 16,
   "metadata": {},
   "outputs": [
    {
     "name": "stdout",
     "output_type": "stream",
     "text": [
      "Get request sent to: https://cgc-ga4gh-api.sbgenomics.com/ga4gh/wes/v1/runs/60d1acc0-13f3-4647-82dc-2948cec56d4f\n"
     ]
    },
    {
     "data": {
      "text/plain": [
       "'COMPLETE'"
      ]
     },
     "execution_count": 16,
     "metadata": {},
     "output_type": "execute_result"
    }
   ],
   "source": [
    "cl.get_task_status(run_id2)"
   ]
  },
  {
   "cell_type": "markdown",
   "metadata": {},
   "source": [
    "## Getting the results - via DRS\n",
    "Once the first run is complete, further steps can use DRS to obtain the file output from the workflow."
   ]
  },
  {
   "cell_type": "code",
   "execution_count": 18,
   "metadata": {},
   "outputs": [
    {
     "name": "stdout",
     "output_type": "stream",
     "text": [
      "Get request sent to: https://cgc-ga4gh-api.sbgenomics.com/ga4gh/wes/v1/runs/a5e6968e-72ea-4846-ad72-010878fb5d94\n"
     ]
    },
    {
     "data": {
      "text/plain": [
       "{'reads_not_selected_by_filters': None,\n",
       " 'alignement_count': None,\n",
       " 'out_alignments': {'path': 'drs://cgc-ga4gh-api.sbgenomics.com/62bcbd19f08fea4770666e94',\n",
       "  'basename': '_17_G20479.HCC1143_1M.aligned.header.sam',\n",
       "  'nameext': '.sam',\n",
       "  'class': 'File',\n",
       "  'nameroot': '_17_G20479.HCC1143_1M.aligned.header'}}"
      ]
     },
     "execution_count": 18,
     "metadata": {},
     "output_type": "execute_result"
    }
   ],
   "source": [
    "runLog = cl.get_run_log(run_id)\n",
    "runLog['outputs']"
   ]
  },
  {
   "cell_type": "code",
   "execution_count": 19,
   "metadata": {},
   "outputs": [
    {
     "data": {
      "text/plain": [
       "'drs://cgc-ga4gh-api.sbgenomics.com/62bcbd19f08fea4770666e94'"
      ]
     },
     "execution_count": 19,
     "metadata": {},
     "output_type": "execute_result"
    }
   ],
   "source": [
    "results_drs_uri = runLog['outputs']['out_alignments']['path']\n",
    "results_drs_uri"
   ]
  },
  {
   "cell_type": "markdown",
   "metadata": {},
   "source": [
    "We'll pass over the question of how one would determine which DRS server that URI needs to be sent to because\n",
    "* In this case it's fairly obvious - it's the CGC DRS Server\n",
    "* We want to get something up and working"
   ]
  },
  {
   "cell_type": "code",
   "execution_count": 20,
   "metadata": {
    "scrolled": true
   },
   "outputs": [],
   "source": [
    "from fasp.loc import sbcgcDRSClient\n",
    "drsClient = sbcgcDRSClient(SB_API_KEY_PATH, 's3')"
   ]
  },
  {
   "cell_type": "markdown",
   "metadata": {},
   "source": [
    "### DRS GetObject\n",
    "Here's how we then get details of the file. Note that here only the id portion of the DRS URI is being passed. It is the job of a metaresolver to look at that URI and to determine where to send the id. As noted, we are passing up on the opportunity to use a metaresolver and extracting the bare id as follows"
   ]
  },
  {
   "cell_type": "code",
   "execution_count": 21,
   "metadata": {},
   "outputs": [
    {
     "name": "stdout",
     "output_type": "stream",
     "text": [
      "Getting 62bcbd19f08fea4770666e94 from DRS Client\n"
     ]
    },
    {
     "data": {
      "text/plain": [
       "{'id': '62bcbd19f08fea4770666e94',\n",
       " 'name': '_17_G20479.HCC1143_1M.aligned.header.sam',\n",
       " 'size': 3598,\n",
       " 'checksums': [{'type': 'etag',\n",
       "   'checksum': '159acae2ce81efee40f0f89ee58f2f95-1'}],\n",
       " 'self_uri': 'drs://cgc-ga4gh-api.sbgenomics.com/62bcbd19f08fea4770666e94',\n",
       " 'created_time': '2022-06-29T20:59:05Z',\n",
       " 'updated_time': '2022-06-29T20:59:05Z',\n",
       " 'mime_type': 'application/json',\n",
       " 'access_methods': [{'type': 's3',\n",
       "   'region': 'us-east-1',\n",
       "   'access_id': 'aws-us-east-1'}]}"
      ]
     },
     "execution_count": 21,
     "metadata": {},
     "output_type": "execute_result"
    }
   ],
   "source": [
    "# get the id part of the URI\n",
    "out_alignments_drs_id = results_drs_uri.split('/')[-1]\n",
    "print(f\"Getting {out_alignments_drs_id} from DRS Client\")\n",
    "fileDetails = drsClient.get_object(out_alignments_drs_id)\n",
    "fileDetails"
   ]
  },
  {
   "cell_type": "code",
   "execution_count": 22,
   "metadata": {},
   "outputs": [],
   "source": [
    "url = drsClient.get_access_url(out_alignments_drs_id,'s3')"
   ]
  },
  {
   "cell_type": "markdown",
   "metadata": {},
   "source": [
    "### Warning - the results files are approx 700-800Mb"
   ]
  },
  {
   "cell_type": "markdown",
   "metadata": {},
   "source": [
    "### Downloading the file\n",
    "Now we can use the url obtained to download the file. We'll create a small function to encapsulate the download."
   ]
  },
  {
   "cell_type": "code",
   "execution_count": 23,
   "metadata": {},
   "outputs": [],
   "source": [
    "import requests\n",
    "import os\n",
    "def download(url, file_path):\n",
    "    with open(os.path.expanduser(file_path), \"wb\") as file:\n",
    "        response = requests.get(url)\n",
    "        file.write(response.content)"
   ]
  },
  {
   "cell_type": "code",
   "execution_count": 24,
   "metadata": {},
   "outputs": [],
   "source": [
    "fullPath = '~/Downloads/' + fileDetails['name']\n",
    "download(url, fullPath)"
   ]
  },
  {
   "cell_type": "markdown",
   "metadata": {},
   "source": [
    "### Repeat the steps above to retrieve the results of the second run"
   ]
  },
  {
   "cell_type": "code",
   "execution_count": 25,
   "metadata": {},
   "outputs": [
    {
     "name": "stdout",
     "output_type": "stream",
     "text": [
      "Get request sent to: https://cgc-ga4gh-api.sbgenomics.com/ga4gh/wes/v1/runs/60d1acc0-13f3-4647-82dc-2948cec56d4f\n"
     ]
    },
    {
     "data": {
      "text/plain": [
       "{'reads_not_selected_by_filters': None,\n",
       " 'alignement_count': {'path': 'drs://cgc-ga4gh-api.sbgenomics.com/62bcbec3f08fea4770666edc',\n",
       "  'basename': '_7_G20479.HCC1143_1M.aligned.count.txt',\n",
       "  'nameext': '.txt',\n",
       "  'class': 'File',\n",
       "  'nameroot': '_7_G20479.HCC1143_1M.aligned.count'},\n",
       " 'out_alignments': None}"
      ]
     },
     "execution_count": 25,
     "metadata": {},
     "output_type": "execute_result"
    }
   ],
   "source": [
    "runLog = cl.get_run_log(run_id2)\n",
    "runLog['outputs']"
   ]
  },
  {
   "cell_type": "code",
   "execution_count": 26,
   "metadata": {},
   "outputs": [
    {
     "data": {
      "text/plain": [
       "'drs://cgc-ga4gh-api.sbgenomics.com/62bcbec3f08fea4770666edc'"
      ]
     },
     "execution_count": 26,
     "metadata": {},
     "output_type": "execute_result"
    }
   ],
   "source": [
    "results_drs_uri = runLog['outputs']['alignement_count']['path']\n",
    "results_drs_uri"
   ]
  },
  {
   "cell_type": "code",
   "execution_count": 27,
   "metadata": {},
   "outputs": [
    {
     "name": "stdout",
     "output_type": "stream",
     "text": [
      "Getting 62bcbec3f08fea4770666edc from DRS Client\n"
     ]
    },
    {
     "data": {
      "text/plain": [
       "{'id': '62bcbec3f08fea4770666edc',\n",
       " 'name': '_7_G20479.HCC1143_1M.aligned.count.txt',\n",
       " 'size': 8,\n",
       " 'checksums': [{'type': 'etag',\n",
       "   'checksum': 'f5c995e0afde0c351122a317dde6d44d-1'}],\n",
       " 'self_uri': 'drs://cgc-ga4gh-api.sbgenomics.com/62bcbec3f08fea4770666edc',\n",
       " 'created_time': '2022-06-29T21:06:11Z',\n",
       " 'updated_time': '2022-06-29T21:06:11Z',\n",
       " 'mime_type': 'application/json',\n",
       " 'access_methods': [{'type': 's3',\n",
       "   'region': 'us-east-1',\n",
       "   'access_id': 'aws-us-east-1'}]}"
      ]
     },
     "execution_count": 27,
     "metadata": {},
     "output_type": "execute_result"
    }
   ],
   "source": [
    "# get the id part of the URI\n",
    "alignment_count_drs_id = results_drs_uri.split('/')[-1]\n",
    "print(f\"Getting {alignment_count_drs_id} from DRS Client\")\n",
    "fileDetails = drsClient.get_object(alignment_count_drs_id)\n",
    "fileDetails"
   ]
  },
  {
   "cell_type": "code",
   "execution_count": 28,
   "metadata": {},
   "outputs": [],
   "source": [
    "url = drsClient.get_access_url(alignment_count_drs_id,'s3')"
   ]
  },
  {
   "cell_type": "code",
   "execution_count": 29,
   "metadata": {},
   "outputs": [],
   "source": [
    "fullPath = '~/Downloads/' + fileDetails['name']\n",
    "download(url, fullPath)"
   ]
  },
  {
   "cell_type": "code",
   "execution_count": null,
   "metadata": {},
   "outputs": [],
   "source": []
  }
 ],
 "metadata": {
  "kernelspec": {
   "display_name": "Python 3 (ipykernel)",
   "language": "python",
   "name": "python3"
  },
  "language_info": {
   "codemirror_mode": {
    "name": "ipython",
    "version": 3
   },
   "file_extension": ".py",
   "mimetype": "text/x-python",
   "name": "python",
   "nbconvert_exporter": "python",
   "pygments_lexer": "ipython3",
   "version": "3.9.7"
  }
 },
 "nbformat": 4,
 "nbformat_minor": 4
}
