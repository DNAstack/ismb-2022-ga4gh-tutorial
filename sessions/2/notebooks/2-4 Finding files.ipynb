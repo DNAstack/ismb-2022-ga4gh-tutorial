{
 "cells": [
  {
   "cell_type": "markdown",
   "metadata": {},
   "source": [
    "<img src=\"../fasp/runner/credits/images/FASPNotebook10.jpg\" style=\"float: right;\">\n",
    "\n",
    "## Obtain Thousand Genomes files from SRA DRS and submit to Seven Bridges WES\n",
    "This notebook explores use of the SRA DRS server. It is derived from FASPScript14.py but has been adapted to use a Seven Bridges WES service. \n",
    "\n",
    "The mapping of DRS ids to SRA accessions may be done in different ways and the process to do so is in flux.\n",
    "\n",
    "The approach taken below is using mapping is available through subject and specimen data available through the Data Connect API. In fact in this case the SRR accession shown only for information. The query is formulated in terms of a particular population and that we want mapped bam files. This gives us DRS id's directly. Alternatively a list of SRR accessions could be used."
   ]
  },
  {
   "cell_type": "code",
   "execution_count": 1,
   "metadata": {},
   "outputs": [
    {
     "name": "stdout",
     "output_type": "stream",
     "text": [
      "Retrieving the query\n",
      "____Page1_______________\n",
      "____Page2_______________\n",
      "____Page3_______________\n",
      "____Page4_______________\n",
      "____Page5_______________\n",
      "____Page6_______________\n",
      "____Page7_______________\n"
     ]
    },
    {
     "data": {
      "text/html": [
       "<div>\n",
       "<style scoped>\n",
       "    .dataframe tbody tr th:only-of-type {\n",
       "        vertical-align: middle;\n",
       "    }\n",
       "\n",
       "    .dataframe tbody tr th {\n",
       "        vertical-align: top;\n",
       "    }\n",
       "\n",
       "    .dataframe thead th {\n",
       "        text-align: right;\n",
       "    }\n",
       "</style>\n",
       "<table border=\"1\" class=\"dataframe\">\n",
       "  <thead>\n",
       "    <tr style=\"text-align: right;\">\n",
       "      <th></th>\n",
       "      <th>sample_name</th>\n",
       "      <th>bam_drs_id</th>\n",
       "      <th>acc</th>\n",
       "    </tr>\n",
       "  </thead>\n",
       "  <tbody>\n",
       "    <tr>\n",
       "      <th>0</th>\n",
       "      <td>NA18948</td>\n",
       "      <td>fb1cfb04d3ef99d07c21f9dbf87ccc68</td>\n",
       "      <td>SRR1601121</td>\n",
       "    </tr>\n",
       "    <tr>\n",
       "      <th>1</th>\n",
       "      <td>NA18945</td>\n",
       "      <td>9327fb44eb81b49a41e38c8d86eb3b3a</td>\n",
       "      <td>SRR1601115</td>\n",
       "    </tr>\n",
       "    <tr>\n",
       "      <th>2</th>\n",
       "      <td>NA18943</td>\n",
       "      <td>9f38253b281c7e9c99e4bdbececd8e2f</td>\n",
       "      <td>SRR1606910</td>\n",
       "    </tr>\n",
       "  </tbody>\n",
       "</table>\n",
       "</div>"
      ],
      "text/plain": [
       "  sample_name                        bam_drs_id         acc\n",
       "0     NA18948  fb1cfb04d3ef99d07c21f9dbf87ccc68  SRR1601121\n",
       "1     NA18945  9327fb44eb81b49a41e38c8d86eb3b3a  SRR1601115\n",
       "2     NA18943  9f38253b281c7e9c99e4bdbececd8e2f  SRR1606910"
      ]
     },
     "execution_count": 1,
     "metadata": {},
     "output_type": "execute_result"
    }
   ],
   "source": [
    "from fasp.search import DataConnectClient\n",
    "\n",
    "# Step 1 - Discovery\n",
    "# query for relevant DRS objects\n",
    "searchClient = DataConnectClient('https://ga4gh-search-adapter-presto-public.prod.dnastack.com/')\n",
    "\n",
    "query = '''SELECT f.sample_name, drs_id bam_drs_id, acc\n",
    "FROM thousand_genomes.onek_genomes.ssd_drs s \n",
    "join thousand_genomes.onek_genomes.sra_drs_files f on f.sample_name = s.su_submitter_id \n",
    "where filetype = 'bam' and mapped = 'mapped' \n",
    "and sequencing_type ='exome' and  population = 'JPT' LIMIT 3'''\n",
    "\n",
    "resultRows = searchClient.run_query(query, returnType='dataframe')\n",
    "resultRows"
   ]
  },
  {
   "cell_type": "markdown",
   "metadata": {},
   "source": [
    "### Use DRS to obtain file details"
   ]
  },
  {
   "cell_type": "code",
   "execution_count": 4,
   "metadata": {},
   "outputs": [
    {
     "data": {
      "text/plain": [
       "{'checksums': [{'checksum': '9466d7c1ec8fde019ce630c9bd88582e',\n",
       "   'type': 'md5'}],\n",
       " 'contents': [{'id': '519de9933298caa8bdf551351426d120',\n",
       "   'name': 'NA18948.unmapped.ILLUMINA.bwa.JPT.exome.20121211.bam'},\n",
       "  {'id': 'a027e7c2a917cba582a9684244ad339d',\n",
       "   'name': 'NA18948.mapped.ILLUMINA.bwa.JPT.exome.20121211.bam.bai'},\n",
       "  {'id': 'fb1cfb04d3ef99d07c21f9dbf87ccc68',\n",
       "   'name': 'NA18948.mapped.ILLUMINA.bwa.JPT.exome.20121211.bam'}],\n",
       " 'created_time': '2013-02-25T23:24:10Z',\n",
       " 'id': '9466d7c1ec8fde019ce630c9bd88582e',\n",
       " 'name': 'SRR1601121',\n",
       " 'self_url': 'drs://locate.be-md.ncbi.nlm.nih.gov/9466d7c1ec8fde019ce630c9bd88582e',\n",
       " 'size': 8763581919}"
      ]
     },
     "execution_count": 4,
     "metadata": {},
     "output_type": "execute_result"
    }
   ],
   "source": [
    "from fasp.loc import SRADRSClient\n",
    "srr = 'SRR1601121'\n",
    "ncbi_drs = SRADRSClient('https://locate.be-md.ncbi.nlm.nih.gov', public=True)\n",
    "id_map = ncbi_drs.acc2drs(srr)\n",
    "bundle_id = id_map['response'][srr]['drs']\n",
    "ncbi_drs.get_object(bundle_id)"
   ]
  },
  {
   "cell_type": "code",
   "execution_count": 7,
   "metadata": {},
   "outputs": [
    {
     "data": {
      "text/plain": [
       "{'access_methods': [{'access_id': '1e4846c05c81a49f684e7f940ffbd3a98e5f0e335f019ee4d32d85c72096b743',\n",
       "   'region': 'gs.US',\n",
       "   'type': 'https'},\n",
       "  {'access_id': 'b14572d74b5aafe87a0fcc873050d6c3993f27338cdd088b5883aed4b118f0c8',\n",
       "   'type': 'https'},\n",
       "  {'access_id': '0623f9350999297e5fa3a77a05c08b8cf1fbd10ef4e392c0d52dde9a4e469a85',\n",
       "   'region': 's3.us-east-1',\n",
       "   'type': 'https'}],\n",
       " 'checksums': [{'checksum': 'fb1cfb04d3ef99d07c21f9dbf87ccc68',\n",
       "   'type': 'md5'}],\n",
       " 'created_time': '2013-02-25T23:24:10Z',\n",
       " 'id': 'fb1cfb04d3ef99d07c21f9dbf87ccc68',\n",
       " 'name': 'NA18948.mapped.ILLUMINA.bwa.JPT.exome.20121211.bam',\n",
       " 'self_url': 'drs://locate.be-md.ncbi.nlm.nih.gov/fb1cfb04d3ef99d07c21f9dbf87ccc68',\n",
       " 'size': 8752606127}"
      ]
     },
     "execution_count": 7,
     "metadata": {},
     "output_type": "execute_result"
    }
   ],
   "source": [
    " ncbi_drs.get_object('fb1cfb04d3ef99d07c21f9dbf87ccc68')"
   ]
  },
  {
   "cell_type": "code",
   "execution_count": 6,
   "metadata": {},
   "outputs": [
    {
     "name": "stdout",
     "output_type": "stream",
     "text": [
      "_Schema for tablethousand_genomes.onek_genomes.sra_drs_files_\n",
      "{\n",
      "   \"name\": \"thousand_genomes.onek_genomes.sra_drs_files\",\n",
      "   \"description\": \"Automatically generated schema\",\n",
      "   \"data_model\": {\n",
      "      \"$id\": \"https://ga4gh-search-adapter-presto-public.prod.dnastack.com/table/thousand_genomes.onek_genomes.sra_drs_files/info\",\n",
      "      \"description\": \"Automatically generated schema\",\n",
      "      \"$schema\": \"http://json-schema.org/draft-07/schema#\",\n",
      "      \"properties\": {\n",
      "         \"acc\": {\n",
      "            \"format\": \"varchar\",\n",
      "            \"type\": \"string\",\n",
      "            \"$comment\": \"varchar\"\n",
      "         },\n",
      "         \"filename\": {\n",
      "            \"format\": \"varchar\",\n",
      "            \"type\": \"string\",\n",
      "            \"$comment\": \"varchar\"\n",
      "         },\n",
      "         \"drs_id\": {\n",
      "            \"format\": \"varchar\",\n",
      "            \"type\": \"string\",\n",
      "            \"$comment\": \"varchar\"\n",
      "         },\n",
      "         \"filetype\": {\n",
      "            \"format\": \"varchar\",\n",
      "            \"type\": \"string\",\n",
      "            \"$comment\": \"varchar\"\n",
      "         },\n",
      "         \"sample_name\": {\n",
      "            \"format\": \"varchar\",\n",
      "            \"type\": \"string\",\n",
      "            \"$comment\": \"varchar\"\n",
      "         },\n",
      "         \"mapped\": {\n",
      "            \"format\": \"varchar\",\n",
      "            \"type\": \"string\",\n",
      "            \"$comment\": \"varchar\"\n",
      "         },\n",
      "         \"sequencing_type\": {\n",
      "            \"format\": \"varchar\",\n",
      "            \"type\": \"string\",\n",
      "            \"$comment\": \"varchar\"\n",
      "         }\n",
      "      }\n",
      "   }\n",
      "}\n"
     ]
    },
    {
     "data": {
      "text/plain": [
       "<fasp.search.data_connect_client.SearchSchema at 0x12e098a90>"
      ]
     },
     "execution_count": 6,
     "metadata": {},
     "output_type": "execute_result"
    }
   ],
   "source": [
    "searchClient.list_table_info('thousand_genomes.onek_genomes.sra_drs_files', verbose=True)"
   ]
  },
  {
   "cell_type": "code",
   "execution_count": 5,
   "metadata": {},
   "outputs": [
    {
     "name": "stdout",
     "output_type": "stream",
     "text": [
      "_Schema for tablethousand_genomes.onek_genomes.ssd_drs_\n",
      "{\n",
      "   \"name\": \"thousand_genomes.onek_genomes.ssd_drs\",\n",
      "   \"description\": \"Automatically generated schema\",\n",
      "   \"data_model\": {\n",
      "      \"$id\": \"https://ga4gh-search-adapter-presto-public.prod.dnastack.com/table/thousand_genomes.onek_genomes.ssd_drs/info\",\n",
      "      \"description\": \"Automatically generated schema\",\n",
      "      \"$schema\": \"http://json-schema.org/draft-07/schema#\",\n",
      "      \"properties\": {\n",
      "         \"id\": {\n",
      "            \"format\": \"varchar\",\n",
      "            \"type\": \"string\",\n",
      "            \"$comment\": \"varchar\"\n",
      "         },\n",
      "         \"subject_id\": {\n",
      "            \"format\": \"varchar\",\n",
      "            \"type\": \"string\",\n",
      "            \"$comment\": \"varchar\"\n",
      "         },\n",
      "         \"age_at_index\": {\n",
      "            \"format\": \"double\",\n",
      "            \"type\": \"number\",\n",
      "            \"$comment\": \"double\"\n",
      "         },\n",
      "         \"age_at_index_gt89\": {\n",
      "            \"format\": \"varchar\",\n",
      "            \"type\": \"string\",\n",
      "            \"$comment\": \"varchar\"\n",
      "         },\n",
      "         \"annotated_sex\": {\n",
      "            \"format\": \"varchar\",\n",
      "            \"type\": \"string\",\n",
      "            \"$comment\": \"varchar\"\n",
      "         },\n",
      "         \"race\": {\n",
      "            \"format\": \"varchar\",\n",
      "            \"type\": \"string\",\n",
      "            \"$comment\": \"varchar\"\n",
      "         },\n",
      "         \"ethnicity\": {\n",
      "            \"format\": \"varchar\",\n",
      "            \"type\": \"string\",\n",
      "            \"$comment\": \"varchar\"\n",
      "         },\n",
      "         \"weight\": {\n",
      "            \"format\": \"double\",\n",
      "            \"type\": \"number\",\n",
      "            \"$comment\": \"double\"\n",
      "         },\n",
      "         \"bmi_baseline\": {\n",
      "            \"format\": \"double\",\n",
      "            \"type\": \"number\",\n",
      "            \"$comment\": \"double\"\n",
      "         },\n",
      "         \"height_baseline\": {\n",
      "            \"format\": \"double\",\n",
      "            \"type\": \"number\",\n",
      "            \"$comment\": \"double\"\n",
      "         },\n",
      "         \"age_at_height_baseline\": {\n",
      "            \"format\": \"double\",\n",
      "            \"type\": \"number\",\n",
      "            \"$comment\": \"double\"\n",
      "         },\n",
      "         \"unit_height_baseline\": {\n",
      "            \"format\": \"varchar\",\n",
      "            \"type\": \"string\",\n",
      "            \"$comment\": \"varchar\"\n",
      "         },\n",
      "         \"unit_race\": {\n",
      "            \"format\": \"varchar\",\n",
      "            \"type\": \"string\",\n",
      "            \"$comment\": \"varchar\"\n",
      "         },\n",
      "         \"unit_ethnicity\": {\n",
      "            \"format\": \"varchar\",\n",
      "            \"type\": \"string\",\n",
      "            \"$comment\": \"varchar\"\n",
      "         },\n",
      "         \"hispanic_subgroup\": {\n",
      "            \"format\": \"varchar\",\n",
      "            \"type\": \"string\",\n",
      "            \"$comment\": \"varchar\"\n",
      "         },\n",
      "         \"unit_hispanic_subgroup\": {\n",
      "            \"format\": \"varchar\",\n",
      "            \"type\": \"string\",\n",
      "            \"$comment\": \"varchar\"\n",
      "         },\n",
      "         \"age_at_bmi_baseline\": {\n",
      "            \"format\": \"double\",\n",
      "            \"type\": \"number\",\n",
      "            \"$comment\": \"double\"\n",
      "         },\n",
      "         \"age_at_weight_baseline\": {\n",
      "            \"format\": \"double\",\n",
      "            \"type\": \"number\",\n",
      "            \"$comment\": \"double\"\n",
      "         },\n",
      "         \"subcohort\": {\n",
      "            \"format\": \"varchar\",\n",
      "            \"type\": \"string\",\n",
      "            \"$comment\": \"varchar\"\n",
      "         },\n",
      "         \"unit_annotated_sex\": {\n",
      "            \"format\": \"varchar\",\n",
      "            \"type\": \"string\",\n",
      "            \"$comment\": \"varchar\"\n",
      "         },\n",
      "         \"unit_bmi_baseline\": {\n",
      "            \"format\": \"varchar\",\n",
      "            \"type\": \"string\",\n",
      "            \"$comment\": \"varchar\"\n",
      "         },\n",
      "         \"unit_subcohort\": {\n",
      "            \"format\": \"varchar\",\n",
      "            \"type\": \"string\",\n",
      "            \"$comment\": \"varchar\"\n",
      "         },\n",
      "         \"unit_weight_baseline\": {\n",
      "            \"format\": \"varchar\",\n",
      "            \"type\": \"string\",\n",
      "            \"$comment\": \"varchar\"\n",
      "         },\n",
      "         \"weight_baseline\": {\n",
      "            \"format\": \"double\",\n",
      "            \"type\": \"number\",\n",
      "            \"$comment\": \"double\"\n",
      "         },\n",
      "         \"population\": {\n",
      "            \"format\": \"varchar\",\n",
      "            \"type\": \"string\",\n",
      "            \"$comment\": \"varchar\"\n",
      "         },\n",
      "         \"submitter_id\": {\n",
      "            \"format\": \"varchar\",\n",
      "            \"type\": \"string\",\n",
      "            \"$comment\": \"varchar\"\n",
      "         },\n",
      "         \"state\": {\n",
      "            \"type\": \"object\",\n",
      "            \"$comment\": \"row(string,string)\",\n",
      "            \"properties\": {\n",
      "               \"demographic_demographic_state_0_value\": {\n",
      "                  \"format\": \"varchar\",\n",
      "                  \"type\": \"string\",\n",
      "                  \"$comment\": \"varchar\"\n",
      "               },\n",
      "               \"demographic_demographic_state_1_value\": {\n",
      "                  \"format\": \"varchar\",\n",
      "                  \"type\": \"string\",\n",
      "                  \"$comment\": \"varchar\"\n",
      "               }\n",
      "            }\n",
      "         },\n",
      "         \"project_id\": {\n",
      "            \"format\": \"varchar\",\n",
      "            \"type\": \"string\",\n",
      "            \"$comment\": \"varchar\"\n",
      "         },\n",
      "         \"created_datetime\": {\n",
      "            \"format\": \"varchar\",\n",
      "            \"type\": \"string\",\n",
      "            \"$comment\": \"varchar\"\n",
      "         },\n",
      "         \"updated_datetime\": {\n",
      "            \"format\": \"varchar\",\n",
      "            \"type\": \"string\",\n",
      "            \"$comment\": \"varchar\"\n",
      "         },\n",
      "         \"su_submitter_id\": {\n",
      "            \"format\": \"varchar\",\n",
      "            \"type\": \"string\",\n",
      "            \"$comment\": \"varchar\"\n",
      "         },\n",
      "         \"sa_submitter_id\": {\n",
      "            \"format\": \"varchar\",\n",
      "            \"type\": \"string\",\n",
      "            \"$comment\": \"varchar\"\n",
      "         },\n",
      "         \"al_submitter_id\": {\n",
      "            \"format\": \"varchar\",\n",
      "            \"type\": \"string\",\n",
      "            \"$comment\": \"varchar\"\n",
      "         },\n",
      "         \"rg_submitter_id\": {\n",
      "            \"format\": \"varchar\",\n",
      "            \"type\": \"string\",\n",
      "            \"$comment\": \"varchar\"\n",
      "         },\n",
      "         \"read_drs_id\": {\n",
      "            \"format\": \"varchar\",\n",
      "            \"type\": \"string\",\n",
      "            \"$comment\": \"varchar\"\n",
      "         },\n",
      "         \"file_name\": {\n",
      "            \"format\": \"varchar\",\n",
      "            \"type\": \"string\",\n",
      "            \"$comment\": \"varchar\"\n",
      "         },\n",
      "         \"file_size\": {\n",
      "            \"format\": \"bigint\",\n",
      "            \"type\": \"int\",\n",
      "            \"$comment\": \"bigint\"\n",
      "         },\n",
      "         \"md5sum\": {\n",
      "            \"format\": \"varchar\",\n",
      "            \"type\": \"string\",\n",
      "            \"$comment\": \"varchar\"\n",
      "         },\n",
      "         \"data_type\": {\n",
      "            \"format\": \"varchar\",\n",
      "            \"type\": \"string\",\n",
      "            \"$comment\": \"varchar\"\n",
      "         },\n",
      "         \"data_format\": {\n",
      "            \"format\": \"varchar\",\n",
      "            \"type\": \"string\",\n",
      "            \"$comment\": \"varchar\"\n",
      "         }\n",
      "      }\n",
      "   }\n",
      "}\n"
     ]
    },
    {
     "data": {
      "text/plain": [
       "<fasp.search.data_connect_client.SearchSchema at 0x10ed7f2e0>"
      ]
     },
     "execution_count": 5,
     "metadata": {},
     "output_type": "execute_result"
    }
   ],
   "source": [
    "searchClient.list_table_info('thousand_genomes.onek_genomes.ssd_drs', verbose=True)"
   ]
  },
  {
   "cell_type": "markdown",
   "metadata": {},
   "source": [
    "Using the information above about the tables we can modify the query \n",
    "\n",
    "#superpopulation_name = \"European Ancestry\" and population_code = \"FIN\""
   ]
  },
  {
   "cell_type": "code",
   "execution_count": 17,
   "metadata": {},
   "outputs": [
    {
     "name": "stdout",
     "output_type": "stream",
     "text": [
      "SELECT f.sample_name, drs_id bam_drs_id, acc, filename\n",
      "FROM thousand_genomes.onek_genomes.ssd_drs s \n",
      "join thousand_genomes.onek_genomes.sra_drs_files f on f.sample_name = s.su_submitter_id \n",
      "\n",
      "where filetype = 'bam' and mapped = 'mapped' \n",
      "and sequencing_type ='exome' and  population = 'PUR' \n",
      "and  filename like '%HG00740%'\n",
      "LIMIT 3\n"
     ]
    }
   ],
   "source": [
    "query = '''SELECT f.sample_name, drs_id bam_drs_id, acc, filename\n",
    "FROM thousand_genomes.onek_genomes.ssd_drs s \n",
    "join thousand_genomes.onek_genomes.sra_drs_files f on f.sample_name = s.su_submitter_id \n",
    "\n",
    "where filetype = 'bam' and mapped = 'mapped' \n",
    "and sequencing_type ='exome' and  population = 'PUR' \n",
    "and  filename like '%HG00740%'\n",
    "LIMIT 3'''\n",
    "\n",
    "print(query)"
   ]
  },
  {
   "cell_type": "code",
   "execution_count": 13,
   "metadata": {},
   "outputs": [
    {
     "name": "stdout",
     "output_type": "stream",
     "text": [
      "SELECT f.sample_name, drs_id bam_drs_id, acc, filename\n",
      "FROM thousand_genomes.onek_genomes.ssd_drs s \n",
      "join thousand_genomes.onek_genomes.sra_drs_files f on f.sample_name = s.su_submitter_id \n",
      "\n",
      "where filename like 'HG00740%'\n",
      "\n"
     ]
    }
   ],
   "source": [
    "query = '''SELECT f.sample_name, drs_id bam_drs_id, acc, filename\n",
    "FROM thousand_genomes.onek_genomes.ssd_drs s \n",
    "join thousand_genomes.onek_genomes.sra_drs_files f on f.sample_name = s.su_submitter_id \n",
    "\n",
    "where filename like 'HG00740%'\n",
    "'''\n",
    "print(query)"
   ]
  },
  {
   "cell_type": "markdown",
   "metadata": {},
   "source": [
    "The method of calling the Data Connect client above returns a dataframe. This is convenient for many purposes, including listing the results as above. The default return type from the runQuery gives a list of lists."
   ]
  },
  {
   "cell_type": "code",
   "execution_count": 18,
   "metadata": {},
   "outputs": [
    {
     "name": "stdout",
     "output_type": "stream",
     "text": [
      "Retrieving the query\n",
      "____Page1_______________\n",
      "____Page2_______________\n",
      "____Page3_______________\n",
      "____Page4_______________\n",
      "____Page5_______________\n",
      "____Page6_______________\n",
      "____Page7_______________\n"
     ]
    },
    {
     "data": {
      "text/plain": [
       "[['HG00740',\n",
       "  '61eded72b0d2dfc908fee2201792dbac',\n",
       "  'SRR1596983',\n",
       "  'HG00740.mapped.ILLUMINA.bwa.PUR.exome.20120522.bam']]"
      ]
     },
     "execution_count": 18,
     "metadata": {},
     "output_type": "execute_result"
    }
   ],
   "source": [
    "results = searchClient.run_query(query)\n",
    "results"
   ]
  },
  {
   "cell_type": "markdown",
   "metadata": {},
   "source": [
    "The following shows how the SRA DRS server can be used to determine where the files can be obtained from. The following shows this for the first DRS id from the query results. "
   ]
  },
  {
   "cell_type": "code",
   "execution_count": null,
   "metadata": {},
   "outputs": [],
   "source": [
    "from fasp.loc import DRSClient\n",
    "\n",
    "#drsClient = DRSMetaResolver()\n",
    "drsClient = DRSClient('https://locate.be-md.ncbi.nlm.nih.gov', public=True, debug=True)\n",
    "test_id = results[0][1]\n",
    "print(test_id)\n",
    "objInfo = drsClient.getObject(test_id)\n",
    "objInfo"
   ]
  },
  {
   "cell_type": "markdown",
   "metadata": {},
   "source": [
    "A second DRS call can be used to obtain a url to access the file from one of the above locations."
   ]
  },
  {
   "cell_type": "code",
   "execution_count": null,
   "metadata": {},
   "outputs": [],
   "source": [
    "access_id = objInfo['access_methods'][0]['access_id']\n",
    "print('access_id:{}'.format(access_id))\n",
    "url = drsClient.getAccessURL(test_id, access_id=access_id)\n",
    "print('url:{}'.format(url))"
   ]
  }
 ],
 "metadata": {
  "kernelspec": {
   "display_name": "Python 3 (ipykernel)",
   "language": "python",
   "name": "python3"
  },
  "language_info": {
   "codemirror_mode": {
    "name": "ipython",
    "version": 3
   },
   "file_extension": ".py",
   "mimetype": "text/x-python",
   "name": "python",
   "nbconvert_exporter": "python",
   "pygments_lexer": "ipython3",
   "version": "3.9.7"
  }
 },
 "nbformat": 4,
 "nbformat_minor": 4
}
