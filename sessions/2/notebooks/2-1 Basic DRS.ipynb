{
 "cells": [
  {
   "cell_type": "code",
   "execution_count": 1,
   "id": "f15c5ba8",
   "metadata": {},
   "outputs": [
    {
     "name": "stdout",
     "output_type": "stream",
     "text": [
      "https://locate.be-md.ncbi.nlm.nih.gov/ga4gh/drs/v1/objects/fb1cfb04d3ef99d07c21f9dbf87ccc68\n"
     ]
    }
   ],
   "source": [
    "import requests\n",
    "\n",
    "host_url = 'https://locate.be-md.ncbi.nlm.nih.gov'\n",
    "# may also use https://locate.be-md.ncbi.nlm.nih.gov\n",
    "drs_id = 'fb1cfb04d3ef99d07c21f9dbf87ccc68'\n",
    "\n",
    "full_url = '{}/ga4gh/drs/v1/objects/{}'.format(host_url, drs_id)\n",
    "print(full_url)"
   ]
  },
  {
   "cell_type": "code",
   "execution_count": 2,
   "id": "1e94c335",
   "metadata": {},
   "outputs": [
    {
     "name": "stdout",
     "output_type": "stream",
     "text": [
      "{'access_methods': [{'access_id': '1e4846c05c81a49f684e7f940ffbd3a98e5f0e335f019ee4d32d85c72096b743', 'region': 'gs.US', 'type': 'https'}, {'access_id': 'b14572d74b5aafe87a0fcc873050d6c3993f27338cdd088b5883aed4b118f0c8', 'type': 'https'}, {'access_id': '0623f9350999297e5fa3a77a05c08b8cf1fbd10ef4e392c0d52dde9a4e469a85', 'region': 's3.us-east-1', 'type': 'https'}], 'checksums': [{'checksum': 'fb1cfb04d3ef99d07c21f9dbf87ccc68', 'type': 'md5'}], 'created_time': '2013-02-25T23:24:10Z', 'id': 'fb1cfb04d3ef99d07c21f9dbf87ccc68', 'name': 'NA18948.mapped.ILLUMINA.bwa.JPT.exome.20121211.bam', 'self_url': 'drs://locate.be-md.ncbi.nlm.nih.gov/fb1cfb04d3ef99d07c21f9dbf87ccc68', 'size': 8752606127}\n"
     ]
    }
   ],
   "source": [
    "response = requests.get(full_url)\n",
    "print(response.json())"
   ]
  },
  {
   "cell_type": "code",
   "execution_count": 3,
   "id": "36b8ec53",
   "metadata": {},
   "outputs": [],
   "source": [
    "import json\n",
    "def pretty_print(a_dict):\n",
    "    print(json.dumps(a_dict, indent=3))"
   ]
  },
  {
   "cell_type": "code",
   "execution_count": 4,
   "id": "ebeacd79",
   "metadata": {},
   "outputs": [
    {
     "name": "stdout",
     "output_type": "stream",
     "text": [
      "{\n",
      "   \"access_methods\": [\n",
      "      {\n",
      "         \"access_id\": \"1e4846c05c81a49f684e7f940ffbd3a98e5f0e335f019ee4d32d85c72096b743\",\n",
      "         \"region\": \"gs.US\",\n",
      "         \"type\": \"https\"\n",
      "      },\n",
      "      {\n",
      "         \"access_id\": \"b14572d74b5aafe87a0fcc873050d6c3993f27338cdd088b5883aed4b118f0c8\",\n",
      "         \"type\": \"https\"\n",
      "      },\n",
      "      {\n",
      "         \"access_id\": \"0623f9350999297e5fa3a77a05c08b8cf1fbd10ef4e392c0d52dde9a4e469a85\",\n",
      "         \"region\": \"s3.us-east-1\",\n",
      "         \"type\": \"https\"\n",
      "      }\n",
      "   ],\n",
      "   \"checksums\": [\n",
      "      {\n",
      "         \"checksum\": \"fb1cfb04d3ef99d07c21f9dbf87ccc68\",\n",
      "         \"type\": \"md5\"\n",
      "      }\n",
      "   ],\n",
      "   \"created_time\": \"2013-02-25T23:24:10Z\",\n",
      "   \"id\": \"fb1cfb04d3ef99d07c21f9dbf87ccc68\",\n",
      "   \"name\": \"NA18948.mapped.ILLUMINA.bwa.JPT.exome.20121211.bam\",\n",
      "   \"self_url\": \"drs://locate.be-md.ncbi.nlm.nih.gov/fb1cfb04d3ef99d07c21f9dbf87ccc68\",\n",
      "   \"size\": 8752606127\n",
      "}\n"
     ]
    }
   ],
   "source": [
    "pretty_print(response.json())"
   ]
  },
  {
   "cell_type": "markdown",
   "id": "f18c3630",
   "metadata": {},
   "source": [
    "Note the size of the bam file. Though we have a URL for it we won't download it\n"
   ]
  },
  {
   "cell_type": "code",
   "execution_count": 5,
   "id": "28ac9b75",
   "metadata": {},
   "outputs": [
    {
     "name": "stdout",
     "output_type": "stream",
     "text": [
      "https://locate.be-md.ncbi.nlm.nih.gov/ga4gh/drs/v1/objects/fb1cfb04d3ef99d07c21f9dbf87ccc68/access/1e4846c05c81a49f684e7f940ffbd3a98e5f0e335f019ee4d32d85c72096b743\n"
     ]
    }
   ],
   "source": [
    "\n",
    "access_id = \"1e4846c05c81a49f684e7f940ffbd3a98e5f0e335f019ee4d32d85c72096b743\"\n",
    "full_url = '{}/ga4gh/drs/v1/objects/{}/access/{}'.format(host_url, drs_id, access_id)\n",
    "#print(full_url)\n",
    "#full_url= \"https://locate.be-md.ncbi.nlm.nih.gov/ga4gh/drs/v1/objects/fb1cfb04d3ef99d07c21f9dbf87ccc68/access/1e4846c05c81a49f684e7f940ffbd3a98e5f0e335f019ee4d32d85c72096b743\"\n",
    "\n",
    "print(full_url)"
   ]
  },
  {
   "cell_type": "code",
   "execution_count": 6,
   "id": "58a64f00",
   "metadata": {},
   "outputs": [
    {
     "name": "stdout",
     "output_type": "stream",
     "text": [
      "{'url': 'https://storage.googleapis.com/genomics-public-data/ftp-trace.ncbi.nih.gov/1000genomes/ftp/phase3/data/NA18948/exome_alignment/NA18948.mapped.ILLUMINA.bwa.JPT.exome.20121211.bam'}\n"
     ]
    }
   ],
   "source": [
    "url_response = requests.get(full_url)\n",
    "print(url_response.json())"
   ]
  },
  {
   "cell_type": "code",
   "execution_count": 7,
   "id": "cc681af1",
   "metadata": {
    "scrolled": true
   },
   "outputs": [
    {
     "name": "stdout",
     "output_type": "stream",
     "text": [
      "1e4846c05c81a49f684e7f940ffbd3a98e5f0e335f019ee4d32d85c72096b743\n",
      "b14572d74b5aafe87a0fcc873050d6c3993f27338cdd088b5883aed4b118f0c8\n",
      "0623f9350999297e5fa3a77a05c08b8cf1fbd10ef4e392c0d52dde9a4e469a85\n"
     ]
    }
   ],
   "source": [
    "drs_response = response.json()\n",
    "for access_method in drs_response['access_methods']:\n",
    "    access_id = access_method['access_id']\n",
    "    print (access_id)\n",
    "    # Add code here to make the DRS call to retrieve the URL for each access_id"
   ]
  },
  {
   "cell_type": "markdown",
   "id": "3cb0a309",
   "metadata": {},
   "source": [
    "### Optional - stretch goal\n",
    "\n",
    "Imagine you have a preference for working in a particular cloud provider and region. Complete the following function to use DRS to obtain the URL for the file in a specific region"
   ]
  },
  {
   "cell_type": "code",
   "execution_count": 8,
   "id": "f531c31c",
   "metadata": {},
   "outputs": [],
   "source": [
    "def get_url_for_region(drs_id, region):\n",
    "    full_url = '{}/ga4gh/drs/v1/objects/{}'.format(host_url, drs_id)\n",
    "    r = requests.get(full_url)\n",
    "    drs_response = r.json()\n",
    "    # add code here - find the access_id for the region\n",
    "    # Watch out that not all access_methods have region\n",
    "    # make the DRS call to get the url\n",
    "    ai = [am['access_id'] for am in drs_response['access_methods'] if 'region' in am and am['region'] == region]\n",
    "    if len(ai) > 0:\n",
    "        am_url = '{}/ga4gh/drs/v1/objects/{}/access/{}'.format(host_url, drs_id, ai[0])\n",
    "        r2 = requests.get(am_url)\n",
    "        url = r2.json()['url']\n",
    "    else:\n",
    "        print(\"File not available in region {}\".format(region))\n",
    "        url = None\n",
    "        \n",
    "    return url"
   ]
  },
  {
   "cell_type": "markdown",
   "id": "6604f69d",
   "metadata": {},
   "source": [
    "#### Test it"
   ]
  },
  {
   "cell_type": "code",
   "execution_count": 9,
   "id": "b95db0c3",
   "metadata": {},
   "outputs": [
    {
     "data": {
      "text/plain": [
       "'https://storage.googleapis.com/genomics-public-data/ftp-trace.ncbi.nih.gov/1000genomes/ftp/phase3/data/NA18948/exome_alignment/NA18948.mapped.ILLUMINA.bwa.JPT.exome.20121211.bam'"
      ]
     },
     "execution_count": 9,
     "metadata": {},
     "output_type": "execute_result"
    }
   ],
   "source": [
    "get_url_for_region(drs_id, 'gs.US')"
   ]
  },
  {
   "cell_type": "code",
   "execution_count": 10,
   "id": "6e6c6331",
   "metadata": {
    "scrolled": true
   },
   "outputs": [
    {
     "data": {
      "text/plain": [
       "'https://1000genomes.s3.amazonaws.com/phase3/data/NA18948/exome_alignment/NA18948.mapped.ILLUMINA.bwa.JPT.exome.20121211.bam'"
      ]
     },
     "execution_count": 10,
     "metadata": {},
     "output_type": "execute_result"
    }
   ],
   "source": [
    "get_url_for_region(drs_id, 's3.us-east-1')"
   ]
  },
  {
   "cell_type": "code",
   "execution_count": 11,
   "id": "629da826",
   "metadata": {},
   "outputs": [
    {
     "name": "stdout",
     "output_type": "stream",
     "text": [
      "File not available in region s3.us-west-1\n"
     ]
    }
   ],
   "source": [
    "get_url_for_region(drs_id, 's3.us-west-1')"
   ]
  },
  {
   "cell_type": "code",
   "execution_count": 12,
   "id": "61a9bf99",
   "metadata": {},
   "outputs": [
    {
     "data": {
      "text/plain": [
       "{'access_methods': [{'access_id': '1e4846c05c81a49f684e7f940ffbd3a98e5f0e335f019ee4d32d85c72096b743',\n",
       "   'region': 'gs.US',\n",
       "   'type': 'https'},\n",
       "  {'access_id': 'b14572d74b5aafe87a0fcc873050d6c3993f27338cdd088b5883aed4b118f0c8',\n",
       "   'type': 'https'},\n",
       "  {'access_id': '0623f9350999297e5fa3a77a05c08b8cf1fbd10ef4e392c0d52dde9a4e469a85',\n",
       "   'region': 's3.us-east-1',\n",
       "   'type': 'https'}],\n",
       " 'checksums': [{'checksum': 'fb1cfb04d3ef99d07c21f9dbf87ccc68',\n",
       "   'type': 'md5'}],\n",
       " 'created_time': '2013-02-25T23:24:10Z',\n",
       " 'id': 'fb1cfb04d3ef99d07c21f9dbf87ccc68',\n",
       " 'name': 'NA18948.mapped.ILLUMINA.bwa.JPT.exome.20121211.bam',\n",
       " 'self_url': 'drs://locate.be-md.ncbi.nlm.nih.gov/fb1cfb04d3ef99d07c21f9dbf87ccc68',\n",
       " 'size': 8752606127}"
      ]
     },
     "execution_count": 12,
     "metadata": {},
     "output_type": "execute_result"
    }
   ],
   "source": [
    "from fasp.loc import DRSClient\n",
    "cl = DRSClient(host_url, public=True)\n",
    "cl.get_object(drs_id)"
   ]
  },
  {
   "cell_type": "code",
   "execution_count": 13,
   "id": "a5de4504",
   "metadata": {},
   "outputs": [
    {
     "data": {
      "text/plain": [
       "'https://ftp-trace.ncbi.nih.gov/1000genomes/ftp/phase3/data/NA18948/exome_alignment/NA18948.mapped.ILLUMINA.bwa.JPT.exome.20121211.bam'"
      ]
     },
     "execution_count": 13,
     "metadata": {},
     "output_type": "execute_result"
    }
   ],
   "source": [
    "cl.get_access_url(drs_id, 'b14572d74b5aafe87a0fcc873050d6c3993f27338cdd088b5883aed4b118f0c8')"
   ]
  },
  {
   "cell_type": "code",
   "execution_count": 16,
   "id": "a42e9dd2",
   "metadata": {},
   "outputs": [
    {
     "data": {
      "text/plain": [
       "'https://1000genomes.s3.amazonaws.com/phase3/data/NA18948/exome_alignment/NA18948.mapped.ILLUMINA.bwa.JPT.exome.20121211.bam'"
      ]
     },
     "execution_count": 16,
     "metadata": {},
     "output_type": "execute_result"
    }
   ],
   "source": [
    "cl.get_url_for_region(drs_id, 's3.us-east-1')"
   ]
  },
  {
   "cell_type": "code",
   "execution_count": null,
   "id": "c1ac44f9",
   "metadata": {},
   "outputs": [],
   "source": []
  }
 ],
 "metadata": {
  "kernelspec": {
   "display_name": "Python 3 (ipykernel)",
   "language": "python",
   "name": "python3"
  },
  "language_info": {
   "codemirror_mode": {
    "name": "ipython",
    "version": 3
   },
   "file_extension": ".py",
   "mimetype": "text/x-python",
   "name": "python",
   "nbconvert_exporter": "python",
   "pygments_lexer": "ipython3",
   "version": "3.9.7"
  }
 },
 "nbformat": 4,
 "nbformat_minor": 5
}
