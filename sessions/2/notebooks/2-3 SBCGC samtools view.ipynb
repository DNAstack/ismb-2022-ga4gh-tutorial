{
 "cells": [
  {
   "cell_type": "markdown",
   "metadata": {},
   "source": [
    "## Running samtools view via the WES API\n",
    "\n",
    "Just as we used a python client to submit DRS requests in the previous notebook we will use a similar client from the fasp package to run workflows.\n",
    "\n",
    "By setting the debug flag to True on the client, the actual http calls will be shown.\n"
   ]
  },
  {
   "cell_type": "code",
   "execution_count": 1,
   "metadata": {},
   "outputs": [],
   "source": [
    "from fasp.workflow import sbcgcWESClient\n",
    "project_name = 'forei/ismb-tutorial'\n",
    "cl = sbcgcWESClient(project_name, debug=True)"
   ]
  },
  {
   "cell_type": "code",
   "execution_count": 2,
   "metadata": {},
   "outputs": [],
   "source": [
    "task_name = \"Tutorial run 1 test via WES - header only\"\n",
    "\n",
    "ids  = ['drs://cgc-ga4gh-api.sbgenomics.com/5832fef8507c17de5bfc5806',\n",
    "'drs://cgc-ga4gh-api.sbgenomics.com/5772b6f8507c175267448709']\n",
    "\n",
    "params = {\n",
    "\"project\": project_name,\n",
    "\"name\": task_name,\n",
    "\"inputs\": {\n",
    "    \"output_header_only\": True,\n",
    "    \"include_header\": True,\n",
    "        \"in_alignments\": {\n",
    "          \"path\": ids[0],\n",
    "          \"class\": \"File\"\n",
    "        }\n",
    "    }\n",
    "}"
   ]
  },
  {
   "cell_type": "markdown",
   "metadata": {},
   "source": [
    "## Calling WES from Python"
   ]
  },
  {
   "cell_type": "markdown",
   "metadata": {},
   "source": [
    "Now we have formulated the body in the way that it can be passed to a client function as follows."
   ]
  },
  {
   "cell_type": "code",
   "execution_count": 3,
   "metadata": {},
   "outputs": [
    {
     "name": "stdout",
     "output_type": "stream",
     "text": [
      "sending to https://cgc-ga4gh-api.sbgenomics.com/ga4gh/wes/v1/runs\n",
      "Workflow Parameters\n",
      "\"{\\\"project\\\": \\\"forei/ismb-tutorial\\\", \\\"name\\\": \\\"Tutorial run 1 test via WES - header only\\\", \\\"inputs\\\": {\\\"output_header_only\\\": true, \\\"include_header\\\": true, \\\"in_alignments\\\": {\\\"path\\\": \\\"drs://cgc-ga4gh-api.sbgenomics.com/5832fef8507c17de5bfc5806\\\", \\\"class\\\": \\\"File\\\"}}}\"\n",
      "BODY\n",
      "{\n",
      "   \"workflow_url\": [\n",
      "      null,\n",
      "      \"sbg://yasasvinip/test-1/samtools-view-1-9-cwl1-0\",\n",
      "      \"text/plain\"\n",
      "   ],\n",
      "   \"workflow_params\": [\n",
      "      null,\n",
      "      \"{\\\"project\\\": \\\"forei/ismb-tutorial\\\", \\\"name\\\": \\\"Tutorial run 1 test via WES - header only\\\", \\\"inputs\\\": {\\\"output_header_only\\\": true, \\\"include_header\\\": true, \\\"in_alignments\\\": {\\\"path\\\": \\\"drs://cgc-ga4gh-api.sbgenomics.com/5832fef8507c17de5bfc5806\\\", \\\"class\\\": \\\"File\\\"}}}\",\n",
      "      \"application/json\"\n",
      "   ],\n",
      "   \"workflow_engine_params\": [\n",
      "      null,\n",
      "      null,\n",
      "      \"application/json\"\n",
      "   ],\n",
      "   \"workflow_type\": [\n",
      "      null,\n",
      "      \"CWL\",\n",
      "      \"text/plain\"\n",
      "   ],\n",
      "   \"workflow_type_version\": [\n",
      "      null,\n",
      "      \"v1.0\",\n",
      "      \"text/plain\"\n",
      "   ],\n",
      "   \"tags\": [\n",
      "      null,\n",
      "      null,\n",
      "      \"text/plain\"\n",
      "   ],\n",
      "   \"workflow_attachment\": null\n",
      "}\n"
     ]
    },
    {
     "data": {
      "text/plain": [
       "'58b280f3-dbb6-4d73-a23a-59dd7f3a0c1b'"
      ]
     },
     "execution_count": 3,
     "metadata": {},
     "output_type": "execute_result"
    }
   ],
   "source": [
    "import json\n",
    "\n",
    "#sam_view_app = 'sbg://admin/sbg-public-data/samtools-view-1-9-cwl1-0'\n",
    "sam_view_app = 'sbg://yasasvinip/test-1/samtools-view-1-9-cwl1-0'\n",
    "#sam_view_app = 'sbg://forei/ismb-tutorial/samtools-view-1-9-cwl1-0'\n",
    "\n",
    "run_id= cl.run_generic_workflow(\n",
    "    workflow_url=sam_view_app,\n",
    "    workflow_params = json.dumps(params),\n",
    "    workflow_type = \"CWL\",\n",
    "    workflow_type_version = \"v1.0\",\n",
    "    verbose=False\n",
    ")\n",
    "run_id"
   ]
  },
  {
   "cell_type": "code",
   "execution_count": 4,
   "metadata": {},
   "outputs": [
    {
     "name": "stdout",
     "output_type": "stream",
     "text": [
      "Get request sent to: https://cgc-ga4gh-api.sbgenomics.com/ga4gh/wes/v1/runs/58b280f3-dbb6-4d73-a23a-59dd7f3a0c1b\n"
     ]
    },
    {
     "data": {
      "text/plain": [
       "'INITIALIZING'"
      ]
     },
     "execution_count": 4,
     "metadata": {},
     "output_type": "execute_result"
    }
   ],
   "source": [
    "cl.get_task_status(run_id)"
   ]
  },
  {
   "cell_type": "markdown",
   "metadata": {},
   "source": [
    "#### Adjust a parameter of the run\n",
    "\n",
    "Using the desciption of the app on the Seven Bridges Platform\n",
    "identify the parameter that directs samtools view to only output the count of matching records\n",
    "https://cgc.sbgenomics.com/u/forei/ismb-tutorial/apps/#forei/ismb-tutorial/samtools-view-1-9-cwl1-0\n",
    "\n",
    "* Edit the parameters section below to set the value of the parameter you have identified to True.\n",
    "* Delete the other parameters from the previous run.\n",
    "* Enter a task name that will help you identify the task"
   ]
  },
  {
   "cell_type": "code",
   "execution_count": 5,
   "metadata": {},
   "outputs": [],
   "source": [
    "task_name2 = \"samtools view count only\"\n",
    "\n",
    "params2 = {\n",
    "\"project\": project_name,\n",
    "\"name\": task_name2,\n",
    "\"inputs\": {\n",
    "    \"count_alignments\": True,\n",
    "        \"in_alignments\": {\n",
    "          \"path\": ids[0],\n",
    "          \"class\": \"File\"\n",
    "        }\n",
    "    }\n",
    "}"
   ]
  },
  {
   "cell_type": "markdown",
   "metadata": {},
   "source": [
    "#### Submit the revised task and make a note of the run_id"
   ]
  },
  {
   "cell_type": "code",
   "execution_count": 6,
   "metadata": {},
   "outputs": [
    {
     "name": "stdout",
     "output_type": "stream",
     "text": [
      "sending to https://cgc-ga4gh-api.sbgenomics.com/ga4gh/wes/v1/runs\n",
      "Workflow Parameters\n",
      "\"{\\\"project\\\": \\\"forei/ismb-tutorial\\\", \\\"name\\\": \\\"samtools view count only\\\", \\\"inputs\\\": {\\\"count_alignments\\\": true, \\\"in_alignments\\\": {\\\"path\\\": \\\"drs://cgc-ga4gh-api.sbgenomics.com/5832fef8507c17de5bfc5806\\\", \\\"class\\\": \\\"File\\\"}}}\"\n",
      "BODY\n",
      "{\n",
      "   \"workflow_url\": [\n",
      "      null,\n",
      "      \"sbg://yasasvinip/test-1/samtools-view-1-9-cwl1-0\",\n",
      "      \"text/plain\"\n",
      "   ],\n",
      "   \"workflow_params\": [\n",
      "      null,\n",
      "      \"{\\\"project\\\": \\\"forei/ismb-tutorial\\\", \\\"name\\\": \\\"samtools view count only\\\", \\\"inputs\\\": {\\\"count_alignments\\\": true, \\\"in_alignments\\\": {\\\"path\\\": \\\"drs://cgc-ga4gh-api.sbgenomics.com/5832fef8507c17de5bfc5806\\\", \\\"class\\\": \\\"File\\\"}}}\",\n",
      "      \"application/json\"\n",
      "   ],\n",
      "   \"workflow_engine_params\": [\n",
      "      null,\n",
      "      null,\n",
      "      \"application/json\"\n",
      "   ],\n",
      "   \"workflow_type\": [\n",
      "      null,\n",
      "      \"CWL\",\n",
      "      \"text/plain\"\n",
      "   ],\n",
      "   \"workflow_type_version\": [\n",
      "      null,\n",
      "      \"v1.0\",\n",
      "      \"text/plain\"\n",
      "   ],\n",
      "   \"tags\": [\n",
      "      null,\n",
      "      null,\n",
      "      \"text/plain\"\n",
      "   ],\n",
      "   \"workflow_attachment\": null\n",
      "}\n"
     ]
    },
    {
     "data": {
      "text/plain": [
       "'2d6a2166-ab0a-4916-8744-0745a826175d'"
      ]
     },
     "execution_count": 6,
     "metadata": {},
     "output_type": "execute_result"
    }
   ],
   "source": [
    "run_id2 = cl.run_generic_workflow(\n",
    "    workflow_url=sam_view_app,\n",
    "    workflow_params = json.dumps(params2),\n",
    "    workflow_type = \"CWL\",\n",
    "    workflow_type_version = \"v1.0\",\n",
    "    verbose=False\n",
    ")\n",
    "run_id2"
   ]
  },
  {
   "cell_type": "markdown",
   "metadata": {},
   "source": [
    "#### Noting the name of the variable in which the id of the new run was executed, write a line to check the status of the run"
   ]
  },
  {
   "cell_type": "code",
   "execution_count": 7,
   "metadata": {},
   "outputs": [
    {
     "name": "stdout",
     "output_type": "stream",
     "text": [
      "Get request sent to: https://cgc-ga4gh-api.sbgenomics.com/ga4gh/wes/v1/runs/2d6a2166-ab0a-4916-8744-0745a826175d\n"
     ]
    },
    {
     "data": {
      "text/plain": [
       "'INITIALIZING'"
      ]
     },
     "execution_count": 7,
     "metadata": {},
     "output_type": "execute_result"
    }
   ],
   "source": [
    "cl.get_task_status(run_id2)"
   ]
  },
  {
   "cell_type": "markdown",
   "metadata": {},
   "source": [
    "## Getting the results - via DRS\n",
    "Once the first run is complete, further steps can use DRS to obtain the file output from the workflow."
   ]
  },
  {
   "cell_type": "code",
   "execution_count": null,
   "metadata": {},
   "outputs": [],
   "source": [
    "runLog = cl.get_run_log(run_id)\n",
    "runLog['outputs']"
   ]
  },
  {
   "cell_type": "code",
   "execution_count": null,
   "metadata": {},
   "outputs": [],
   "source": [
    "results_drs_uri = runLog['outputs']['out_alignments']['path']\n",
    "results_drs_uri"
   ]
  },
  {
   "cell_type": "markdown",
   "metadata": {},
   "source": [
    "We'll pass over the question of how one would determine which DRS server that URI needs to be sent to because\n",
    "* In this case it's fairly obvious - it's the CGC DRS Server\n",
    "* We want to get something up and working"
   ]
  },
  {
   "cell_type": "code",
   "execution_count": null,
   "metadata": {
    "scrolled": true
   },
   "outputs": [],
   "source": [
    "from fasp.loc import sbcgcDRSClient\n",
    "drsClient = sbcgcDRSClient('~/.keys/sbcgc_key.json', 's3')"
   ]
  },
  {
   "cell_type": "markdown",
   "metadata": {},
   "source": [
    "### DRS GetObject\n",
    "Here's how we then get details of the file. Note that here only the id portion of the DRS URI is being passed. It is the job of a metaresolver to look at that URI and to determine where to send the id. As noted, we are passing up on the opportunity to use a metaresolver and extracting the bare id as follows"
   ]
  },
  {
   "cell_type": "code",
   "execution_count": null,
   "metadata": {},
   "outputs": [],
   "source": [
    "# get the id part of the URI\n",
    "out_alignments_drs_id = results_drs_uri.split('/')[-1]\n",
    "print(f\"Getting {out_alignments_drs_id} from DRS Client\")\n",
    "fileDetails = drsClient.get_object(out_alignments_drs_id)\n",
    "fileDetails"
   ]
  },
  {
   "cell_type": "code",
   "execution_count": null,
   "metadata": {},
   "outputs": [],
   "source": [
    "url = drsClient.get_access_url(out_alignments_drs_id,'s3')"
   ]
  },
  {
   "cell_type": "markdown",
   "metadata": {},
   "source": [
    "### Warning - the results files are approx 700-800Mb"
   ]
  },
  {
   "cell_type": "markdown",
   "metadata": {},
   "source": [
    "### Downloading the file\n",
    "Now we can use the url obtained to download the file. We'll create a small function to encapsulate the download."
   ]
  },
  {
   "cell_type": "code",
   "execution_count": null,
   "metadata": {},
   "outputs": [],
   "source": [
    "import requests\n",
    "import os\n",
    "def download(url, file_path):\n",
    "    with open(os.path.expanduser(file_path), \"wb\") as file:\n",
    "        response = requests.get(url)\n",
    "        file.write(response.content)"
   ]
  },
  {
   "cell_type": "code",
   "execution_count": null,
   "metadata": {},
   "outputs": [],
   "source": [
    "fullPath = '~/Downloads/' + fileDetails['name']\n",
    "download(url, fullPath)"
   ]
  },
  {
   "cell_type": "markdown",
   "metadata": {},
   "source": [
    "### Repeat the steps above to retrieve the results of the second run"
   ]
  },
  {
   "cell_type": "code",
   "execution_count": null,
   "metadata": {},
   "outputs": [],
   "source": [
    "runLog = cl.get_run_log(run_id2)\n",
    "runLog['outputs']"
   ]
  },
  {
   "cell_type": "code",
   "execution_count": null,
   "metadata": {},
   "outputs": [],
   "source": [
    "results_drs_uri = runLog['outputs']['alignement_count']['path']\n",
    "results_drs_uri"
   ]
  },
  {
   "cell_type": "code",
   "execution_count": null,
   "metadata": {},
   "outputs": [],
   "source": [
    "# get the id part of the URI\n",
    "alignment_count_drs_id = results_drs_uri.split('/')[-1]\n",
    "print(f\"Getting {alignment_count_drs_id} from DRS Client\")\n",
    "fileDetails = drsClient.get_object(alignment_count_drs_id)\n",
    "fileDetails"
   ]
  },
  {
   "cell_type": "code",
   "execution_count": null,
   "metadata": {},
   "outputs": [],
   "source": [
    "url = drsClient.get_access_url(alignment_count_drs_id,'s3')"
   ]
  },
  {
   "cell_type": "code",
   "execution_count": null,
   "metadata": {},
   "outputs": [],
   "source": [
    "fullPath = '~/Downloads/' + fileDetails['name']\n",
    "download(url, fullPath)"
   ]
  },
  {
   "cell_type": "code",
   "execution_count": null,
   "metadata": {},
   "outputs": [],
   "source": []
  }
 ],
 "metadata": {
  "kernelspec": {
   "display_name": "Python 3 (ipykernel)",
   "language": "python",
   "name": "python3"
  },
  "language_info": {
   "codemirror_mode": {
    "name": "ipython",
    "version": 3
   },
   "file_extension": ".py",
   "mimetype": "text/x-python",
   "name": "python",
   "nbconvert_exporter": "python",
   "pygments_lexer": "ipython3",
   "version": "3.9.7"
  }
 },
 "nbformat": 4,
 "nbformat_minor": 4
}
