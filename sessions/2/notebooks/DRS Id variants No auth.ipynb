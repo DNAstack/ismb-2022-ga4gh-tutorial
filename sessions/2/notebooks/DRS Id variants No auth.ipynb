{
 "cells": [
  {
   "cell_type": "code",
   "execution_count": 1,
   "id": "7dab844c",
   "metadata": {},
   "outputs": [
    {
     "name": "stdout",
     "output_type": "stream",
     "text": [
      "nci-crdc.datacommons.io\n",
      "nci-crdc.datacommons.io\n",
      "gen3.biodatacatalyst.nhlbi.nih.gov\n",
      "gen3.biodatacatalyst.nhlbi.nih.gov\n",
      "gen3.theanvil.io\n",
      "gen3.theanvil.io\n",
      "cgc-ga4gh-api.sbgenomics.com\n",
      "cavatica-ga4gh-api.sbgenomics.com\n",
      "ga4gh-api.sb.biodatacatalyst.nhlbi.nih.gov\n",
      "locate.be-md.ncbi.nlm.nih.gov\n"
     ]
    }
   ],
   "source": [
    "from fasp.loc import DRSMetaResolver\n",
    "\n",
    "drs_client = DRSMetaResolver(debug=True)\n"
   ]
  },
  {
   "cell_type": "code",
   "execution_count": 2,
   "id": "d450406d",
   "metadata": {},
   "outputs": [
    {
     "name": "stdout",
     "output_type": "stream",
     "text": [
      "sending id 66eeec21-aad0-4a77-8de5-621f05e2d301 to: gen3.biodatacatalyst.nhlbi.nih.gov\n"
     ]
    },
    {
     "data": {
      "text/plain": [
       "{'access_methods': [{'access_id': 'gs',\n",
       "   'access_url': {'url': 'gs://nih-nhlbi-biodata-catalyst-1000-genomes/CCDG_13607/Project_CCDG_13607_B01_GRM_WGS.cram.2019-02-06/Sample_HG03594/analysis/HG03594.final.cram'},\n",
       "   'region': '',\n",
       "   'type': 'gs'},\n",
       "  {'access_id': 's3',\n",
       "   'access_url': {'url': 's3://nih-nhlbi-biodata-catalyst-1000-genomes-high-coverage/CCDG_13607/Project_CCDG_13607_B01_GRM_WGS.cram.2019-02-06/Sample_HG03594/analysis/HG03594.final.cram'},\n",
       "   'region': '',\n",
       "   'type': 's3'}],\n",
       " 'aliases': [],\n",
       " 'checksums': [{'checksum': 'cad45531c1225515714eab58d181a4d5',\n",
       "   'type': 'md5'}],\n",
       " 'created_time': '2020-01-15T15:36:42.200930',\n",
       " 'description': None,\n",
       " 'form': 'object',\n",
       " 'id': 'dg.4503/66eeec21-aad0-4a77-8de5-621f05e2d301',\n",
       " 'mime_type': 'application/json',\n",
       " 'name': '',\n",
       " 'self_uri': 'drs://dg.4503:66eeec21-aad0-4a77-8de5-621f05e2d301',\n",
       " 'size': 17019635647,\n",
       " 'updated_time': '2020-01-15T15:36:42.200937',\n",
       " 'version': '864a8d5f'}"
      ]
     },
     "execution_count": 2,
     "metadata": {},
     "output_type": "execute_result"
    }
   ],
   "source": [
    "drs_client.get_object('bdc:66eeec21-aad0-4a77-8de5-621f05e2d301')"
   ]
  },
  {
   "cell_type": "code",
   "execution_count": 3,
   "id": "9d22c7d1",
   "metadata": {},
   "outputs": [],
   "source": [
    "mixedIDs = [\n",
    "            'bdc:66eeec21-aad0-4a77-8de5-621f05e2d301',\n",
    "            'dg.4503:66eeec21-aad0-4a77-8de5-621f05e2d301',\n",
    "            'crdc:0e3c5237-6933-4d30-83f8-6ab721096bc7',\n",
    "            'dg.4DFC:0e3c5237-6933-4d30-83f8-6ab721096bc7',\n",
    "            'anv:895c5a81-b985-4559-bc8e-cecece550756',\n",
    "            'dg.ANV0:895c5a81-b985-4559-bc8e-cecece550756',\n",
    "            'sradrs:81b75c18e5def027579f9441f987b8a8']"
   ]
  },
  {
   "cell_type": "code",
   "execution_count": 4,
   "id": "ad460d97",
   "metadata": {},
   "outputs": [],
   "source": [
    "def check_list(id_list):\n",
    "    for drs_id in id_list:\n",
    "        print(f\"DRS URI {drs_id}\")\n",
    "        drs_response = drs_client.get_object(drs_id)\n",
    "        num_of_methods = len(drs_response['access_methods'])\n",
    "        print(f\"has {num_of_methods} access_methods\")"
   ]
  },
  {
   "cell_type": "code",
   "execution_count": null,
   "id": "522e1b74",
   "metadata": {},
   "outputs": [],
   "source": []
  },
  {
   "cell_type": "code",
   "execution_count": 5,
   "id": "5bafc40e",
   "metadata": {},
   "outputs": [
    {
     "name": "stdout",
     "output_type": "stream",
     "text": [
      "DRS URI bdc:66eeec21-aad0-4a77-8de5-621f05e2d301\n",
      "sending id 66eeec21-aad0-4a77-8de5-621f05e2d301 to: gen3.biodatacatalyst.nhlbi.nih.gov\n",
      "has 2 access_methods\n",
      "DRS URI dg.4503:66eeec21-aad0-4a77-8de5-621f05e2d301\n",
      "sending id 66eeec21-aad0-4a77-8de5-621f05e2d301 to: gen3.biodatacatalyst.nhlbi.nih.gov\n",
      "has 2 access_methods\n",
      "DRS URI crdc:0e3c5237-6933-4d30-83f8-6ab721096bc7\n",
      "sending id 0e3c5237-6933-4d30-83f8-6ab721096bc7 to: nci-crdc.datacommons.io\n",
      "has 2 access_methods\n",
      "DRS URI dg.4DFC:0e3c5237-6933-4d30-83f8-6ab721096bc7\n",
      "sending id 0e3c5237-6933-4d30-83f8-6ab721096bc7 to: nci-crdc.datacommons.io\n",
      "has 2 access_methods\n",
      "DRS URI anv:895c5a81-b985-4559-bc8e-cecece550756\n",
      "sending id 895c5a81-b985-4559-bc8e-cecece550756 to: gen3.theanvil.io\n",
      "has 1 access_methods\n",
      "DRS URI dg.ANV0:895c5a81-b985-4559-bc8e-cecece550756\n",
      "sending id 895c5a81-b985-4559-bc8e-cecece550756 to: gen3.theanvil.io\n",
      "has 1 access_methods\n",
      "DRS URI sradrs:81b75c18e5def027579f9441f987b8a8\n",
      "sending id 81b75c18e5def027579f9441f987b8a8 to: locate.be-md.ncbi.nlm.nih.gov\n",
      "has 3 access_methods\n"
     ]
    }
   ],
   "source": [
    "check_list(mixedIDs)"
   ]
  },
  {
   "cell_type": "code",
   "execution_count": 6,
   "id": "4b6e671d",
   "metadata": {},
   "outputs": [
    {
     "name": "stdout",
     "output_type": "stream",
     "text": [
      "DRS URI drs://bdc:66eeec21-aad0-4a77-8de5-621f05e2d301\n",
      "sending id 66eeec21-aad0-4a77-8de5-621f05e2d301 to: gen3.biodatacatalyst.nhlbi.nih.gov\n",
      "has 2 access_methods\n",
      "DRS URI dg.4503:66eeec21-aad0-4a77-8de5-621f05e2d301\n",
      "sending id 66eeec21-aad0-4a77-8de5-621f05e2d301 to: gen3.biodatacatalyst.nhlbi.nih.gov\n",
      "has 2 access_methods\n",
      "DRS URI crdc:0e3c5237-6933-4d30-83f8-6ab721096bc7\n",
      "sending id 0e3c5237-6933-4d30-83f8-6ab721096bc7 to: nci-crdc.datacommons.io\n",
      "has 2 access_methods\n",
      "DRS URI dg.4DFC:0e3c5237-6933-4d30-83f8-6ab721096bc7\n",
      "sending id 0e3c5237-6933-4d30-83f8-6ab721096bc7 to: nci-crdc.datacommons.io\n",
      "has 2 access_methods\n",
      "DRS URI drs://anv:895c5a81-b985-4559-bc8e-cecece550756\n",
      "sending id 895c5a81-b985-4559-bc8e-cecece550756 to: gen3.theanvil.io\n",
      "has 1 access_methods\n",
      "DRS URI dg.ANV0:895c5a81-b985-4559-bc8e-cecece550756\n",
      "sending id 895c5a81-b985-4559-bc8e-cecece550756 to: gen3.theanvil.io\n",
      "has 1 access_methods\n",
      "DRS URI sradrs:81b75c18e5def027579f9441f987b8a8\n",
      "sending id 81b75c18e5def027579f9441f987b8a8 to: locate.be-md.ncbi.nlm.nih.gov\n",
      "has 3 access_methods\n"
     ]
    }
   ],
   "source": [
    "trickyIDs = [\n",
    "            'drs://bdc:66eeec21-aad0-4a77-8de5-621f05e2d301',\n",
    "            'dg.4503:66eeec21-aad0-4a77-8de5-621f05e2d301',\n",
    "            'crdc:0e3c5237-6933-4d30-83f8-6ab721096bc7',\n",
    "            'dg.4DFC:0e3c5237-6933-4d30-83f8-6ab721096bc7',\n",
    "            'drs://anv:895c5a81-b985-4559-bc8e-cecece550756',\n",
    "            'dg.ANV0:895c5a81-b985-4559-bc8e-cecece550756',\n",
    "            'sradrs:81b75c18e5def027579f9441f987b8a8']\n",
    "\n",
    "check_list(trickyIDs)"
   ]
  },
  {
   "cell_type": "code",
   "execution_count": 7,
   "id": "deb170f5",
   "metadata": {},
   "outputs": [
    {
     "name": "stdout",
     "output_type": "stream",
     "text": [
      "DRS URI gen3.biodatacatalyst.nhlbi.nih.gov/66eeec21-aad0-4a77-8de5-621f05e2d301\n",
      "sending id 66eeec21-aad0-4a77-8de5-621f05e2d301 to: gen3.biodatacatalyst.nhlbi.nih.gov\n",
      "has 2 access_methods\n",
      "DRS URI nci-crdc.datacommons.io/0e3c5237-6933-4d30-83f8-6ab721096bc7\n",
      "sending id 0e3c5237-6933-4d30-83f8-6ab721096bc7 to: nci-crdc.datacommons.io\n",
      "has 2 access_methods\n",
      "DRS URI drs://nci-crdc.datacommons.io/0e3c5237-6933-4d30-83f8-6ab721096bc7\n",
      "sending id 0e3c5237-6933-4d30-83f8-6ab721096bc7 to: nci-crdc.datacommons.io\n",
      "has 2 access_methods\n",
      "DRS URI drs://gen3.theanvil.io/895c5a81-b985-4559-bc8e-cecece550756\n",
      "sending id 895c5a81-b985-4559-bc8e-cecece550756 to: gen3.theanvil.io\n",
      "has 1 access_methods\n",
      "DRS URI gen3.theanvil.io/895c5a81-b985-4559-bc8e-cecece550756\n",
      "sending id 895c5a81-b985-4559-bc8e-cecece550756 to: gen3.theanvil.io\n",
      "has 1 access_methods\n",
      "DRS URI sradrs:81b75c18e5def027579f9441f987b8a8\n",
      "sending id 81b75c18e5def027579f9441f987b8a8 to: locate.be-md.ncbi.nlm.nih.gov\n",
      "has 3 access_methods\n"
     ]
    }
   ],
   "source": [
    "host_based_IDs = [\n",
    "    #'drs://gen3.biodatacatalyst.nhlbi.nih.gov/66eeec21-aad0-4a77-8de5-621f05e2d301',\n",
    "    'gen3.biodatacatalyst.nhlbi.nih.gov/66eeec21-aad0-4a77-8de5-621f05e2d301',\n",
    "    'nci-crdc.datacommons.io/0e3c5237-6933-4d30-83f8-6ab721096bc7',\n",
    "    'drs://nci-crdc.datacommons.io/0e3c5237-6933-4d30-83f8-6ab721096bc7',\n",
    "    'drs://gen3.theanvil.io/895c5a81-b985-4559-bc8e-cecece550756',\n",
    "    'gen3.theanvil.io/895c5a81-b985-4559-bc8e-cecece550756',\n",
    "    'sradrs:81b75c18e5def027579f9441f987b8a8'\n",
    "]\n",
    "\n",
    "check_list(host_based_IDs)\n",
    "\n"
   ]
  }
 ],
 "metadata": {
  "kernelspec": {
   "display_name": "Python 3 (ipykernel)",
   "language": "python",
   "name": "python3"
  },
  "language_info": {
   "codemirror_mode": {
    "name": "ipython",
    "version": 3
   },
   "file_extension": ".py",
   "mimetype": "text/x-python",
   "name": "python",
   "nbconvert_exporter": "python",
   "pygments_lexer": "ipython3",
   "version": "3.9.7"
  }
 },
 "nbformat": 4,
 "nbformat_minor": 5
}
