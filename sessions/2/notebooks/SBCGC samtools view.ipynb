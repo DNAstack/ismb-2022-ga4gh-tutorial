{
 "cells": [
  {
   "cell_type": "markdown",
   "metadata": {},
   "source": [
    "## Running samtools view via the WES API\n"
   ]
  },
  {
   "cell_type": "code",
   "execution_count": 2,
   "metadata": {},
   "outputs": [],
   "source": [
    "#from fasp.workflow import sbWESClient\n",
    "from fasp.workflow import sbcgcWESClient\n",
    "\n",
    "cl = sbcgcWESClient('forei/ismb-tutorial', debug=True)"
   ]
  },
  {
   "cell_type": "code",
   "execution_count": null,
   "metadata": {},
   "outputs": [],
   "source": [
    "ids  = ['drs://cgc-ga4gh-api.sbgenomics.com/5832fef8507c17de5bfc5806',\n",
    "'drs://cgc-ga4gh-api.sbgenomics.com/5772b6f8507c175267448709']\n",
    "\n",
    "params = {\n",
    "\"project\": \"forei/ismb-tutorial\",\n",
    "\"name\": \"Samtools View test via WES\",\n",
    "\"inputs\": {\n",
    "\n",
    "        \"in_alignments\": {\n",
    "          \"path\": ids[0],\n",
    "          \"basename\": \"G26234.HCC1187_1M.aligned.bam\",\n",
    "          \"nameext\": \".bam\",\n",
    "          \"class\": \"File\",\n",
    "          \"nameroot\": \"G26234.HCC1187_1M.aligned\"\n",
    "        }\n",
    "      }\n",
    "}"
   ]
  },
  {
   "cell_type": "markdown",
   "metadata": {},
   "source": [
    "## Calling WES from Python"
   ]
  },
  {
   "cell_type": "markdown",
   "metadata": {},
   "source": [
    "Now we have formulated the body in the way that it can be passed to a client function as follows."
   ]
  },
  {
   "cell_type": "code",
   "execution_count": 26,
   "metadata": {},
   "outputs": [
    {
     "data": {
      "text/plain": [
       "'ffd7bb7a-e66b-4fe5-a1fe-144420a34a3d'"
      ]
     },
     "execution_count": 26,
     "metadata": {},
     "output_type": "execute_result"
    }
   ],
   "source": [
    "import json\n",
    "run_id= cl.runGenericWorkflow(\n",
    "    workflow_url='sbg://forei/ismb-tutorial/samtools-view-1-9-cwl1-0',\n",
    "    workflow_params = json.dumps(params),\n",
    "    workflow_type = \"CWL\",\n",
    "    workflow_type_version = \"v1.0\",\n",
    "    verbose=False\n",
    ")\n",
    "run_id"
   ]
  },
  {
   "cell_type": "code",
   "execution_count": 5,
   "metadata": {},
   "outputs": [],
   "source": [
    "run_id = 'ffd7bb7a-e66b-4fe5-a1fe-144420a34a3d'"
   ]
  },
  {
   "cell_type": "code",
   "execution_count": 6,
   "metadata": {},
   "outputs": [
    {
     "data": {
      "text/plain": [
       "'COMPLETE'"
      ]
     },
     "execution_count": 6,
     "metadata": {},
     "output_type": "execute_result"
    }
   ],
   "source": [
    "cl.getTaskStatus(run_id)"
   ]
  },
  {
   "cell_type": "markdown",
   "metadata": {},
   "source": [
    "## Getting the results - via DRS\n",
    "Once the run is complete, further steps can use DRS to obtain the file output from the workflow."
   ]
  },
  {
   "cell_type": "code",
   "execution_count": 8,
   "metadata": {},
   "outputs": [
    {
     "data": {
      "text/plain": [
       "{'reads_not_selected_by_filters': None,\n",
       " 'alignement_count': None,\n",
       " 'out_alignments': {'path': 'drs://cgc-ga4gh-api.sbgenomics.com/62b0a98f4e3edb6b1c23ecf4',\n",
       "  'basename': 'G20479.HCC1143_1M.aligned.sam',\n",
       "  'nameext': '.sam',\n",
       "  'class': 'File',\n",
       "  'nameroot': 'G20479.HCC1143_1M.aligned'}}"
      ]
     },
     "execution_count": 8,
     "metadata": {},
     "output_type": "execute_result"
    }
   ],
   "source": [
    "runLog = cl.getRunLog(run_id)\n",
    "runLog['outputs']"
   ]
  },
  {
   "cell_type": "code",
   "execution_count": 10,
   "metadata": {},
   "outputs": [
    {
     "data": {
      "text/plain": [
       "'drs://cgc-ga4gh-api.sbgenomics.com/62b0a98f4e3edb6b1c23ecf4'"
      ]
     },
     "execution_count": 10,
     "metadata": {},
     "output_type": "execute_result"
    }
   ],
   "source": [
    "resultsDRSID = runLog['outputs']['out_alignments']['path']\n",
    "resultsDRSID"
   ]
  },
  {
   "cell_type": "markdown",
   "metadata": {},
   "source": [
    "We'll pass over the question of how one would determine which DRS server that URI needs to be sent to because\n",
    "* In this case it's fairly obvious - it's the CGC DRS Server\n",
    "* We want to get something up and working\n",
    "* There are other things we should consider when dealing with metaresolvers\n",
    "\n",
    "Add to to-do list: a notebook on Metaresolvers"
   ]
  },
  {
   "cell_type": "code",
   "execution_count": 11,
   "metadata": {
    "scrolled": true
   },
   "outputs": [],
   "source": [
    "from fasp.loc import sbcgcDRSClient\n",
    "drsClient = sbcgcDRSClient('~/.keys/sevenbridges_keys.json', 's3')"
   ]
  },
  {
   "cell_type": "markdown",
   "metadata": {},
   "source": [
    "### DRS GetObject\n",
    "Here's how we then get details of the file. Note that here only the id portion of the DRS URI is being passed. It is the job of a metaresolver to look at that URI and to determine where to send the id. As noted, we are passing up on the opportunity to use a metaresolver and putting in the id manually."
   ]
  },
  {
   "cell_type": "code",
   "execution_count": 15,
   "metadata": {},
   "outputs": [
    {
     "data": {
      "text/plain": [
       "{'id': '62b0a98f4e3edb6b1c23ecf4',\n",
       " 'name': 'G20479.HCC1143_1M.aligned.sam',\n",
       " 'size': 767901505,\n",
       " 'checksums': [{'type': 'etag',\n",
       "   'checksum': '4c32011a61a5e50f6247bf2359fbb824-1'}],\n",
       " 'self_uri': 'drs://cgc-ga4gh-api.sbgenomics.com/62b0a98f4e3edb6b1c23ecf4',\n",
       " 'created_time': '2022-06-20T17:08:31Z',\n",
       " 'updated_time': '2022-06-20T17:08:31Z',\n",
       " 'mime_type': 'application/json',\n",
       " 'access_methods': [{'type': 's3',\n",
       "   'region': 'us-east-1',\n",
       "   'access_id': 'aws-us-east-1'}]}"
      ]
     },
     "execution_count": 15,
     "metadata": {},
     "output_type": "execute_result"
    }
   ],
   "source": [
    "out_alignments = '62b0a98f4e3edb6b1c23ecf4'\n",
    "fileDetails = drsClient.getObject(out_alignments)\n",
    "fileDetails"
   ]
  },
  {
   "cell_type": "code",
   "execution_count": 19,
   "metadata": {},
   "outputs": [],
   "source": [
    "url = drsClient.getAccessURL(out_alignments,'s3')"
   ]
  },
  {
   "cell_type": "markdown",
   "metadata": {},
   "source": [
    "### Warning - the results files are approx 700-800Mb"
   ]
  },
  {
   "cell_type": "markdown",
   "metadata": {},
   "source": [
    "### Downloading the file\n",
    "Now we can use the url obtained to download the file. We'll create a small function to encapsulate the download."
   ]
  },
  {
   "cell_type": "code",
   "execution_count": 15,
   "metadata": {},
   "outputs": [],
   "source": [
    "import requests\n",
    "import os\n",
    "def download(url, file_path):\n",
    "    with open(os.path.expanduser(file_path), \"wb\") as file:\n",
    "        response = requests.get(url)\n",
    "        file.write(response.content)"
   ]
  },
  {
   "cell_type": "code",
   "execution_count": 16,
   "metadata": {},
   "outputs": [],
   "source": [
    "fullPath = '~/Downloads/' + fileDetails['name']\n",
    "download(url, fullPath)"
   ]
  },
  {
   "cell_type": "markdown",
   "metadata": {},
   "source": [
    "## Why we need a Metaresolver\n",
    "Just to prove that to use DRS URIs we need a metaresolver. Here's what happens when we try asking the DRS Server to resolve the full DRS URI."
   ]
  },
  {
   "cell_type": "code",
   "execution_count": 18,
   "metadata": {},
   "outputs": [
    {
     "ename": "HTTPError",
     "evalue": "404 Client Error: Not Found for url: https://cgc-ga4gh-api.sbgenomics.com/ga4gh/drs/v1/objects/drs://cgc-ga4gh-api.sbgenomics.com/5ffe65dee4b0eeecd99a2b39",
     "output_type": "error",
     "traceback": [
      "\u001b[0;31m---------------------------------------------------------------------------\u001b[0m",
      "\u001b[0;31mHTTPError\u001b[0m                                 Traceback (most recent call last)",
      "Input \u001b[0;32mIn [18]\u001b[0m, in \u001b[0;36m<cell line: 1>\u001b[0;34m()\u001b[0m\n\u001b[0;32m----> 1\u001b[0m \u001b[43mdrsClient\u001b[49m\u001b[38;5;241;43m.\u001b[39;49m\u001b[43mgetObject\u001b[49m\u001b[43m(\u001b[49m\u001b[38;5;124;43m'\u001b[39;49m\u001b[38;5;124;43mdrs://cgc-ga4gh-api.sbgenomics.com/5ffe65dee4b0eeecd99a2b39\u001b[39;49m\u001b[38;5;124;43m'\u001b[39;49m\u001b[43m)\u001b[49m\n",
      "File \u001b[0;32m~/imfenvs/ismb1/lib/python3.9/site-packages/fasp/loc/sbdrsclient.py:36\u001b[0m, in \u001b[0;36mSBDRSClient.getObject\u001b[0;34m(self, object_id)\u001b[0m\n\u001b[1;32m     34\u001b[0m \t\u001b[38;5;28;01mreturn\u001b[39;00m json\u001b[38;5;241m.\u001b[39mloads(resp)\n\u001b[1;32m     35\u001b[0m \u001b[38;5;28;01melse\u001b[39;00m:\n\u001b[0;32m---> 36\u001b[0m \t\u001b[38;5;28mprint\u001b[39m (\u001b[43mresponse\u001b[49m\u001b[38;5;241;43m.\u001b[39;49m\u001b[43mraise_for_status\u001b[49m\u001b[43m(\u001b[49m\u001b[43m)\u001b[49m)\n\u001b[1;32m     37\u001b[0m \t\u001b[38;5;28;01mreturn\u001b[39;00m \u001b[38;5;28;01mNone\u001b[39;00m\n",
      "File \u001b[0;32m~/imfenvs/ismb1/lib/python3.9/site-packages/requests/models.py:1022\u001b[0m, in \u001b[0;36mResponse.raise_for_status\u001b[0;34m(self)\u001b[0m\n\u001b[1;32m   1017\u001b[0m     http_error_msg \u001b[38;5;241m=\u001b[39m (\n\u001b[1;32m   1018\u001b[0m         \u001b[38;5;124mf\u001b[39m\u001b[38;5;124m\"\u001b[39m\u001b[38;5;132;01m{\u001b[39;00m\u001b[38;5;28mself\u001b[39m\u001b[38;5;241m.\u001b[39mstatus_code\u001b[38;5;132;01m}\u001b[39;00m\u001b[38;5;124m Server Error: \u001b[39m\u001b[38;5;132;01m{\u001b[39;00mreason\u001b[38;5;132;01m}\u001b[39;00m\u001b[38;5;124m for url: \u001b[39m\u001b[38;5;132;01m{\u001b[39;00m\u001b[38;5;28mself\u001b[39m\u001b[38;5;241m.\u001b[39murl\u001b[38;5;132;01m}\u001b[39;00m\u001b[38;5;124m\"\u001b[39m\n\u001b[1;32m   1019\u001b[0m     )\n\u001b[1;32m   1021\u001b[0m \u001b[38;5;28;01mif\u001b[39;00m http_error_msg:\n\u001b[0;32m-> 1022\u001b[0m     \u001b[38;5;28;01mraise\u001b[39;00m HTTPError(http_error_msg, response\u001b[38;5;241m=\u001b[39m\u001b[38;5;28mself\u001b[39m)\n",
      "\u001b[0;31mHTTPError\u001b[0m: 404 Client Error: Not Found for url: https://cgc-ga4gh-api.sbgenomics.com/ga4gh/drs/v1/objects/drs://cgc-ga4gh-api.sbgenomics.com/5ffe65dee4b0eeecd99a2b39"
     ]
    }
   ],
   "source": [
    "drsClient.getObject('drs://cgc-ga4gh-api.sbgenomics.com/5ffe65dee4b0eeecd99a2b39')"
   ]
  },
  {
   "cell_type": "markdown",
   "metadata": {},
   "source": [
    "That we get an error (404) might seem weird or obtuse behavior for at least couple of reasons:\n",
    "* The DRS server clearly knows that is the URI for that file. It tells us so in the self_uri attribute\n",
    "* The WES server from the same organization was quite happy with the full URI\n",
    "\n",
    "However this behavior is correct according to the spec (double check that). A DRS Server resolves only the identifiers that are local to it.\n",
    "\n",
    "A metaresolver would be needed for resolving compact URIs too."
   ]
  },
  {
   "cell_type": "code",
   "execution_count": null,
   "metadata": {},
   "outputs": [],
   "source": []
  }
 ],
 "metadata": {
  "kernelspec": {
   "display_name": "Python 3 (ipykernel)",
   "language": "python",
   "name": "python3"
  },
  "language_info": {
   "codemirror_mode": {
    "name": "ipython",
    "version": 3
   },
   "file_extension": ".py",
   "mimetype": "text/x-python",
   "name": "python",
   "nbconvert_exporter": "python",
   "pygments_lexer": "ipython3",
   "version": "3.9.7"
  }
 },
 "nbformat": 4,
 "nbformat_minor": 4
}
