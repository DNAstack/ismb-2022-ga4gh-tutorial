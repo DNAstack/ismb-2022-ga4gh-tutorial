{
 "cells": [
  {
   "cell_type": "markdown",
   "metadata": {},
   "source": [
    "## Running samtools view via the WES API\n"
   ]
  },
  {
   "cell_type": "code",
   "execution_count": 1,
   "metadata": {},
   "outputs": [],
   "source": [
    "#from fasp.workflow import sbWESClient\n",
    "from fasp.workflow import sbcgcWESClient\n",
    "project_name = 'forei/ismb-tutorial'\n",
    "cl = sbcgcWESClient(project_name, debug=True)"
   ]
  },
  {
   "cell_type": "code",
   "execution_count": 2,
   "metadata": {},
   "outputs": [],
   "source": [
    "ids  = ['drs://cgc-ga4gh-api.sbgenomics.com/5832fef8507c17de5bfc5806',\n",
    "'drs://cgc-ga4gh-api.sbgenomics.com/5772b6f8507c175267448709']\n",
    "\n",
    "params = {\n",
    "\"project\": project_name,\n",
    "\"name\": \"Samtools View test via WES - header only\",\n",
    "\"inputs\": {\n",
    "    \"output_header_only\": True,\n",
    "    \"include_header\": True,\n",
    "        \"in_alignments\": {\n",
    "          \"path\": ids[0],\n",
    "          \"basename\": \"G26234.HCC1187_1M.aligned.bam\",\n",
    "          \"nameext\": \".bam\",\n",
    "          \"class\": \"File\",\n",
    "          \"nameroot\": \"G26234.HCC1187_1M.aligned\"\n",
    "        }\n",
    "      }\n",
    "}"
   ]
  },
  {
   "cell_type": "markdown",
   "metadata": {},
   "source": [
    "## Calling WES from Python"
   ]
  },
  {
   "cell_type": "markdown",
   "metadata": {},
   "source": [
    "Now we have formulated the body in the way that it can be passed to a client function as follows."
   ]
  },
  {
   "cell_type": "code",
   "execution_count": 4,
   "metadata": {},
   "outputs": [
    {
     "data": {
      "text/plain": [
       "'889b379f-a3f0-4610-aa94-d7f4f98105ee'"
      ]
     },
     "execution_count": 4,
     "metadata": {},
     "output_type": "execute_result"
    }
   ],
   "source": [
    "import json\n",
    "\n",
    "sam_view_app = 'sbg://yasasvinip/test-1/samtools-view-1-9-cwl1-0'\n",
    "#sam_view_app = 'sbg://forei/ismb-tutorial/samtools-view-1-9-cwl1-0'\n",
    "\n",
    "run_id= cl.runGenericWorkflow(\n",
    "    workflow_url=yash_app,\n",
    "    workflow_params = json.dumps(params),\n",
    "    workflow_type = \"CWL\",\n",
    "    workflow_type_version = \"v1.0\",\n",
    "    verbose=False\n",
    ")\n",
    "run_id"
   ]
  },
  {
   "cell_type": "code",
   "execution_count": 9,
   "metadata": {},
   "outputs": [
    {
     "data": {
      "text/plain": [
       "'COMPLETE'"
      ]
     },
     "execution_count": 9,
     "metadata": {},
     "output_type": "execute_result"
    }
   ],
   "source": [
    "cl.getTaskStatus(run_id)"
   ]
  },
  {
   "cell_type": "markdown",
   "metadata": {},
   "source": [
    "## Getting the results - via DRS\n",
    "Once the run is complete, further steps can use DRS to obtain the file output from the workflow."
   ]
  },
  {
   "cell_type": "code",
   "execution_count": 10,
   "metadata": {},
   "outputs": [
    {
     "data": {
      "text/plain": [
       "{'reads_not_selected_by_filters': None,\n",
       " 'alignement_count': None,\n",
       " 'out_alignments': {'path': 'drs://cgc-ga4gh-api.sbgenomics.com/62b0e74bf08fea4770471080',\n",
       "  'basename': '_2_G20479.HCC1143_1M.aligned.header.sam',\n",
       "  'nameext': '.sam',\n",
       "  'class': 'File',\n",
       "  'nameroot': '_2_G20479.HCC1143_1M.aligned.header'}}"
      ]
     },
     "execution_count": 10,
     "metadata": {},
     "output_type": "execute_result"
    }
   ],
   "source": [
    "runLog = cl.getRunLog(run_id)\n",
    "runLog['outputs']"
   ]
  },
  {
   "cell_type": "code",
   "execution_count": 11,
   "metadata": {},
   "outputs": [
    {
     "data": {
      "text/plain": [
       "'drs://cgc-ga4gh-api.sbgenomics.com/62b0e74bf08fea4770471080'"
      ]
     },
     "execution_count": 11,
     "metadata": {},
     "output_type": "execute_result"
    }
   ],
   "source": [
    "resultsDRSID = runLog['outputs']['out_alignments']['path']\n",
    "resultsDRSID"
   ]
  },
  {
   "cell_type": "markdown",
   "metadata": {},
   "source": [
    "We'll pass over the question of how one would determine which DRS server that URI needs to be sent to because\n",
    "* In this case it's fairly obvious - it's the CGC DRS Server\n",
    "* We want to get something up and working"
   ]
  },
  {
   "cell_type": "code",
   "execution_count": 12,
   "metadata": {
    "scrolled": true
   },
   "outputs": [],
   "source": [
    "from fasp.loc import sbcgcDRSClient\n",
    "drsClient = sbcgcDRSClient('~/.keys/sbcgc_key.json', 's3')"
   ]
  },
  {
   "cell_type": "markdown",
   "metadata": {},
   "source": [
    "### DRS GetObject\n",
    "Here's how we then get details of the file. Note that here only the id portion of the DRS URI is being passed. It is the job of a metaresolver to look at that URI and to determine where to send the id. As noted, we are passing up on the opportunity to use a metaresolver and extracting the bare id as follows"
   ]
  },
  {
   "cell_type": "code",
   "execution_count": 13,
   "metadata": {},
   "outputs": [
    {
     "name": "stdout",
     "output_type": "stream",
     "text": [
      "Getting 62b0e74bf08fea4770471080 from DRS Client\n"
     ]
    },
    {
     "data": {
      "text/plain": [
       "{'id': '62b0e74bf08fea4770471080',\n",
       " 'name': '_2_G20479.HCC1143_1M.aligned.header.sam',\n",
       " 'size': 3598,\n",
       " 'checksums': [{'type': 'etag',\n",
       "   'checksum': '159acae2ce81efee40f0f89ee58f2f95-1'}],\n",
       " 'self_uri': 'drs://cgc-ga4gh-api.sbgenomics.com/62b0e74bf08fea4770471080',\n",
       " 'created_time': '2022-06-20T21:31:55Z',\n",
       " 'updated_time': '2022-06-20T21:31:55Z',\n",
       " 'mime_type': 'application/json',\n",
       " 'access_methods': [{'type': 's3',\n",
       "   'region': 'us-east-1',\n",
       "   'access_id': 'aws-us-east-1'}]}"
      ]
     },
     "execution_count": 13,
     "metadata": {},
     "output_type": "execute_result"
    }
   ],
   "source": [
    "# get the id part of the URI\n",
    "out_alignments = resultsDRSID.split('/')[-1]\n",
    "print(f\"Getting {out_alignments} from DRS Client\")\n",
    "fileDetails = drsClient.getObject(out_alignments)\n",
    "fileDetails"
   ]
  },
  {
   "cell_type": "code",
   "execution_count": 14,
   "metadata": {},
   "outputs": [],
   "source": [
    "url = drsClient.getAccessURL(out_alignments,'s3')"
   ]
  },
  {
   "cell_type": "markdown",
   "metadata": {},
   "source": [
    "### Warning - the results files are approx 700-800Mb"
   ]
  },
  {
   "cell_type": "markdown",
   "metadata": {},
   "source": [
    "### Downloading the file\n",
    "Now we can use the url obtained to download the file. We'll create a small function to encapsulate the download."
   ]
  },
  {
   "cell_type": "code",
   "execution_count": 15,
   "metadata": {},
   "outputs": [],
   "source": [
    "import requests\n",
    "import os\n",
    "def download(url, file_path):\n",
    "    with open(os.path.expanduser(file_path), \"wb\") as file:\n",
    "        response = requests.get(url)\n",
    "        file.write(response.content)"
   ]
  },
  {
   "cell_type": "code",
   "execution_count": 16,
   "metadata": {},
   "outputs": [],
   "source": [
    "fullPath = '~/Downloads/' + fileDetails['name']\n",
    "download(url, fullPath)"
   ]
  },
  {
   "cell_type": "code",
   "execution_count": null,
   "metadata": {},
   "outputs": [],
   "source": []
  }
 ],
 "metadata": {
  "kernelspec": {
   "display_name": "Python 3 (ipykernel)",
   "language": "python",
   "name": "python3"
  },
  "language_info": {
   "codemirror_mode": {
    "name": "ipython",
    "version": 3
   },
   "file_extension": ".py",
   "mimetype": "text/x-python",
   "name": "python",
   "nbconvert_exporter": "python",
   "pygments_lexer": "ipython3",
   "version": "3.9.7"
  }
 },
 "nbformat": 4,
 "nbformat_minor": 4
}
