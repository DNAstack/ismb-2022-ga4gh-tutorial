{
 "cells": [
  {
   "cell_type": "markdown",
   "metadata": {},
   "source": [
    "## Using DRS to access files from SRA\n",
    "This notebook explores two approaches to getting to specific objects or files via DRS.\n",
    "\n",
    "For context, another notebook shows how the files identified via the approaches here can be submitted for compute via a  WES service. \n",
    "\n",
    "The data and files used are from the Thousand Genomes project. The following query using Data Connect shows how, in a single step, the DRS ids for mapped BAM files for whole exome sequencing for subjects from a particular population."
   ]
  },
  {
   "cell_type": "code",
   "execution_count": 2,
   "metadata": {},
   "outputs": [
    {
     "name": "stdout",
     "output_type": "stream",
     "text": [
      "Retrieving the query\n",
      "____Page1_______________\n",
      "____Page2_______________\n",
      "____Page3_______________\n",
      "____Page4_______________\n",
      "____Page5_______________\n",
      "____Page6_______________\n",
      "____Page7_______________\n"
     ]
    },
    {
     "data": {
      "text/html": [
       "<div>\n",
       "<style scoped>\n",
       "    .dataframe tbody tr th:only-of-type {\n",
       "        vertical-align: middle;\n",
       "    }\n",
       "\n",
       "    .dataframe tbody tr th {\n",
       "        vertical-align: top;\n",
       "    }\n",
       "\n",
       "    .dataframe thead th {\n",
       "        text-align: right;\n",
       "    }\n",
       "</style>\n",
       "<table border=\"1\" class=\"dataframe\">\n",
       "  <thead>\n",
       "    <tr style=\"text-align: right;\">\n",
       "      <th></th>\n",
       "      <th>sample_name</th>\n",
       "      <th>bam_drs_id</th>\n",
       "      <th>acc</th>\n",
       "    </tr>\n",
       "  </thead>\n",
       "  <tbody>\n",
       "    <tr>\n",
       "      <th>0</th>\n",
       "      <td>NA18948</td>\n",
       "      <td>fb1cfb04d3ef99d07c21f9dbf87ccc68</td>\n",
       "      <td>SRR1601121</td>\n",
       "    </tr>\n",
       "    <tr>\n",
       "      <th>1</th>\n",
       "      <td>NA18945</td>\n",
       "      <td>9327fb44eb81b49a41e38c8d86eb3b3a</td>\n",
       "      <td>SRR1601115</td>\n",
       "    </tr>\n",
       "    <tr>\n",
       "      <th>2</th>\n",
       "      <td>NA18943</td>\n",
       "      <td>9f38253b281c7e9c99e4bdbececd8e2f</td>\n",
       "      <td>SRR1606910</td>\n",
       "    </tr>\n",
       "    <tr>\n",
       "      <th>3</th>\n",
       "      <td>NA18944</td>\n",
       "      <td>5aff9cee759c930666e94e65dbb0af94</td>\n",
       "      <td>SRR1601113</td>\n",
       "    </tr>\n",
       "    <tr>\n",
       "      <th>4</th>\n",
       "      <td>NA18940</td>\n",
       "      <td>333a651b55970c9402db51ebb5e55d09</td>\n",
       "      <td>SRR1607212</td>\n",
       "    </tr>\n",
       "    <tr>\n",
       "      <th>...</th>\n",
       "      <td>...</td>\n",
       "      <td>...</td>\n",
       "      <td>...</td>\n",
       "    </tr>\n",
       "    <tr>\n",
       "      <th>99</th>\n",
       "      <td>NA19074</td>\n",
       "      <td>0805baa0849485a2a63ea41429b9b37c</td>\n",
       "      <td>SRR1604135</td>\n",
       "    </tr>\n",
       "    <tr>\n",
       "      <th>100</th>\n",
       "      <td>NA19081</td>\n",
       "      <td>cb072733f15565af2790a90efe60b0e1</td>\n",
       "      <td>SRR1598082</td>\n",
       "    </tr>\n",
       "    <tr>\n",
       "      <th>101</th>\n",
       "      <td>NA19080</td>\n",
       "      <td>6f9f1fc52166530ed0568d61451b032f</td>\n",
       "      <td>SRR1598080</td>\n",
       "    </tr>\n",
       "    <tr>\n",
       "      <th>102</th>\n",
       "      <td>NA19087</td>\n",
       "      <td>b5f9609124241ade815fe49e2eb38c4f</td>\n",
       "      <td>SRR1603951</td>\n",
       "    </tr>\n",
       "    <tr>\n",
       "      <th>103</th>\n",
       "      <td>NA19077</td>\n",
       "      <td>59eb87314f05d99a4ef8cd250353d151</td>\n",
       "      <td>SRR1598075</td>\n",
       "    </tr>\n",
       "  </tbody>\n",
       "</table>\n",
       "<p>104 rows × 3 columns</p>\n",
       "</div>"
      ],
      "text/plain": [
       "    sample_name                        bam_drs_id         acc\n",
       "0       NA18948  fb1cfb04d3ef99d07c21f9dbf87ccc68  SRR1601121\n",
       "1       NA18945  9327fb44eb81b49a41e38c8d86eb3b3a  SRR1601115\n",
       "2       NA18943  9f38253b281c7e9c99e4bdbececd8e2f  SRR1606910\n",
       "3       NA18944  5aff9cee759c930666e94e65dbb0af94  SRR1601113\n",
       "4       NA18940  333a651b55970c9402db51ebb5e55d09  SRR1607212\n",
       "..          ...                               ...         ...\n",
       "99      NA19074  0805baa0849485a2a63ea41429b9b37c  SRR1604135\n",
       "100     NA19081  cb072733f15565af2790a90efe60b0e1  SRR1598082\n",
       "101     NA19080  6f9f1fc52166530ed0568d61451b032f  SRR1598080\n",
       "102     NA19087  b5f9609124241ade815fe49e2eb38c4f  SRR1603951\n",
       "103     NA19077  59eb87314f05d99a4ef8cd250353d151  SRR1598075\n",
       "\n",
       "[104 rows x 3 columns]"
      ]
     },
     "execution_count": 2,
     "metadata": {},
     "output_type": "execute_result"
    }
   ],
   "source": [
    "from fasp.search import DataConnectClient\n",
    "\n",
    "# Step 1 - Discovery\n",
    "# query for relevant DRS objects\n",
    "searchClient = DataConnectClient('https://ga4gh-search-adapter-presto-public.prod.dnastack.com/')\n",
    "\n",
    "query = '''SELECT f.sample_name, drs_id bam_drs_id, acc\n",
    "FROM thousand_genomes.onek_genomes.ssd_drs s \n",
    "join thousand_genomes.onek_genomes.sra_drs_files f on f.sample_name = s.su_submitter_id \n",
    "where filetype = 'bam' and mapped = 'mapped' \n",
    "and sequencing_type ='exome' and  population = 'JPT' '''\n",
    "\n",
    "resultRows = searchClient.runQuery(query, returnType='dataframe')\n",
    "resultRows"
   ]
  },
  {
   "cell_type": "code",
   "execution_count": 11,
   "metadata": {},
   "outputs": [
    {
     "name": "stdout",
     "output_type": "stream",
     "text": [
      "_Schema for tablethousand_genomes.onek_genomes.sra_drs_files_\n",
      "{\n",
      "   \"name\": \"thousand_genomes.onek_genomes.sra_drs_files\",\n",
      "   \"description\": \"Automatically generated schema\",\n",
      "   \"data_model\": {\n",
      "      \"$id\": \"https://ga4gh-search-adapter-presto-public.prod.dnastack.com/table/thousand_genomes.onek_genomes.sra_drs_files/info\",\n",
      "      \"description\": \"Automatically generated schema\",\n",
      "      \"$schema\": \"http://json-schema.org/draft-07/schema#\",\n",
      "      \"properties\": {\n",
      "         \"acc\": {\n",
      "            \"format\": \"varchar\",\n",
      "            \"type\": \"string\",\n",
      "            \"$comment\": \"varchar\"\n",
      "         },\n",
      "         \"filename\": {\n",
      "            \"format\": \"varchar\",\n",
      "            \"type\": \"string\",\n",
      "            \"$comment\": \"varchar\"\n",
      "         },\n",
      "         \"drs_id\": {\n",
      "            \"format\": \"varchar\",\n",
      "            \"type\": \"string\",\n",
      "            \"$comment\": \"varchar\"\n",
      "         },\n",
      "         \"filetype\": {\n",
      "            \"format\": \"varchar\",\n",
      "            \"type\": \"string\",\n",
      "            \"$comment\": \"varchar\"\n",
      "         },\n",
      "         \"sample_name\": {\n",
      "            \"format\": \"varchar\",\n",
      "            \"type\": \"string\",\n",
      "            \"$comment\": \"varchar\"\n",
      "         },\n",
      "         \"mapped\": {\n",
      "            \"format\": \"varchar\",\n",
      "            \"type\": \"string\",\n",
      "            \"$comment\": \"varchar\"\n",
      "         },\n",
      "         \"sequencing_type\": {\n",
      "            \"format\": \"varchar\",\n",
      "            \"type\": \"string\",\n",
      "            \"$comment\": \"varchar\"\n",
      "         }\n",
      "      }\n",
      "   }\n",
      "}\n"
     ]
    },
    {
     "data": {
      "text/plain": [
       "<fasp.search.data_connect_client.SearchSchema at 0x13084aee0>"
      ]
     },
     "execution_count": 11,
     "metadata": {},
     "output_type": "execute_result"
    }
   ],
   "source": [
    "searchClient.listTableInfo('thousand_genomes.onek_genomes.sra_drs_files', verbose=True)"
   ]
  },
  {
   "cell_type": "markdown",
   "metadata": {},
   "source": [
    "The following shows how the SRA DRS server can be used to determine where the files can be obtained from. The following shows this for the first DRS id from the query results. "
   ]
  },
  {
   "cell_type": "code",
   "execution_count": 72,
   "metadata": {},
   "outputs": [
    {
     "name": "stdout",
     "output_type": "stream",
     "text": [
      "https://locate.be-md.ncbi.nlm.nih.gov/ga4gh/drs/v1/objects/59eb87314f05d99a4ef8cd250353d151\n"
     ]
    },
    {
     "data": {
      "text/plain": [
       "{'access_methods': [{'access_id': 'aed1336035380817df6565a2e1ed72cad908160aea401422a22faef6f99df92e',\n",
       "   'region': 'gs.US',\n",
       "   'type': 'https'},\n",
       "  {'access_id': '6d0c7ff04ed6411c1bc01f0a443cbd02314b9fc03e18826b15aba89dd7eeb0e5',\n",
       "   'type': 'https'},\n",
       "  {'access_id': '9a6d6ddec179ac5abfcbd3a98820476edf2eb81e1efeb65ebff474ba262db06a',\n",
       "   'region': 's3.us-east-1',\n",
       "   'type': 'https'}],\n",
       " 'checksums': [{'checksum': '59eb87314f05d99a4ef8cd250353d151',\n",
       "   'type': 'md5'}],\n",
       " 'created_time': '2012-11-18T05:32:45Z',\n",
       " 'id': '59eb87314f05d99a4ef8cd250353d151',\n",
       " 'name': 'NA19077.mapped.ILLUMINA.bwa.JPT.exome.20120522.bam',\n",
       " 'self_url': 'drs://locate.be-md.ncbi.nlm.nih.gov/59eb87314f05d99a4ef8cd250353d151',\n",
       " 'size': 9831919221}"
      ]
     },
     "execution_count": 72,
     "metadata": {},
     "output_type": "execute_result"
    }
   ],
   "source": [
    "from fasp.loc import DRSClient\n",
    "\n",
    "# Set up a client to access NCBI's  DRS Server for the Sequence Read Archive (SRA)\n",
    "drsClient = DRSClient('https://locate.be-md.ncbi.nlm.nih.gov', debug=True, public=True)\n",
    "# Get the DRS id \n",
    "test_id = '59eb87314f05d99a4ef8cd250353d151'\n",
    "# Use the DRS GetObject function to find out where the file is availble for access\n",
    "objInfo = drsClient.getObject(test_id)\n",
    "objInfo"
   ]
  },
  {
   "cell_type": "markdown",
   "metadata": {},
   "source": [
    "A second DRS call can be used to obtain a url to access the file from one of the above locations.\n",
    "\n",
    "Note that unlike other DRS servers the SRA DRS server uses arbitrary user_ids (consistent with spec) so our SRA DRS client function to obtain a URL takes the region we want to use rather than the access_id.\n"
   ]
  },
  {
   "cell_type": "code",
   "execution_count": 73,
   "metadata": {},
   "outputs": [],
   "source": [
    "def getAccessForRegion(drs_response, region):\n",
    "    access_methods = drs_response['access_methods']\n",
    "    access_method = [am for am in access_methods if ('region' in am and am['region'] == region)]\n",
    "    if len(access_method) == 0:\n",
    "        print ('object not in region {}'.format(region))\n",
    "        return None\n",
    "    return access_method[0]['access_id']"
   ]
  },
  {
   "cell_type": "code",
   "execution_count": 74,
   "metadata": {},
   "outputs": [
    {
     "data": {
      "text/plain": [
       "'aed1336035380817df6565a2e1ed72cad908160aea401422a22faef6f99df92e'"
      ]
     },
     "execution_count": 74,
     "metadata": {},
     "output_type": "execute_result"
    }
   ],
   "source": [
    "access_id = getAccessForRegion(objInfo, 'gs.US')\n",
    "access_id"
   ]
  },
  {
   "cell_type": "code",
   "execution_count": 76,
   "metadata": {},
   "outputs": [
    {
     "name": "stdout",
     "output_type": "stream",
     "text": [
      "access_id:aed1336035380817df6565a2e1ed72cad908160aea401422a22faef6f99df92e\n",
      "https://locate.be-md.ncbi.nlm.nih.gov/ga4gh/drs/v1/objects/59eb87314f05d99a4ef8cd250353d151/access/aed1336035380817df6565a2e1ed72cad908160aea401422a22faef6f99df92e\n",
      "<Response [200]>\n",
      "Access url: https://storage.googleapis.com/genomics-public-data/ftp-trace.ncbi.nih.gov/1000genomes/ftp/phase3/data/NA19077/exome_alignment/NA19077.mapped.ILLUMINA.bwa.JPT.exome.20120522.bam\n"
     ]
    }
   ],
   "source": [
    "print('access_id:{}'.format(access_id))\n",
    "#url = drsClient.getAccessURL(test_id, access_id=access_id)\n",
    "url = drsClient.getAccessURL(test_id, access_id)\n",
    "print('Access url: {}'.format(url))"
   ]
  },
  {
   "cell_type": "markdown",
   "metadata": {},
   "source": [
    "## The SRA Identity Exchange and DRS services\n",
    "Can we take an SRA accession number from above and see what it looks like through the SRA IDentity eXchange service (IDX), and how that works through in DRS. We'll start with a run accession an SRR?\n",
    "\n",
    "The SRADRSClient has an additional function to access the IDX service with a SRA accession number "
   ]
  },
  {
   "cell_type": "code",
   "execution_count": 7,
   "metadata": {},
   "outputs": [
    {
     "name": "stdout",
     "output_type": "stream",
     "text": [
      "{\n",
      "   \"drs-base\": \"drs://locate.be-md.ncbi.nlm.nih.gov\",\n",
      "   \"response\": {\n",
      "      \"SRR1601121\": {\n",
      "         \"drs\": \"9466d7c1ec8fde019ce630c9bd88582e\",\n",
      "         \"status_code\": 200\n",
      "      }\n",
      "   }\n",
      "}\n",
      "9466d7c1ec8fde019ce630c9bd88582e\n"
     ]
    }
   ],
   "source": [
    "import json\n",
    "from fasp.loc import SRADRSClient\n",
    "drsClient = SRADRSClient('https://locate.be-md.ncbi.nlm.nih.gov', debug=True, public=True)\n",
    "\n",
    "accession = 'SRR1601121'\n",
    "idx = drsClient.acc2drs(accession)\n",
    "print(json.dumps(idx, indent=3))\n",
    "drsId = idx['response'][accession]['drs']\n",
    "print (drsId)\n"
   ]
  },
  {
   "cell_type": "markdown",
   "metadata": {},
   "source": [
    "<del>Note: the base URI returned in the result above suggests the DRS service could be accessed at the URL https://locate.ncbi.nlm.nih.gov . At present, for performance purposes the SRA DRS service should be accessed at https://locate.be-md.ncbi.nlm.nih.gov. See the example above</del>\n",
    "\n",
    "Now use the DRS service with that id."
   ]
  },
  {
   "cell_type": "code",
   "execution_count": 8,
   "metadata": {},
   "outputs": [
    {
     "name": "stdout",
     "output_type": "stream",
     "text": [
      "https://locate.be-md.ncbi.nlm.nih.gov/ga4gh/drs/v1/objects/9466d7c1ec8fde019ce630c9bd88582e\n"
     ]
    },
    {
     "data": {
      "text/plain": [
       "{'checksums': [{'checksum': '9466d7c1ec8fde019ce630c9bd88582e',\n",
       "   'type': 'md5'}],\n",
       " 'contents': [{'id': '519de9933298caa8bdf551351426d120',\n",
       "   'name': 'NA18948.unmapped.ILLUMINA.bwa.JPT.exome.20121211.bam'},\n",
       "  {'id': 'a027e7c2a917cba582a9684244ad339d',\n",
       "   'name': 'NA18948.mapped.ILLUMINA.bwa.JPT.exome.20121211.bam.bai'},\n",
       "  {'id': 'fb1cfb04d3ef99d07c21f9dbf87ccc68',\n",
       "   'name': 'NA18948.mapped.ILLUMINA.bwa.JPT.exome.20121211.bam'}],\n",
       " 'created_time': '2013-02-25T23:24:10Z',\n",
       " 'id': '9466d7c1ec8fde019ce630c9bd88582e',\n",
       " 'name': 'SRR1601121',\n",
       " 'self_url': 'drs://locate.be-md.ncbi.nlm.nih.gov/9466d7c1ec8fde019ce630c9bd88582e',\n",
       " 'size': 8763581919}"
      ]
     },
     "execution_count": 8,
     "metadata": {},
     "output_type": "execute_result"
    }
   ],
   "source": [
    "drsClient.getObject(drsId)"
   ]
  },
  {
   "cell_type": "markdown",
   "metadata": {},
   "source": [
    "Our intent as in the first approach is to work with the mapped bam file. We can see visually, from the filename, which file which DRS id we need.\n",
    "#### An issue\n",
    "This highlights the first issue with this approach. The information we need to identify the file we need is in the file name. That would be fine for low throughput situations carried out by human eye. It does not scale to machine actionable larger use cases.\n",
    "\n",
    "#### Moving on\n",
    "We use the manually identified id via DRS to identify how we may get the file of interest. This is identical to how we did this under the first approach."
   ]
  },
  {
   "cell_type": "code",
   "execution_count": 83,
   "metadata": {
    "scrolled": true
   },
   "outputs": [
    {
     "name": "stdout",
     "output_type": "stream",
     "text": [
      "https://locate.be-md.ncbi.nlm.nih.gov/ga4gh/drs/v1/objects/fb1cfb04d3ef99d07c21f9dbf87ccc68\n"
     ]
    },
    {
     "data": {
      "text/plain": [
       "{'access_methods': [{'access_id': '1e4846c05c81a49f684e7f940ffbd3a98e5f0e335f019ee4d32d85c72096b743',\n",
       "   'region': 'gs.US',\n",
       "   'type': 'https'},\n",
       "  {'access_id': 'b14572d74b5aafe87a0fcc873050d6c3993f27338cdd088b5883aed4b118f0c8',\n",
       "   'type': 'https'},\n",
       "  {'access_id': '0623f9350999297e5fa3a77a05c08b8cf1fbd10ef4e392c0d52dde9a4e469a85',\n",
       "   'region': 's3.us-east-1',\n",
       "   'type': 'https'}],\n",
       " 'checksums': [{'checksum': 'fb1cfb04d3ef99d07c21f9dbf87ccc68',\n",
       "   'type': 'md5'}],\n",
       " 'created_time': '2013-02-25T23:24:10Z',\n",
       " 'id': 'fb1cfb04d3ef99d07c21f9dbf87ccc68',\n",
       " 'name': 'NA18948.mapped.ILLUMINA.bwa.JPT.exome.20121211.bam',\n",
       " 'self_url': 'drs://locate.be-md.ncbi.nlm.nih.gov/fb1cfb04d3ef99d07c21f9dbf87ccc68',\n",
       " 'size': 8752606127}"
      ]
     },
     "execution_count": 83,
     "metadata": {},
     "output_type": "execute_result"
    }
   ],
   "source": [
    "drsClient.getObject('fb1cfb04d3ef99d07c21f9dbf87ccc68')"
   ]
  },
  {
   "cell_type": "code",
   "execution_count": null,
   "metadata": {},
   "outputs": [],
   "source": []
  }
 ],
 "metadata": {
  "kernelspec": {
   "display_name": "Python 3 (ipykernel)",
   "language": "python",
   "name": "python3"
  },
  "language_info": {
   "codemirror_mode": {
    "name": "ipython",
    "version": 3
   },
   "file_extension": ".py",
   "mimetype": "text/x-python",
   "name": "python",
   "nbconvert_exporter": "python",
   "pygments_lexer": "ipython3",
   "version": "3.9.7"
  }
 },
 "nbformat": 4,
 "nbformat_minor": 4
}
