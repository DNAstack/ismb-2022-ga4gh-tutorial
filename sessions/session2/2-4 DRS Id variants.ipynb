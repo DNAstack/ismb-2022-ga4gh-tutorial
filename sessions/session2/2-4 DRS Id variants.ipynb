{
 "cells": [
  {
   "cell_type": "markdown",
   "id": "16c0f2b8",
   "metadata": {},
   "source": [
    "### Passing DRS ids to the right DRS server\n",
    "\n",
    "This notebook covers two related topics about DRS\n",
    "* Sending DRS requests to the right server \n",
    "* Two different kinds of DRS URI\n",
    "\n",
    "The fasp-clients package installed for this tutorial contains a class to handle both these aspects of DRS.\n",
    "\n",
    "Any regular DRS server only responds to the local ids known to it. Notebook 2-1 explored that basic DRS capability. We saw that the NCBI DRS server could return information about the following DRS id.\n",
    "* fb1cfb04d3ef99d07c21f9dbf87ccc68\n",
    "\n",
    "In another case, the BioDataCatalyst DRS server knows about and can resolve the following local id\n",
    "* e747c529-a6ee-415f-90b8-e2db631f8ed9\n",
    "\n",
    "To make these local ids globally unique and usable they need to be expressed as DRS URIs.\n",
    "\n",
    "### Compact DRS URIs\n",
    "\n",
    "Compact URIs use a short prefix which is associated with a specific DRS server. For example, the prefix dg.4503 was registered for BioDataCatalyst. This allows the id to be referred to globally as \n",
    "* dg.4503:e747c529-a6ee-415f-90b8-e2db631f8ed9\n",
    "\n",
    "The form of DRS id above is known as a compact DRS URI.\n",
    "\n",
    "#### General metaresolvers\n",
    "* http://identifiers.org/dg.4503:e747c529-a6ee-415f-90b8-e2db631f8ed9\n",
    "* http://bioregistry.io/dg.4503:e747c529-a6ee-415f-90b8-e2db631f8ed9\n",
    "\n",
    "These general metaresolvers are capable of sending many types of identifiers\n",
    "\n",
    "* icdc:000009\n",
    "* ncit:C15492\n",
    "* dbgap:phs000200.v11.p3\n",
    "\n",
    "### Host based DRS URIs - the second form of DRS URIs\n",
    "\n",
    "Not all data providers use compact identifiers by registering a prefix as shown above.\n",
    "\n",
    "The alternative is a host based DRS URI . For example, the globally unique URI for the NCBI DRS is above is:\n",
    "* drs://locate.be-md.ncbi.nlm.nih.gov/fb1cfb04d3ef99d07c21f9dbf87ccc68\n",
    "\n",
    "Note that the URI is not a URL that can be used in a script or a browser to get a response. We still need to use a tool that knows how to work with the drs protocol or \"scheme\".\n",
    "\n",
    "One benefit of compact ids is that if NCBI were to change the location of its host from be-md (Bethesda, Maryland) the compact ids would remain valid.\n",
    "\n",
    "\n",
    "### A metaresolver for DRS\n",
    "We need a tool that knows about different DRS servers and how to pass our request to the right one.\n",
    "\n",
    "The DRSMetaResolver in fasp-clients will:\n",
    "* Resolve compact ids\n",
    "* Resolve host based DRS ids\n",
    "* Send DRS calls to the correct server\n",
    "* Handle id's prefixed with drs:// or not\n",
    "\n",
    " \n",
    "The DRSMetaresolver appears like a DRS Client. It supports the two basic DRS functions\n",
    "* get_object\n",
    "* get_access_url\n",
    "\n",
    " 🖐 Run the following examples and review how each kind of DRS id is handled\n",
    "\n",
    "\n",
    "#### Step 1: As in previous examples create a client\n",
    "This time our client is a metaresolver"
   ]
  },
  {
   "cell_type": "code",
   "execution_count": null,
   "id": "7dab844c",
   "metadata": {},
   "outputs": [],
   "source": [
    "from fasp.loc import DRSMetaResolver\n",
    "drs_mr = DRSMetaResolver(debug=False)"
   ]
  },
  {
   "cell_type": "markdown",
   "id": "2b3150a8",
   "metadata": {},
   "source": [
    "#### Step 2: Resolve a compact DRS id\n"
   ]
  },
  {
   "cell_type": "code",
   "execution_count": null,
   "id": "d450406d",
   "metadata": {},
   "outputs": [],
   "source": [
    "drs_mr.get_object('dg.4503:e747c529-a6ee-415f-90b8-e2db631f8ed9')"
   ]
  },
  {
   "cell_type": "markdown",
   "id": "678586cd",
   "metadata": {},
   "source": [
    "#### Step 3: Work with a list of ids from different DRS servers\n",
    "We may find ourselves working with a list of DRS ids from different sources. "
   ]
  },
  {
   "cell_type": "code",
   "execution_count": null,
   "id": "6388bdfc",
   "metadata": {},
   "outputs": [],
   "source": [
    "prefixedIDs = [\n",
    "            'dg.4503:66eeec21-aad0-4a77-8de5-621f05e2d301',\n",
    "            'dg.4DFC:0e3c5237-6933-4d30-83f8-6ab721096bc7',\n",
    "            'dg.ANV0:895c5a81-b985-4559-bc8e-cecece550756',\n",
    "            #'dg.F82A1A:e6eecb29-1ae4-4f65-ae83-9ecf1c496de1',\n",
    "            #'dg.MD1R:f55b8fed-a938-4cd7-8f39-5ee3cb75c218',\n",
    "]"
   ]
  },
  {
   "cell_type": "markdown",
   "id": "ba258a0d",
   "metadata": {},
   "source": [
    "#### Step 3: Define a function to use the Metaresolver to send the DRS URI to the right server\n",
    "We're going to work with a number of lists like this so we'll define a python function to send a list of ids to the DRSMetaResolver we set up above.\n",
    "\n",
    " 🖐 Click on the following cell to define the function."
   ]
  },
  {
   "cell_type": "code",
   "execution_count": null,
   "id": "ad460d97",
   "metadata": {},
   "outputs": [],
   "source": [
    "def check_list(id_list):\n",
    "    for drs_id in id_list:\n",
    "        print(f\"DRS URI {drs_id}\")\n",
    "        drs_response = drs_mr.get_object(drs_id)\n",
    "        num_of_methods = len(drs_response['access_methods'])\n",
    "        print(f\"Full response\\n{drs_response}\")\n",
    "        print(f\"has {num_of_methods} access_methods\")\n",
    "        print('_'*80)"
   ]
  },
  {
   "cell_type": "markdown",
   "id": "4994363d",
   "metadata": {},
   "source": [
    "#### Step 4: Run our function on the list above\n",
    "This resolves our list of compact DRS ids from different servers."
   ]
  },
  {
   "cell_type": "code",
   "execution_count": null,
   "id": "9d22c7d1",
   "metadata": {},
   "outputs": [],
   "source": [
    "check_list(prefixedIDs)"
   ]
  },
  {
   "cell_type": "markdown",
   "id": "94c42270",
   "metadata": {},
   "source": [
    "#### Step 5: Resolve host based ids\n",
    "\n",
    "DRSMetaResolver will also make the call to the right DRS server for host based DS ids."
   ]
  },
  {
   "cell_type": "code",
   "execution_count": null,
   "id": "deb170f5",
   "metadata": {},
   "outputs": [],
   "source": [
    "host_based_IDs = [\n",
    "    'drs://locate.be-md.ncbi.nlm.nih.gov/81b75c18e5def027579f9441f987b8a8'\n",
    "]\n",
    "check_list(host_based_IDs)"
   ]
  },
  {
   "cell_type": "markdown",
   "id": "bf7e00c9",
   "metadata": {},
   "source": [
    "#### Step 6: Mixed list\n",
    "* The following shows that lists of mixed host based and CURIEs can be handled\n",
    "* The DRS Metaresolver can handle DRS ids with or without the drs:// (scheme) on the front"
   ]
  },
  {
   "cell_type": "code",
   "execution_count": null,
   "id": "4b6e671d",
   "metadata": {},
   "outputs": [],
   "source": [
    "mixedIDs = [\n",
    "            \n",
    "    # Curie with scheme\n",
    "    'drs://dg.4503:66eeec21-aad0-4a77-8de5-621f05e2d301',\n",
    "    # Curie no scheme\n",
    "    'dg.4DFC:0e3c5237-6933-4d30-83f8-6ab721096bc7',\n",
    "    # Host based with scheme\n",
    "    'drs://dg.ANV0:895c5a81-b985-4559-bc8e-cecece550756',\n",
    "    # Host based no scheme\n",
    "    'locate.be-md.ncbi.nlm.nih.gov/81b75c18e5def027579f9441f987b8a8'\n",
    "]\n",
    "\n",
    "check_list(mixedIDs)"
   ]
  },
  {
   "cell_type": "markdown",
   "id": "9e25305f",
   "metadata": {},
   "source": [
    "#### Step 7: Using a time saver so we can focus on what matters to us\n",
    "As the function we wrote above is likely to be generally useful a version of it was added to DRSMetaResolver. We can call it as\n",
    "\n",
    "`drs_mr.get_objects(drs_uri_list)`\n",
    "\n",
    "🖐 Use your python knowledge to try out a couple of things\n",
    "* Edit the call to get_objects to use the other lists we created above\n",
    "* Access and print various parts of the DRS responses that will be useful to what you want to do"
   ]
  },
  {
   "cell_type": "code",
   "execution_count": null,
   "id": "1e402e29",
   "metadata": {},
   "outputs": [],
   "source": [
    "responses = drs_mr.get_objects(prefixedIDs)\n",
    "for drs_response in responses:\n",
    "        num_of_methods = len(drs_response['access_methods'])\n",
    "        print(f\"has {num_of_methods} access_methods\")\n",
    "        print('_'*80)"
   ]
  },
  {
   "cell_type": "markdown",
   "id": "5ec1916e",
   "metadata": {},
   "source": [
    "#### Step 8: More experimentation - if you like to learn that way\n",
    "\n",
    "The real goal of DRS is to get a URL which can be used to access a file in a cloud (or local) system.\n",
    "\n",
    "\n",
    "\n",
    "🖐 WUsing the function and code shown below, what can you learn about how to do that \n",
    "* How might you use it?\n",
    "* How will access control affect what you want to do?\n",
    "* Have you updated the access tokens for the DRS servers you want to access?\n",
    "* You may have to adapt the examples below for data to which you have access\n",
    "\n",
    "Take care with examples like the following. If you print URLs to controlled access data you would be sharing protected information. Take special care that you don't publish such data e.g. to GitHub if you share your notebooks there. In general the URLs are only valid for a short time. Even so, hackers could still get insights, like the names of secure storage locations in the cloud. "
   ]
  },
  {
   "cell_type": "code",
   "execution_count": null,
   "id": "9795cb57",
   "metadata": {},
   "outputs": [],
   "source": [
    "import json\n",
    "\n",
    "access_list = [[\"dg.4503:66eeec21-aad0-4a77-8de5-621f05e2d301\",\"gs\"],\n",
    "              [\"dg.4503:66eeec21-aad0-4a77-8de5-621f05e2d301\",\"s3\"]]\n",
    "\n",
    "urls = drs_mr.get_access_urls(access_list)"
   ]
  },
  {
   "cell_type": "code",
   "execution_count": null,
   "id": "87ff2be1",
   "metadata": {},
   "outputs": [],
   "source": []
  }
 ],
 "metadata": {
  "kernelspec": {
   "display_name": "Python 3 (ipykernel)",
   "language": "python",
   "name": "python3"
  },
  "language_info": {
   "codemirror_mode": {
    "name": "ipython",
    "version": 3
   },
   "file_extension": ".py",
   "mimetype": "text/x-python",
   "name": "python",
   "nbconvert_exporter": "python",
   "pygments_lexer": "ipython3",
   "version": "3.9.7"
  }
 },
 "nbformat": 4,
 "nbformat_minor": 5
}
