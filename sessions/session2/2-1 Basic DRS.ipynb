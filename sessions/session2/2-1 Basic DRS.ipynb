{
 "cells": [
  {
   "cell_type": "markdown",
   "id": "07a94667",
   "metadata": {},
   "source": [
    " ### Basic DRS\n",
    " \n",
    "#### Learning Objectives\n",
    "Workshop attendees will learn how use the GA4GH Data Repository Service (DRS).  \n",
    "\n",
    "What will participants do as part of the exercise?\n",
    "\n",
    " - Understanding the two main DRS methods\n",
    " - Find where a file is available\n",
    " - Use a Python client to access DRS and return results\n",
    " \n",
    " \n",
    "     \n",
    " \n",
    " #### Icons in this Guide\n",
    "\n",
    " 🖐 A hands-on section where you will code something or interact with the server\n",
    " \n",
    " #### Step 1: Run a cell in a Jupyter notebook\n",
    " To run a cell in a Jupyter notebook\n",
    " - Click to the left of the cell\n",
    " - Click the Run icon in the toolbar below the menu bar.\n",
    " \n",
    " 🖐 Try it out with the following cell"
   ]
  },
  {
   "cell_type": "code",
   "execution_count": null,
   "id": "f15c5ba8",
   "metadata": {},
   "outputs": [],
   "source": [
    "host_url = 'https://locate.be-md.ncbi.nlm.nih.gov'\n",
    "drs_id = 'fb1cfb04d3ef99d07c21f9dbf87ccc68'\n",
    "\n",
    "full_url = host_url + '/ga4gh/drs/v1/objects/' + drs_id\n",
    "print(full_url)"
   ]
  },
  {
   "cell_type": "markdown",
   "id": "c0d9f664",
   "metadata": {},
   "source": [
    "The result of the cell is printed out below the cell.\n",
    "\n",
    "The python code above built a URL to access a API function which will provide information about where a file is available.\n",
    "\n",
    " #### Step 2: Call the API using the link above\n",
    " 🖐 Open the link above a new web browser window.\n",
    "\n",
    "See that a response is produced, but that it is not a detailed web page. It is a response which is intended to be read by a computer program.\n",
    "\n",
    "We will look at the response more closely below.\n",
    "\n",
    "Close the browser window or tab you opened to view the URL."
   ]
  },
  {
   "cell_type": "markdown",
   "id": "486fb93a",
   "metadata": {},
   "source": [
    " #### Step 3: Call the API from Python\n",
    "\n",
    "The url we built is stored in the variable called full_url.\n",
    "\n",
    "In the next cell we can use the Python requests module to make the request to the DRS server.\n",
    "\n",
    " 🖐 Click the cell and run it to obtain the response"
   ]
  },
  {
   "cell_type": "code",
   "execution_count": null,
   "id": "1e94c335",
   "metadata": {},
   "outputs": [],
   "source": [
    "# First to make requests to a web server the requests module is imported \n",
    "import requests\n",
    "\n",
    "response = requests.get(full_url)\n",
    "print(response.json())"
   ]
  },
  {
   "cell_type": "markdown",
   "id": "661fabd7",
   "metadata": {},
   "source": [
    "That's still not very readable. We can define a function to print the response in a more readable form.\n",
    "\n",
    "#### Step 4: Understanding the DRS response\n",
    "\n",
    "🖐 Click and run the next two cells in turn."
   ]
  },
  {
   "cell_type": "code",
   "execution_count": null,
   "id": "36b8ec53",
   "metadata": {},
   "outputs": [],
   "source": [
    "import json\n",
    "def pretty_print(a_dict):\n",
    "    print(json.dumps(a_dict, indent=3))"
   ]
  },
  {
   "cell_type": "code",
   "execution_count": null,
   "id": "ebeacd79",
   "metadata": {},
   "outputs": [],
   "source": [
    "pretty_print(response.json())"
   ]
  },
  {
   "cell_type": "markdown",
   "id": "1a9bc080",
   "metadata": {},
   "source": [
    "The most relevant section of the response is the access_methods.\n",
    "\n",
    "In this example the response from DRS shows there are three ways the file could be accessed.\n",
    "The 'region' tells us that the files are available in the US region of Google Cloud Storage (gs.us) and in Amazon S3 storage in the us-east-1 region (s3.us-east-1).\n",
    "\n",
    "We'll pass on the second of the three access methods for now."
   ]
  },
  {
   "cell_type": "markdown",
   "id": "23671d6b",
   "metadata": {},
   "source": [
    "#### Step 5: Making the second DRS call - getting a URL to access the file\n",
    "\n",
    "Let's say we have credits available to compute on one of the clouds available. We would pick the access_id from above and use a second DRS API call to obtain a URl to access the file.\n",
    "\n",
    "Note that we say access and not download. Because the bam file is large, and we may want to work with many such files, we may want to run analysis on the file where it is. We will come back to this later.\n",
    "\n",
    "For now we'll just get the URL.\n",
    "\n",
    "🖐 As before click on the cell to get the URL"
   ]
  },
  {
   "cell_type": "code",
   "execution_count": null,
   "id": "28ac9b75",
   "metadata": {},
   "outputs": [],
   "source": [
    "access_id = \"1e4846c05c81a49f684e7f940ffbd3a98e5f0e335f019ee4d32d85c72096b743\"\n",
    "full_url = '{}/ga4gh/drs/v1/objects/{}/access/{}'.format(host_url, drs_id, access_id)\n",
    "\n",
    "print(full_url)"
   ]
  },
  {
   "cell_type": "markdown",
   "id": "da372bd2",
   "metadata": {},
   "source": [
    "As in the previous example the step above simply demonstrated how the URL to access the API is created. In this case it is created for a specific file and access method.\n",
    "\n",
    "🖐 Click on the cell below to send the request and print the response"
   ]
  },
  {
   "cell_type": "code",
   "execution_count": null,
   "id": "58a64f00",
   "metadata": {},
   "outputs": [],
   "source": [
    "url_response = requests.get(full_url)\n",
    "print(url_response.json())"
   ]
  },
  {
   "cell_type": "markdown",
   "id": "f18c3630",
   "metadata": {},
   "source": [
    "Noting the size of the bam file we saw in the first API call we won't actually download it.\n",
    "\n",
    "\n",
    "🖐 Using what you learnt above, and some python skills, add code to the example below to retrieve the urls for each access method. The loop to do this for each access method is already there. Just add the code to call the API to retrieve a URL."
   ]
  },
  {
   "cell_type": "code",
   "execution_count": null,
   "id": "cc681af1",
   "metadata": {
    "scrolled": true
   },
   "outputs": [],
   "source": [
    "drs_response = response.json()\n",
    "for access_method in drs_response['access_methods']:\n",
    "    print (access_method['access_id'])\n",
    "    # Add code here to make the DRS call to retrieve the URL for each access_id\n"
   ]
  },
  {
   "cell_type": "markdown",
   "id": "3cb0a309",
   "metadata": {},
   "source": [
    "#### Step 6: Optional - stretch goal - for python experts\n",
    "\n",
    "🖐 Imagine you have a preference for working in a particular cloud provider and region. Complete the following function to use DRS to obtain the URL for the file in a specific region"
   ]
  },
  {
   "cell_type": "code",
   "execution_count": null,
   "id": "f531c31c",
   "metadata": {},
   "outputs": [],
   "source": [
    "def get_url_for_region(drs_id, region):\n",
    "    full_url = '{}/ga4gh/drs/v1/objects/{}'.format(host_url, drs_id)\n",
    "    r = requests.get(full_url)\n",
    "    drs_response = r.json()\n",
    "    # add code here - find the access_id for the region\n",
    "    # Watch out that not all access_methods have region\n",
    "    # make the DRS call to get the url\n"
   ]
  },
  {
   "cell_type": "markdown",
   "id": "6604f69d",
   "metadata": {},
   "source": [
    "#### 🖐  Test it"
   ]
  },
  {
   "cell_type": "code",
   "execution_count": null,
   "id": "b95db0c3",
   "metadata": {},
   "outputs": [],
   "source": [
    "get_url_for_region(drs_id, 'gs.US')"
   ]
  },
  {
   "cell_type": "code",
   "execution_count": null,
   "id": "6e6c6331",
   "metadata": {
    "scrolled": true
   },
   "outputs": [],
   "source": [
    "get_url_for_region(drs_id, 's3.us-east-1')"
   ]
  },
  {
   "cell_type": "code",
   "execution_count": null,
   "id": "629da826",
   "metadata": {},
   "outputs": [],
   "source": [
    "get_url_for_region(drs_id, 's3.us-west-1')"
   ]
  },
  {
   "cell_type": "markdown",
   "id": "74cf2e00",
   "metadata": {},
   "source": [
    "#### Step 7: Using a DRS Python Client\n",
    "The above showed how individual calls to DRS can be made. As we are likely to do this repetitively we created a set of functions that could be used to call DRS so we can focus on more interesting aspects of the task.\n",
    "\n",
    "We can still make use of the variables like host_id and drs_id previously, but now we will pass them to our client.\n",
    "\n",
    "🖐 Click on the following to make the first DRS request"
   ]
  },
  {
   "cell_type": "code",
   "execution_count": null,
   "id": "61a9bf99",
   "metadata": {},
   "outputs": [],
   "source": [
    "from fasp.loc import DRSClient\n",
    "cl = DRSClient(host_url, public=True)\n",
    "cl.get_object(drs_id)"
   ]
  },
  {
   "cell_type": "markdown",
   "id": "b350a88c",
   "metadata": {},
   "source": [
    "🖐 and again to get the access URL"
   ]
  },
  {
   "cell_type": "code",
   "execution_count": null,
   "id": "a5de4504",
   "metadata": {},
   "outputs": [],
   "source": [
    "cl.get_access_url(drs_id, 'b14572d74b5aafe87a0fcc873050d6c3993f27338cdd088b5883aed4b118f0c8')"
   ]
  },
  {
   "cell_type": "markdown",
   "id": "f131a21f",
   "metadata": {},
   "source": [
    "Our client also includes the function to retrieve the URL to access the file in a specified region. This is the function that we set as a task above.\n",
    "\n",
    "🖐 Click to test it"
   ]
  },
  {
   "cell_type": "code",
   "execution_count": null,
   "id": "a42e9dd2",
   "metadata": {
    "scrolled": true
   },
   "outputs": [],
   "source": [
    "cl.get_url_for_region(drs_id, 's3.us-east-1')"
   ]
  },
  {
   "cell_type": "markdown",
   "id": "46b0522c",
   "metadata": {},
   "source": [
    "#### Return to Session 2 notebooks\n",
    "Close the tab for this workbook and return to the Jupyter window for the Session 2 notebooks"
   ]
  }
 ],
 "metadata": {
  "kernelspec": {
   "display_name": "Python 3 (ipykernel)",
   "language": "python",
   "name": "python3"
  },
  "language_info": {
   "codemirror_mode": {
    "name": "ipython",
    "version": 3
   },
   "file_extension": ".py",
   "mimetype": "text/x-python",
   "name": "python",
   "nbconvert_exporter": "python",
   "pygments_lexer": "ipython3",
   "version": "3.9.7"
  }
 },
 "nbformat": 4,
 "nbformat_minor": 5
}
