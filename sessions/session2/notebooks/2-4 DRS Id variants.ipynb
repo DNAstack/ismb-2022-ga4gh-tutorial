{
 "cells": [
  {
   "cell_type": "markdown",
   "id": "16c0f2b8",
   "metadata": {},
   "source": [
    "#### Using the DRSMetaReolver Client\n",
    "\n",
    "The MetaResolver will:\n",
    "* Resolve compact ids\n",
    "* Resolve host based DRS ids\n",
    "* Send DRS calls to the correct server\n",
    "* Handle id's prefixed ith drs:// or not\n",
    "\n",
    " 🖐 Run the following examples and review how each kind of DRS id is handled\n",
    " \n",
    " "
   ]
  },
  {
   "cell_type": "code",
   "execution_count": null,
   "id": "7dab844c",
   "metadata": {},
   "outputs": [],
   "source": [
    "from fasp.loc import DRSMetaResolver\n",
    "\n",
    "drs_client = DRSMetaResolver(debug=False)"
   ]
  },
  {
   "cell_type": "code",
   "execution_count": null,
   "id": "d450406d",
   "metadata": {},
   "outputs": [],
   "source": [
    "drs_client.get_object('bdc:66eeec21-aad0-4a77-8de5-621f05e2d301')"
   ]
  },
  {
   "cell_type": "code",
   "execution_count": null,
   "id": "30625d9e",
   "metadata": {},
   "outputs": [],
   "source": [
    "### The following is a list o"
   ]
  },
  {
   "cell_type": "code",
   "execution_count": null,
   "id": "9d22c7d1",
   "metadata": {},
   "outputs": [],
   "source": [
    "mixedIDs = [\n",
    "            'dg.4503:66eeec21-aad0-4a77-8de5-621f05e2d301',\n",
    "            'dg.4DFC:0e3c5237-6933-4d30-83f8-6ab721096bc7',\n",
    "            'dg.ANV0:895c5a81-b985-4559-bc8e-cecece550756'\n",
    "]"
   ]
  },
  {
   "cell_type": "markdown",
   "id": "72cf5c9a",
   "metadata": {},
   "source": [
    " 🖐 In the following function you may edit what is printed in the response"
   ]
  },
  {
   "cell_type": "code",
   "execution_count": null,
   "id": "ad460d97",
   "metadata": {},
   "outputs": [],
   "source": [
    "def check_list(id_list):\n",
    "    for drs_id in id_list:\n",
    "        print(f\"DRS URI {drs_id}\")\n",
    "        drs_response = drs_client.get_object(drs_id)\n",
    "        num_of_methods = len(drs_response['access_methods'])\n",
    "        #print(f\"Full response\\n{drs_response}\")\n",
    "        print(f\"has {num_of_methods} access_methods\")\n",
    "        print('_'*80)"
   ]
  },
  {
   "cell_type": "code",
   "execution_count": null,
   "id": "5bafc40e",
   "metadata": {},
   "outputs": [],
   "source": [
    "check_list(mixedIDs)"
   ]
  },
  {
   "cell_type": "code",
   "execution_count": null,
   "id": "4b6e671d",
   "metadata": {},
   "outputs": [],
   "source": [
    "trickyIDs = [\n",
    "            'drs://dg.4503:66eeec21-aad0-4a77-8de5-621f05e2d301',\n",
    "            'dg.4DFC:0e3c5237-6933-4d30-83f8-6ab721096bc7',\n",
    "            'dg.ANV0:895c5a81-b985-4559-bc8e-cecece550756'\n",
    "]\n",
    "\n",
    "check_list(trickyIDs)"
   ]
  },
  {
   "cell_type": "code",
   "execution_count": null,
   "id": "deb170f5",
   "metadata": {},
   "outputs": [],
   "source": [
    "host_based_IDs = [\n",
    "    'gen3.biodatacatalyst.nhlbi.nih.gov/66eeec21-aad0-4a77-8de5-621f05e2d301',\n",
    "    'nci-crdc.datacommons.io/0e3c5237-6933-4d30-83f8-6ab721096bc7',\n",
    "    'drs://nci-crdc.datacommons.io/0e3c5237-6933-4d30-83f8-6ab721096bc7',\n",
    "    'drs://gen3.theanvil.io/895c5a81-b985-4559-bc8e-cecece550756',\n",
    "    'gen3.theanvil.io/895c5a81-b985-4559-bc8e-cecece550756',\n",
    "    'sradrs:81b75c18e5def027579f9441f987b8a8'\n",
    "]\n",
    "\n",
    "check_list(host_based_IDs)\n",
    "\n"
   ]
  },
  {
   "cell_type": "code",
   "execution_count": null,
   "id": "b018728a",
   "metadata": {},
   "outputs": [],
   "source": []
  }
 ],
 "metadata": {
  "kernelspec": {
   "display_name": "Python 3 (ipykernel)",
   "language": "python",
   "name": "python3"
  },
  "language_info": {
   "codemirror_mode": {
    "name": "ipython",
    "version": 3
   },
   "file_extension": ".py",
   "mimetype": "text/x-python",
   "name": "python",
   "nbconvert_exporter": "python",
   "pygments_lexer": "ipython3",
   "version": "3.9.7"
  }
 },
 "nbformat": 4,
 "nbformat_minor": 5
}
