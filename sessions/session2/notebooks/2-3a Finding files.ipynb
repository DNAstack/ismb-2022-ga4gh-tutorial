{
 "cells": [
  {
   "cell_type": "markdown",
   "metadata": {},
   "source": [
    "### Finding files and data using Data Connect\n",
    "\n",
    "#### Learning Objectives\n",
    "Workshop attendees will learn how use the GA4GH Data Connect Service.  \n",
    "\n",
    "What will participants do as part of the exercise?\n",
    "\n",
    " - Understanding how to query data via Data Connect\n",
    " - Use Data Connect to find files that can be accessed via DRS\n",
    " - Learn how to obtain and use data descriptions (schema)\n",
    " - Discover the meaning of codes used in data\n",
    " \n",
    "\n",
    " #### Icons in this Guide\n",
    "\n",
    " 🖐 A hands-on section where you will code something or interact with the server\n",
    " \n",
    "### Query files\n",
    "The approach taken below is using mapping available through subject and specimen data available through the Data Connect API. \n",
    "\n",
    "Queries are submitted as SQL queries to one or more tables on the Data Connect server.\n",
    "\n",
    "As with other examples, first we set up a client to use the API. The server at DNAStack is used in the following examples.\n",
    "\n",
    "#### Step 1: Set up a Data Connect Client and run a predefined query "
   ]
  },
  {
   "cell_type": "code",
   "execution_count": null,
   "metadata": {},
   "outputs": [],
   "source": [
    "from fasp.search import DataConnectClient\n",
    "searchClient = DataConnectClient('https://data-connect-trino-public.prod.dnastack.com/')"
   ]
  },
  {
   "cell_type": "code",
   "execution_count": null,
   "metadata": {},
   "outputs": [],
   "source": [
    "from fasp.search import DataConnectClient\n",
    "\n",
    "query = '''SELECT f.sample_name, drs_id bam_drs_id, acc\n",
    "FROM thousand_genomes.onek_genomes.ssd_drs s \n",
    "join thousand_genomes.onek_genomes.sra_drs_files f on f.sample_name = s.su_submitter_id \n",
    "where filetype = 'bam' and mapped = 'mapped' \n",
    "and sequencing_type ='exome' and  population = 'JPT' '''\n",
    "\n",
    "resultRows = searchClient.run_query(query, returnType='dataframe')\n",
    "resultRows"
   ]
  },
  {
   "cell_type": "markdown",
   "metadata": {},
   "source": [
    "#### Step 2: Run a second query to find bam files from members of a given family"
   ]
  },
  {
   "cell_type": "code",
   "execution_count": null,
   "metadata": {},
   "outputs": [],
   "source": [
    "family_query = '''SELECT f.sample_name, relationship, drs_id bam_drs_id, acc\n",
    "FROM thousand_genomes.onek_genomes.thousand_genomes_meta s \n",
    "join thousand_genomes.onek_genomes.sra_drs_files f on f.sample_name = s.sample \n",
    "where filetype = 'bam' and mapped = 'mapped' \n",
    "and sequencing_type ='exome' and  family_id = '1447' '''\n",
    "\n",
    "family_results = searchClient.run_query(family_query, returnType='dataframe')\n",
    "family_results"
   ]
  },
  {
   "cell_type": "markdown",
   "metadata": {},
   "source": [
    "### List table details\n",
    "\n",
    "\n",
    "#### Step 3:\n",
    "We can list the available tables available in this set as follows"
   ]
  },
  {
   "cell_type": "code",
   "execution_count": null,
   "metadata": {},
   "outputs": [],
   "source": [
    "table_list = searchClient.list_catalog('thousand_genomes')"
   ]
  },
  {
   "cell_type": "markdown",
   "metadata": {},
   "source": [
    "#### Step 4:\n",
    "The specific columns that can be queried in a given table can be listed as follows:"
   ]
  },
  {
   "cell_type": "code",
   "execution_count": null,
   "metadata": {},
   "outputs": [],
   "source": [
    "schema1 = searchClient.list_table_info('thousand_genomes.onek_genomes.thousand_genomes_meta', verbose=True)"
   ]
  },
  {
   "cell_type": "markdown",
   "metadata": {},
   "source": [
    "#### Step 5: List schema for sra_drs_files table\n",
    "The following cells can be run to list the columns for the other tables used in the queries above."
   ]
  },
  {
   "cell_type": "code",
   "execution_count": null,
   "metadata": {
    "scrolled": true
   },
   "outputs": [],
   "source": [
    "schema2 = searchClient.list_table_info('thousand_genomes.onek_genomes.sra_drs_files', verbose=True)"
   ]
  },
  {
   "cell_type": "code",
   "execution_count": null,
   "metadata": {},
   "outputs": [],
   "source": [
    "schema3 = searchClient.list_table_info('thousand_genomes.onek_genomes.ssd_drs', verbose=True)"
   ]
  },
  {
   "cell_type": "markdown",
   "metadata": {},
   "source": [
    "#### Step 6: Search for a different population group \n",
    "Using the information above about the tables we can modify the query to use a different population code"
   ]
  },
  {
   "cell_type": "code",
   "execution_count": null,
   "metadata": {},
   "outputs": [],
   "source": [
    "query = '''SELECT f.sample_name, drs_id bam_drs_id, acc, filename\n",
    "FROM thousand_genomes.onek_genomes.ssd_drs s \n",
    "join thousand_genomes.onek_genomes.sra_drs_files f on f.sample_name = s.su_submitter_id \n",
    "\n",
    "where filetype = 'bam' and mapped = 'mapped' \n",
    "and sequencing_type ='exome' and  population = 'PUR' \n",
    "'''\n",
    "\n",
    "resultRows = searchClient.run_query(query, returnType='dataframe')\n",
    "resultRows"
   ]
  },
  {
   "cell_type": "markdown",
   "metadata": {},
   "source": [
    "The method of calling the Data Connect client above returns a dataframe. This is convenient for many purposes, including listing the results as above. The default return type from the runQuery gives a list of json objects."
   ]
  },
  {
   "cell_type": "code",
   "execution_count": null,
   "metadata": {},
   "outputs": [],
   "source": [
    "results = searchClient.run_query(query, returnType='json')\n",
    "results"
   ]
  },
  {
   "cell_type": "markdown",
   "metadata": {},
   "source": [
    "#### Step 7 - Combine with DRS Server\n",
    "\n",
    "The following shows how the SRA DRS server we used in workbook 2-1 can be used to determine where the files can be obtained from. The following shows this for the first DRS id from the query results."
   ]
  },
  {
   "cell_type": "code",
   "execution_count": null,
   "metadata": {},
   "outputs": [],
   "source": [
    "from fasp.loc import DRSClient\n",
    "\n",
    "drsClient = DRSClient('https://locate.be-md.ncbi.nlm.nih.gov', public=True, debug=True)\n",
    "test_id = results[0]['bam_drs_id']\n",
    "objInfo = drsClient.get_object(test_id)\n",
    "objInfo"
   ]
  },
  {
   "cell_type": "markdown",
   "metadata": {},
   "source": [
    "A second DRS call can be used to obtain a url to access the file from one of the above locations."
   ]
  },
  {
   "cell_type": "code",
   "execution_count": null,
   "metadata": {
    "scrolled": true
   },
   "outputs": [],
   "source": [
    "access_id = objInfo['access_methods'][0]['access_id']\n",
    "print('access_id:{}'.format(access_id))\n",
    "url = drsClient.get_access_url(test_id, access_id=access_id)\n",
    "print('url:{}'.format(url))"
   ]
  }
 ],
 "metadata": {
  "kernelspec": {
   "display_name": "Python 3 (ipykernel)",
   "language": "python",
   "name": "python3"
  },
  "language_info": {
   "codemirror_mode": {
    "name": "ipython",
    "version": 3
   },
   "file_extension": ".py",
   "mimetype": "text/x-python",
   "name": "python",
   "nbconvert_exporter": "python",
   "pygments_lexer": "ipython3",
   "version": "3.9.7"
  }
 },
 "nbformat": 4,
 "nbformat_minor": 4
}
