{
 "cells": [
  {
   "cell_type": "code",
   "execution_count": 1,
   "id": "be736866",
   "metadata": {},
   "outputs": [
    {
     "name": "stdout",
     "output_type": "stream",
     "text": [
      "nci-crdc.datacommons.io\n",
      "nci-crdc.datacommons.io\n",
      "gen3.biodatacatalyst.nhlbi.nih.gov\n",
      "gen3.biodatacatalyst.nhlbi.nih.gov\n",
      "gen3.theanvil.io\n",
      "gen3.theanvil.io\n",
      "cgc-ga4gh-api.sbgenomics.com\n",
      "cavatica-ga4gh-api.sbgenomics.com\n",
      "ga4gh-api.sb.biodatacatalyst.nhlbi.nih.gov\n",
      "locate.be-md.ncbi.nlm.nih.gov\n"
     ]
    }
   ],
   "source": [
    "from fasp.loc import DRSMetaResolver\n",
    "\n",
    "drs_client = DRSMetaResolver(debug=True)\n"
   ]
  },
  {
   "cell_type": "code",
   "execution_count": 2,
   "id": "40a006af",
   "metadata": {},
   "outputs": [
    {
     "name": "stdout",
     "output_type": "stream",
     "text": [
      "sending id 66eeec21-aad0-4a77-8de5-621f05e2d301 to: gen3.biodatacatalyst.nhlbi.nih.gov\n"
     ]
    },
    {
     "data": {
      "text/plain": [
       "{'access_methods': [{'access_id': 'gs',\n",
       "   'access_url': {'url': 'gs://nih-nhlbi-biodata-catalyst-1000-genomes/CCDG_13607/Project_CCDG_13607_B01_GRM_WGS.cram.2019-02-06/Sample_HG03594/analysis/HG03594.final.cram'},\n",
       "   'region': '',\n",
       "   'type': 'gs'},\n",
       "  {'access_id': 's3',\n",
       "   'access_url': {'url': 's3://nih-nhlbi-biodata-catalyst-1000-genomes-high-coverage/CCDG_13607/Project_CCDG_13607_B01_GRM_WGS.cram.2019-02-06/Sample_HG03594/analysis/HG03594.final.cram'},\n",
       "   'region': '',\n",
       "   'type': 's3'}],\n",
       " 'aliases': [],\n",
       " 'checksums': [{'checksum': 'cad45531c1225515714eab58d181a4d5',\n",
       "   'type': 'md5'}],\n",
       " 'created_time': '2020-01-15T15:36:42.200930',\n",
       " 'description': None,\n",
       " 'form': 'object',\n",
       " 'id': 'dg.4503/66eeec21-aad0-4a77-8de5-621f05e2d301',\n",
       " 'mime_type': 'application/json',\n",
       " 'name': '',\n",
       " 'self_uri': 'drs://dg.4503:66eeec21-aad0-4a77-8de5-621f05e2d301',\n",
       " 'size': 17019635647,\n",
       " 'updated_time': '2020-01-15T15:36:42.200937',\n",
       " 'version': '864a8d5f'}"
      ]
     },
     "execution_count": 2,
     "metadata": {},
     "output_type": "execute_result"
    }
   ],
   "source": [
    "drs_client.get_object('bdc:66eeec21-aad0-4a77-8de5-621f05e2d301')"
   ]
  },
  {
   "cell_type": "code",
   "execution_count": 3,
   "id": "6e8b49fa",
   "metadata": {},
   "outputs": [],
   "source": [
    "mixedIDs = [\n",
    "            'bdc:66eeec21-aad0-4a77-8de5-621f05e2d301',\n",
    "            'dg.4503:66eeec21-aad0-4a77-8de5-621f05e2d301',\n",
    "            'crdc:0e3c5237-6933-4d30-83f8-6ab721096bc7',\n",
    "            'dg.4DFC:0e3c5237-6933-4d30-83f8-6ab721096bc7',\n",
    "            'sbcgc:5baa8913e4b0db63859e515e',\n",
    "            'sbcav:5772b6ed507c1752674486fc',\n",
    "            'anv:895c5a81-b985-4559-bc8e-cecece550756',\n",
    "            'dg.ANV0:895c5a81-b985-4559-bc8e-cecece550756',\n",
    "            'sradrs:81b75c18e5def027579f9441f987b8a8']"
   ]
  },
  {
   "cell_type": "code",
   "execution_count": 4,
   "id": "44bf5c47",
   "metadata": {},
   "outputs": [],
   "source": [
    "def check_list(id_list):\n",
    "    for drs_id in id_list:\n",
    "        #print(drs_id)\n",
    "        drs_response = drs_client.get_object(drs_id)\n",
    "        num_of_methods = len(drs_response['access_methods'])\n",
    "        print(f\"has {num_of_methods} access_methods\")"
   ]
  },
  {
   "cell_type": "code",
   "execution_count": null,
   "id": "fc03e3af",
   "metadata": {},
   "outputs": [],
   "source": []
  },
  {
   "cell_type": "code",
   "execution_count": 5,
   "id": "6ad75eba",
   "metadata": {},
   "outputs": [
    {
     "name": "stdout",
     "output_type": "stream",
     "text": [
      "sending id 66eeec21-aad0-4a77-8de5-621f05e2d301 to: gen3.biodatacatalyst.nhlbi.nih.gov\n",
      "has 2 access_methods\n",
      "sending id 66eeec21-aad0-4a77-8de5-621f05e2d301 to: gen3.biodatacatalyst.nhlbi.nih.gov\n",
      "has 2 access_methods\n",
      "sending id 0e3c5237-6933-4d30-83f8-6ab721096bc7 to: nci-crdc.datacommons.io\n",
      "has 2 access_methods\n",
      "sending id 0e3c5237-6933-4d30-83f8-6ab721096bc7 to: nci-crdc.datacommons.io\n",
      "has 2 access_methods\n",
      "sending id 5baa8913e4b0db63859e515e to: cgc-ga4gh-api.sbgenomics.com\n",
      "has 1 access_methods\n",
      "sending id 5772b6ed507c1752674486fc to: cavatica-ga4gh-api.sbgenomics.com\n",
      "has 1 access_methods\n",
      "sending id 895c5a81-b985-4559-bc8e-cecece550756 to: gen3.theanvil.io\n",
      "has 1 access_methods\n",
      "sending id 895c5a81-b985-4559-bc8e-cecece550756 to: gen3.theanvil.io\n",
      "has 1 access_methods\n",
      "sending id 81b75c18e5def027579f9441f987b8a8 to: locate.be-md.ncbi.nlm.nih.gov\n",
      "has 3 access_methods\n"
     ]
    }
   ],
   "source": [
    "check_list(mixedIDs)"
   ]
  },
  {
   "cell_type": "code",
   "execution_count": 6,
   "id": "8c4e0b9b",
   "metadata": {},
   "outputs": [
    {
     "name": "stdout",
     "output_type": "stream",
     "text": [
      "sending id 66eeec21-aad0-4a77-8de5-621f05e2d301 to: gen3.biodatacatalyst.nhlbi.nih.gov\n",
      "has 2 access_methods\n",
      "sending id 66eeec21-aad0-4a77-8de5-621f05e2d301 to: gen3.biodatacatalyst.nhlbi.nih.gov\n",
      "has 2 access_methods\n",
      "sending id 0e3c5237-6933-4d30-83f8-6ab721096bc7 to: nci-crdc.datacommons.io\n",
      "has 2 access_methods\n",
      "sending id 0e3c5237-6933-4d30-83f8-6ab721096bc7 to: nci-crdc.datacommons.io\n",
      "has 2 access_methods\n",
      "sending id 5baa8913e4b0db63859e515e to: cgc-ga4gh-api.sbgenomics.com\n",
      "has 1 access_methods\n",
      "sending id 5772b6ed507c1752674486fc to: cavatica-ga4gh-api.sbgenomics.com\n",
      "has 1 access_methods\n",
      "sending id 895c5a81-b985-4559-bc8e-cecece550756 to: gen3.theanvil.io\n",
      "has 1 access_methods\n",
      "sending id 895c5a81-b985-4559-bc8e-cecece550756 to: gen3.theanvil.io\n",
      "has 1 access_methods\n",
      "sending id 81b75c18e5def027579f9441f987b8a8 to: locate.be-md.ncbi.nlm.nih.gov\n",
      "has 3 access_methods\n"
     ]
    }
   ],
   "source": [
    "trickyIDs = [\n",
    "            'drs://bdc:66eeec21-aad0-4a77-8de5-621f05e2d301',\n",
    "            'dg.4503:66eeec21-aad0-4a77-8de5-621f05e2d301',\n",
    "            'crdc:0e3c5237-6933-4d30-83f8-6ab721096bc7',\n",
    "            'dg.4DFC:0e3c5237-6933-4d30-83f8-6ab721096bc7',\n",
    "            'drs://sbcgc:5baa8913e4b0db63859e515e',\n",
    "            'sbcav:5772b6ed507c1752674486fc',\n",
    "            'drs://anv:895c5a81-b985-4559-bc8e-cecece550756',\n",
    "            'dg.ANV0:895c5a81-b985-4559-bc8e-cecece550756',\n",
    "            'sradrs:81b75c18e5def027579f9441f987b8a8']\n",
    "\n",
    "check_list(trickyIDs)"
   ]
  },
  {
   "cell_type": "code",
   "execution_count": 7,
   "id": "4190baaf",
   "metadata": {},
   "outputs": [
    {
     "name": "stdout",
     "output_type": "stream",
     "text": [
      "sending id 66eeec21-aad0-4a77-8de5-621f05e2d301 to: gen3.biodatacatalyst.nhlbi.nih.gov\n",
      "has 2 access_methods\n",
      "sending id 0e3c5237-6933-4d30-83f8-6ab721096bc7 to: nci-crdc.datacommons.io\n",
      "has 2 access_methods\n",
      "sending id 0e3c5237-6933-4d30-83f8-6ab721096bc7 to: nci-crdc.datacommons.io\n",
      "has 2 access_methods\n",
      "sending id 5baa8913e4b0db63859e515e to: cgc-ga4gh-api.sbgenomics.com\n",
      "has 1 access_methods\n",
      "sending id 5772b6ed507c1752674486fc to: cavatica-ga4gh-api.sbgenomics.com\n",
      "has 1 access_methods\n",
      "sending id 895c5a81-b985-4559-bc8e-cecece550756 to: gen3.theanvil.io\n",
      "has 1 access_methods\n",
      "sending id 895c5a81-b985-4559-bc8e-cecece550756 to: gen3.theanvil.io\n",
      "has 1 access_methods\n",
      "sending id 81b75c18e5def027579f9441f987b8a8 to: locate.be-md.ncbi.nlm.nih.gov\n",
      "has 3 access_methods\n"
     ]
    }
   ],
   "source": [
    "host_based_IDs = [\n",
    "    #'drs://gen3.biodatacatalyst.nhlbi.nih.gov/66eeec21-aad0-4a77-8de5-621f05e2d301',\n",
    "    'gen3.biodatacatalyst.nhlbi.nih.gov/66eeec21-aad0-4a77-8de5-621f05e2d301',\n",
    "    'nci-crdc.datacommons.io/0e3c5237-6933-4d30-83f8-6ab721096bc7',\n",
    "    'drs://nci-crdc.datacommons.io/0e3c5237-6933-4d30-83f8-6ab721096bc7',\n",
    "    'drs://cgc-ga4gh-api.sbgenomics.com/5baa8913e4b0db63859e515e',\n",
    "    'cavatica-ga4gh-api.sbgenomics.com/5772b6ed507c1752674486fc',\n",
    "    'drs://gen3.theanvil.io/895c5a81-b985-4559-bc8e-cecece550756',\n",
    "    'gen3.theanvil.io/895c5a81-b985-4559-bc8e-cecece550756',\n",
    "    'sradrs:81b75c18e5def027579f9441f987b8a8'\n",
    "]\n",
    "\n",
    "check_list(host_based_IDs)\n",
    "\n"
   ]
  },
  {
   "cell_type": "code",
   "execution_count": 8,
   "id": "a159e1ff",
   "metadata": {},
   "outputs": [
    {
     "name": "stdout",
     "output_type": "stream",
     "text": [
      "Not a recognized prefix\n",
      "Adding  DRS client for localhost:5000\n",
      "sending id HG00449.1000genomes.highcov.downsampled.cram to: localhost:5000\n",
      "has 1 access_methods\n"
     ]
    }
   ],
   "source": [
    "local_list = [\n",
    "    \"drs://localhost:5000/HG00449.1000genomes.highcov.downsampled.cram\"\n",
    "]\n",
    "check_list(local_list)"
   ]
  },
  {
   "cell_type": "code",
   "execution_count": 13,
   "id": "079fa32b",
   "metadata": {},
   "outputs": [
    {
     "name": "stdout",
     "output_type": "stream",
     "text": [
      "sending id 62bcbd19f08fea4770666e94 to: cgc-ga4gh-api.sbgenomics.com\n",
      "has 1 access_methods\n",
      "sending id 62bcbec3f08fea4770666edc to: cgc-ga4gh-api.sbgenomics.com\n",
      "has 1 access_methods\n",
      "sending id 8b8388fdc4bef15213df69a5a892ba47 to: locate.be-md.ncbi.nlm.nih.gov\n",
      "has 3 access_methods\n"
     ]
    }
   ],
   "source": [
    "tutorial_drs_list =['drs://cgc-ga4gh-api.sbgenomics.com/62bcbd19f08fea4770666e94',\n",
    "             'drs://cgc-ga4gh-api.sbgenomics.com/62bcbec3f08fea4770666edc',\n",
    "             'drs://locate.be-md.ncbi.nlm.nih.gov/8b8388fdc4bef15213df69a5a892ba47']\n",
    "check_list(tutorial_drs_list)"
   ]
  },
  {
   "cell_type": "code",
   "execution_count": null,
   "id": "ad6d287c",
   "metadata": {},
   "outputs": [],
   "source": []
  }
 ],
 "metadata": {
  "kernelspec": {
   "display_name": "Python 3 (ipykernel)",
   "language": "python",
   "name": "python3"
  },
  "language_info": {
   "codemirror_mode": {
    "name": "ipython",
    "version": 3
   },
   "file_extension": ".py",
   "mimetype": "text/x-python",
   "name": "python",
   "nbconvert_exporter": "python",
   "pygments_lexer": "ipython3",
   "version": "3.9.7"
  }
 },
 "nbformat": 4,
 "nbformat_minor": 5
}
