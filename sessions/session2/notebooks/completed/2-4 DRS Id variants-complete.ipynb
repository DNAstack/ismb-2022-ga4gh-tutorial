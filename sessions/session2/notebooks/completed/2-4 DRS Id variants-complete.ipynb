{
 "cells": [
  {
   "cell_type": "markdown",
   "id": "0f6f5e91",
   "metadata": {},
   "source": [
    "#### Using the DRSMetaReolver Client\n",
    "\n",
    "The MetaResolver will:\n",
    "* Resolve compact ids\n",
    "* Resolve host based DRS ids\n",
    "* Send DRS calls to the correct server\n",
    "* Handle id's prefixed ith drs:// or not\n",
    "\n",
    " 🖐 Run the following examples and review how each kind of DRS id is handled\n",
    " \n",
    " "
   ]
  },
  {
   "cell_type": "code",
   "execution_count": 16,
   "id": "7dab844c",
   "metadata": {},
   "outputs": [],
   "source": [
    "from fasp.loc import DRSMetaResolver\n",
    "\n",
    "drs_client = DRSMetaResolver(debug=False)"
   ]
  },
  {
   "cell_type": "code",
   "execution_count": 17,
   "id": "d450406d",
   "metadata": {},
   "outputs": [
    {
     "data": {
      "text/plain": [
       "{'access_methods': [{'access_id': 'gs',\n",
       "   'access_url': {'url': 'gs://nih-nhlbi-biodata-catalyst-1000-genomes/CCDG_13607/Project_CCDG_13607_B01_GRM_WGS.cram.2019-02-06/Sample_HG03594/analysis/HG03594.final.cram'},\n",
       "   'region': '',\n",
       "   'type': 'gs'},\n",
       "  {'access_id': 's3',\n",
       "   'access_url': {'url': 's3://nih-nhlbi-biodata-catalyst-1000-genomes-high-coverage/CCDG_13607/Project_CCDG_13607_B01_GRM_WGS.cram.2019-02-06/Sample_HG03594/analysis/HG03594.final.cram'},\n",
       "   'region': '',\n",
       "   'type': 's3'}],\n",
       " 'aliases': [],\n",
       " 'checksums': [{'checksum': 'cad45531c1225515714eab58d181a4d5',\n",
       "   'type': 'md5'}],\n",
       " 'created_time': '2020-01-15T15:36:42.200930',\n",
       " 'description': None,\n",
       " 'form': 'object',\n",
       " 'id': 'dg.4503/66eeec21-aad0-4a77-8de5-621f05e2d301',\n",
       " 'mime_type': 'application/json',\n",
       " 'name': '',\n",
       " 'self_uri': 'drs://dg.4503:66eeec21-aad0-4a77-8de5-621f05e2d301',\n",
       " 'size': 17019635647,\n",
       " 'updated_time': '2020-01-15T15:36:42.200937',\n",
       " 'version': '864a8d5f'}"
      ]
     },
     "execution_count": 17,
     "metadata": {},
     "output_type": "execute_result"
    }
   ],
   "source": [
    "drs_client.get_object('bdc:66eeec21-aad0-4a77-8de5-621f05e2d301')"
   ]
  },
  {
   "cell_type": "code",
   "execution_count": null,
   "id": "6d714d57",
   "metadata": {},
   "outputs": [],
   "source": [
    "### The following is a list o"
   ]
  },
  {
   "cell_type": "code",
   "execution_count": 19,
   "id": "9d22c7d1",
   "metadata": {},
   "outputs": [],
   "source": [
    "mixedIDs = [\n",
    "            'dg.4503:66eeec21-aad0-4a77-8de5-621f05e2d301',\n",
    "            'dg.4DFC:0e3c5237-6933-4d30-83f8-6ab721096bc7',\n",
    "            'dg.ANV0:895c5a81-b985-4559-bc8e-cecece550756'\n",
    "]"
   ]
  },
  {
   "cell_type": "markdown",
   "id": "f073a2dc",
   "metadata": {},
   "source": [
    " 🖐 In the following function you may edit what is printed in the response"
   ]
  },
  {
   "cell_type": "code",
   "execution_count": null,
   "id": "ad460d97",
   "metadata": {},
   "outputs": [],
   "source": [
    "def check_list(id_list):\n",
    "    for drs_id in id_list:\n",
    "        print(f\"DRS URI {drs_id}\")\n",
    "        drs_response = drs_client.get_object(drs_id)\n",
    "        num_of_methods = len(drs_response['access_methods'])\n",
    "        #print(f\"Full response\\n{drs_response}\")\n",
    "        print(f\"has {num_of_methods} access_methods\")\n",
    "        print('_'*80)"
   ]
  },
  {
   "cell_type": "code",
   "execution_count": 20,
   "id": "5bafc40e",
   "metadata": {},
   "outputs": [
    {
     "name": "stdout",
     "output_type": "stream",
     "text": [
      "DRS URI dg.4503:66eeec21-aad0-4a77-8de5-621f05e2d301\n",
      "has 2 access_methods\n",
      "________________________________________________________________________________\n",
      "DRS URI dg.4DFC:0e3c5237-6933-4d30-83f8-6ab721096bc7\n",
      "has 2 access_methods\n",
      "________________________________________________________________________________\n",
      "DRS URI dg.ANV0:895c5a81-b985-4559-bc8e-cecece550756\n",
      "has 1 access_methods\n",
      "________________________________________________________________________________\n"
     ]
    }
   ],
   "source": [
    "check_list(mixedIDs)"
   ]
  },
  {
   "cell_type": "code",
   "execution_count": 18,
   "id": "4b6e671d",
   "metadata": {},
   "outputs": [
    {
     "name": "stdout",
     "output_type": "stream",
     "text": [
      "DRS URI drs://dg.4503:66eeec21-aad0-4a77-8de5-621f05e2d301\n",
      "has 2 access_methods\n",
      "________________________________________________________________________________\n",
      "DRS URI dg.4DFC:0e3c5237-6933-4d30-83f8-6ab721096bc7\n",
      "has 2 access_methods\n",
      "________________________________________________________________________________\n",
      "DRS URI dg.ANV0:895c5a81-b985-4559-bc8e-cecece550756\n",
      "has 1 access_methods\n",
      "________________________________________________________________________________\n"
     ]
    }
   ],
   "source": [
    "trickyIDs = [\n",
    "            'drs://dg.4503:66eeec21-aad0-4a77-8de5-621f05e2d301',\n",
    "            'dg.4DFC:0e3c5237-6933-4d30-83f8-6ab721096bc7',\n",
    "            'dg.ANV0:895c5a81-b985-4559-bc8e-cecece550756'\n",
    "]\n",
    "\n",
    "check_list(trickyIDs)"
   ]
  },
  {
   "cell_type": "code",
   "execution_count": 22,
   "id": "deb170f5",
   "metadata": {},
   "outputs": [
    {
     "name": "stdout",
     "output_type": "stream",
     "text": [
      "DRS URI gen3.biodatacatalyst.nhlbi.nih.gov/66eeec21-aad0-4a77-8de5-621f05e2d301\n",
      "has 2 access_methods\n",
      "________________________________________________________________________________\n",
      "DRS URI nci-crdc.datacommons.io/0e3c5237-6933-4d30-83f8-6ab721096bc7\n",
      "has 2 access_methods\n",
      "________________________________________________________________________________\n",
      "DRS URI drs://nci-crdc.datacommons.io/0e3c5237-6933-4d30-83f8-6ab721096bc7\n",
      "has 2 access_methods\n",
      "________________________________________________________________________________\n",
      "DRS URI drs://gen3.theanvil.io/895c5a81-b985-4559-bc8e-cecece550756\n",
      "has 1 access_methods\n",
      "________________________________________________________________________________\n",
      "DRS URI gen3.theanvil.io/895c5a81-b985-4559-bc8e-cecece550756\n",
      "has 1 access_methods\n",
      "________________________________________________________________________________\n",
      "DRS URI sradrs:81b75c18e5def027579f9441f987b8a8\n",
      "has 3 access_methods\n",
      "________________________________________________________________________________\n"
     ]
    }
   ],
   "source": [
    "host_based_IDs = [\n",
    "    'gen3.biodatacatalyst.nhlbi.nih.gov/66eeec21-aad0-4a77-8de5-621f05e2d301',\n",
    "    'nci-crdc.datacommons.io/0e3c5237-6933-4d30-83f8-6ab721096bc7',\n",
    "    'drs://nci-crdc.datacommons.io/0e3c5237-6933-4d30-83f8-6ab721096bc7',\n",
    "    'drs://gen3.theanvil.io/895c5a81-b985-4559-bc8e-cecece550756',\n",
    "    'gen3.theanvil.io/895c5a81-b985-4559-bc8e-cecece550756',\n",
    "    'sradrs:81b75c18e5def027579f9441f987b8a8'\n",
    "]\n",
    "\n",
    "check_list(host_based_IDs)\n",
    "\n"
   ]
  },
  {
   "cell_type": "code",
   "execution_count": null,
   "id": "e35b099f",
   "metadata": {},
   "outputs": [],
   "source": []
  }
 ],
 "metadata": {
  "kernelspec": {
   "display_name": "Python 3 (ipykernel)",
   "language": "python",
   "name": "python3"
  },
  "language_info": {
   "codemirror_mode": {
    "name": "ipython",
    "version": 3
   },
   "file_extension": ".py",
   "mimetype": "text/x-python",
   "name": "python",
   "nbconvert_exporter": "python",
   "pygments_lexer": "ipython3",
   "version": "3.9.7"
  }
 },
 "nbformat": 4,
 "nbformat_minor": 5
}
