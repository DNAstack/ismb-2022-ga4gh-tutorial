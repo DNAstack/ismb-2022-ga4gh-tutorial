{
 "cells": [
  {
   "cell_type": "markdown",
   "metadata": {},
   "source": [
    "### Finding files and data using Data Connect\n",
    "\n",
    "#### Learning Objectives\n",
    "Workshop attendees will learn how use the GA4GH Data Connect Service.  \n",
    "\n",
    "What will participants do as part of the exercise?\n",
    "\n",
    " - Understanding how to query data via Data Connect\n",
    " - Use Data Connect to find files that can be accessed via DRS\n",
    " - Learn how to obtain and use data descriptions (schema)\n",
    " - Discover the meaning of codes used in data\n",
    " \n",
    "\n",
    " #### Icons in this Guide\n",
    "\n",
    " 🖐 A hands-on section where you will code something or interact with the server\n",
    " \n",
    "### Query files\n",
    "The approach taken below is using mapping available through subject and specimen data available through the Data Connect API. \n",
    "\n",
    "Queries are submitted as SQL queries to one or more tables on the Data Connect server.\n",
    "\n",
    "As with other examples, first we set up a client to use the API. The server at DNAStack is used in the following examples.\n",
    "\n",
    "#### Step 1: Set up a Data Connect Client and run a predefined query "
   ]
  },
  {
   "cell_type": "code",
   "execution_count": null,
   "metadata": {},
   "outputs": [],
   "source": [
    "from fasp.search import DataConnectClient\n",
    "searchClient = DataConnectClient('https://data-connect-trino-public.prod.dnastack.com/')"
   ]
  },
  {
   "cell_type": "markdown",
   "metadata": {},
   "source": [
    "### Important note\n",
    "Looking up a data dictionary to discover codes in this way is not what we would typically expect a user to do. Our aim today is to focus on the API and what it is capable of and what it can enable.\n",
    "\n",
    "Given the information the data schema provide about the data it is possible for developers to create interfaces in their systems which allow new datasources to be integrated as they appear."
   ]
  },
  {
   "cell_type": "code",
   "execution_count": null,
   "metadata": {},
   "outputs": [],
   "source": [
    "query_all = '''SELECT f.sample_name, drs_id bam_drs_id, acc, population, mapped, sequencing_type\n",
    "FROM thousand_genomes.onek_genomes.ssd_drs s \n",
    "join thousand_genomes.onek_genomes.sra_drs_files f on f.sample_name = s.su_submitter_id \n",
    "where filetype = 'bam'   \n",
    " '''\n",
    "int_df = searchClient.run_query(query_all, returnType='dataframe')\n",
    "print(\"Query complete. Continue with next step.\")"
   ]
  },
  {
   "cell_type": "code",
   "execution_count": null,
   "metadata": {},
   "outputs": [],
   "source": [
    "def getColValues(info, columns):\n",
    "    enumVals = {}\n",
    "    for column in columns:\n",
    "        var = info['data_model']['properties'][column]\n",
    "        valueList = []\n",
    "        for value in var['oneOf']:\n",
    "            valueList.append(value['const'])\n",
    "        enumVals[column] = valueList\n",
    "    return enumVals\n",
    "    \n",
    "info1 = searchClient.list_table_info('thousand_genomes.onek_genomes.ssd_drs').schema\n",
    "enumCols1 = getColValues(info1, ['population'])\n",
    "info2 = searchClient.list_table_info('thousand_genomes.onek_genomes.sra_drs_files').schema\n",
    "enumCols2 = getColValues(info2, ['sequencing_type','mapped'])\n",
    "#print(enumCols1)\n",
    "#print(enumCols2)"
   ]
  },
  {
   "cell_type": "code",
   "execution_count": null,
   "metadata": {
    "scrolled": true
   },
   "outputs": [],
   "source": [
    "import ipywidgets as widgets\n",
    "from ipywidgets import interact, interact_manual, IntRangeSlider\n",
    "\n",
    "def filter_onek(\n",
    "                 population=enumCols1['population'],\n",
    "                 sequencing_type=enumCols2['sequencing_type'],\n",
    "                 mapped=enumCols2['mapped']\n",
    "                ):\n",
    "    \n",
    "    selected_df = int_df.loc[ (int_df['population'] == population) \n",
    "                            & (int_df['sequencing_type'] == sequencing_type)\n",
    "                            & (int_df['mapped'] == mapped)]\n",
    "    #drs_ids = selected_df['bam_drs_id'].tolist()\n",
    "    return selected_df"
   ]
  },
  {
   "cell_type": "code",
   "execution_count": null,
   "metadata": {},
   "outputs": [],
   "source": [
    "drs_list = interact(filter_onek,  \n",
    "                 population=enumCols1['population'],\n",
    "                 sequencing_type=enumCols2['sequencing_type'],\n",
    "                 mapped=enumCols2['mapped']\n",
    "                )"
   ]
  },
  {
   "cell_type": "markdown",
   "metadata": {},
   "source": [
    "#### Step 7 - Combine with DRS Server\n",
    "\n",
    "The following shows how the SRA DRS server we used in workbook 2-1 can be used to determine where the files can be obtained from. \n",
    "\n",
    "🖐 Using the results from one of the queries that you ran above DRS id from the query results."
   ]
  },
  {
   "cell_type": "code",
   "execution_count": null,
   "metadata": {},
   "outputs": [],
   "source": [
    "from fasp.loc import DRSClient\n",
    "\n",
    "drsClient = DRSClient('https://locate.be-md.ncbi.nlm.nih.gov', public=True, debug=True)\n",
    "test_id = 'replace_with_a_drs_id'\n",
    "objInfo = drsClient.get_object(test_id)\n",
    "objInfo"
   ]
  },
  {
   "cell_type": "markdown",
   "metadata": {},
   "source": [
    "A second DRS call can be used to obtain a url to access the file from one of the above locations."
   ]
  },
  {
   "cell_type": "code",
   "execution_count": null,
   "metadata": {
    "scrolled": true
   },
   "outputs": [],
   "source": [
    "access_id = objInfo['access_methods'][0]['access_id']\n",
    "print('access_id:{}'.format(access_id))\n",
    "url = drsClient.get_access_url(test_id, access_id=access_id)\n",
    "print('url:{}'.format(url))"
   ]
  }
 ],
 "metadata": {
  "kernelspec": {
   "display_name": "Python 3 (ipykernel)",
   "language": "python",
   "name": "python3"
  },
  "language_info": {
   "codemirror_mode": {
    "name": "ipython",
    "version": 3
   },
   "file_extension": ".py",
   "mimetype": "text/x-python",
   "name": "python",
   "nbconvert_exporter": "python",
   "pygments_lexer": "ipython3",
   "version": "3.9.7"
  }
 },
 "nbformat": 4,
 "nbformat_minor": 4
}
