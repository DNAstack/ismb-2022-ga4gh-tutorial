{
 "cells": [
  {
   "cell_type": "code",
   "execution_count": 1,
   "id": "975cc467",
   "metadata": {},
   "outputs": [],
   "source": [
    "from fasp.loc import DRSClient\n",
    "\n",
    "drs_host ='http://localhost:5000'\n",
    "drs_id = 'HG00449.1000genomes.highcov.downsampled.cram'\n",
    "\n",
    "cl = DRSClient(drs_host)"
   ]
  },
  {
   "cell_type": "code",
   "execution_count": 2,
   "id": "8652633b",
   "metadata": {},
   "outputs": [
    {
     "data": {
      "text/plain": [
       "{'id': 'HG00449.1000genomes.highcov.downsampled.cram',\n",
       " 'description': 'High coverage, downsampled CRAM file for sample HG00449',\n",
       " 'created_time': '2022-06-17T12:04:12Z',\n",
       " 'mime_type': 'application/cram',\n",
       " 'name': 'HG00449 1000 Genomes Downsampled High Coverage CRAM file',\n",
       " 'size': 18977144,\n",
       " 'updated_time': '2022-06-17T12:04:12Z',\n",
       " 'version': '1.0.0',\n",
       " 'aliases': ['HG00449 high coverage downsampled CRAM'],\n",
       " 'checksums': [{'checksum': '232a8379bf238fe0c2b646c03a4b8bd2d83917f3',\n",
       "   'type': 'sha1'},\n",
       "  {'checksum': '44ee4289015c892c442b504ed681532f032de5c09e846be021624815859f82e8',\n",
       "   'type': 'sha256'},\n",
       "  {'checksum': '8e18bfb64168994489bc9e7fda0acd4f', 'type': 'md5'}],\n",
       " 'self_uri': 'drs://localhost:5000/HG00449.1000genomes.highcov.downsampled.cram',\n",
       " 'access_methods': [{'access_url': {'url': 's3://ga4gh-ismb-tutorial-2022/data/1000genomes/cram/highcov/HG00449.final.2400kb.cram'},\n",
       "   'type': 's3',\n",
       "   'region': 'us-east-2'}]}"
      ]
     },
     "execution_count": 2,
     "metadata": {},
     "output_type": "execute_result"
    }
   ],
   "source": [
    "cl.getObject(drs_id)"
   ]
  },
  {
   "cell_type": "code",
   "execution_count": null,
   "id": "24fe888b",
   "metadata": {},
   "outputs": [],
   "source": [
    "cl.getAccessURL()"
   ]
  },
  {
   "cell_type": "code",
   "execution_count": null,
   "id": "3ba40e31",
   "metadata": {},
   "outputs": [],
   "source": [
    "from fasp.workflow import WESClient\n",
    "wes_client = WESClient('http://localhost:6000/ga4gh/wes/v1/', debug=True)"
   ]
  },
  {
   "cell_type": "code",
   "execution_count": null,
   "id": "3fe10ae1",
   "metadata": {},
   "outputs": [],
   "source": [
    "wes_client.getInfo()"
   ]
  },
  {
   "cell_type": "code",
   "execution_count": null,
   "id": "7a4ef046",
   "metadata": {},
   "outputs": [],
   "source": []
  }
 ],
 "metadata": {
  "kernelspec": {
   "display_name": "Python 3 (ipykernel)",
   "language": "python",
   "name": "python3"
  },
  "language_info": {
   "codemirror_mode": {
    "name": "ipython",
    "version": 3
   },
   "file_extension": ".py",
   "mimetype": "text/x-python",
   "name": "python",
   "nbconvert_exporter": "python",
   "pygments_lexer": "ipython3",
   "version": "3.9.7"
  }
 },
 "nbformat": 4,
 "nbformat_minor": 5
}
