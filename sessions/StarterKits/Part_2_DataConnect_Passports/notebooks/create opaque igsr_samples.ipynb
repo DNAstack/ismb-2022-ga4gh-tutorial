{
 "cells": [
  {
   "cell_type": "markdown",
   "id": "e110baae",
   "metadata": {},
   "source": [
    "replace the "
   ]
  },
  {
   "cell_type": "code",
   "execution_count": 1,
   "id": "64a3a6ec",
   "metadata": {},
   "outputs": [
    {
     "name": "stdout",
     "output_type": "stream",
     "text": [
      "28ffe6386b78fffb7cd0a7b2d0a79846\n"
     ]
    }
   ],
   "source": [
    "import json\n",
    "\n",
    "with open(\"../drs_map.json\") as f:\n",
    "    drs_map = json.load(f)\n",
    "\n",
    "# check an example\n",
    "print(drs_map['HG00740.1000genomes.lowcov.downsampled.cram'])"
   ]
  },
  {
   "cell_type": "code",
   "execution_count": 12,
   "id": "1419d9df",
   "metadata": {},
   "outputs": [
    {
     "name": "stdout",
     "output_type": "stream",
     "text": [
      "{\n",
      "   \"sample_name\": \"HG01965\",\n",
      "   \"sex\": \"female\",\n",
      "   \"biosample_id\": \"SAME1839145\",\n",
      "   \"population_code\": \"PEL\",\n",
      "   \"population_name\": \"Peruvian\",\n",
      "   \"superpopulation_code\": \"AMR\",\n",
      "   \"superpopulation_name\": \"American Ancestry\",\n",
      "   \"population_elastic_id\": \"PEL\",\n",
      "   \"data_collections\": \"1000 Genomes on GRCh38,1000 Genomes 30x on GRCh38,1000 Genomes phase 3 release\",\n",
      "   \"cram_drs_uri\": \"drs://localhost:5000/HG01965.1kgenomes.wgs.downsampled.cram\",\n",
      "   \"crai_drs_uri\": \"drs://localhost:5000/HG01965.1kgenomes.wgs.downsampled.crai\",\n",
      "   \"bundle_drs_uri\": \"drs://localhost:5000/HG01965.1kgenomes.wgs.downsampled.bundle\"\n",
      "}\n",
      "cram_drs_uri\n",
      "HG01965.1kgenomes.wgs.downsampled.cram\n",
      "crai_drs_uri\n",
      "HG01965.1kgenomes.wgs.downsampled.crai\n",
      "bundle_drs_uri\n",
      "HG01965.1kgenomes.wgs.downsampled.bundle\n"
     ]
    }
   ],
   "source": [
    "key_list = ['cram_drs_uri', 'crai_drs_uri', 'bundle_drs_uri']\n",
    "\n",
    "#key_list = ['cram_drs_uri', 'crai_drs_uri']\n",
    "\n",
    "with open(\"../data/igsr_samples.ndjson\", \"r\") as smpl_in,  open(\"../data/igsr_samples_nums.ndjson\", 'w') as smpl_out:\n",
    "    line = smpl_in.readline()\n",
    "    sample = json.loads(line)\n",
    "    print(json.dumps(sample, indent=3))\n",
    "    for k in key_list:\n",
    "        # get the part after the last /\n",
    "        drs_id = sample[k].split('/')[-1]\n",
    "        print(k)\n",
    "        print(drs_id)\n",
    "        #print(drs_map[drs_id])\n"
   ]
  },
  {
   "cell_type": "code",
   "execution_count": null,
   "id": "62f79c13",
   "metadata": {},
   "outputs": [],
   "source": [
    "\"HG01965.1000genomes.lowcov.downsampled.cram\""
   ]
  }
 ],
 "metadata": {
  "kernelspec": {
   "display_name": "Python 3 (ipykernel)",
   "language": "python",
   "name": "python3"
  },
  "language_info": {
   "codemirror_mode": {
    "name": "ipython",
    "version": 3
   },
   "file_extension": ".py",
   "mimetype": "text/x-python",
   "name": "python",
   "nbconvert_exporter": "python",
   "pygments_lexer": "ipython3",
   "version": "3.9.7"
  }
 },
 "nbformat": 4,
 "nbformat_minor": 5
}
