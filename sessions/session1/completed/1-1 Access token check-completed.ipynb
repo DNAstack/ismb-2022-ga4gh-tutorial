{
 "cells": [
  {
   "cell_type": "markdown",
   "id": "2fddf5bd",
   "metadata": {},
   "source": [
    "### Test you have access to the tutorial resources on the Cancer Genomics Cloud\n",
    "* Click to the left of the cell below\n",
    "* Click Run above\n",
    "\n",
    "##### Note on sbcgc_key.json file location:\n",
    "If you saved the sbcgc_key.json file elsewhere click in the code below and edit the path to where you saved the file."
   ]
  },
  {
   "cell_type": "code",
   "execution_count": 1,
   "id": "31b58029",
   "metadata": {},
   "outputs": [
    {
     "name": "stdout",
     "output_type": "stream",
     "text": [
      "references-hs37d5-hs37d5.fasta\n",
      "Success!\n"
     ]
    }
   ],
   "source": [
    "from fasp.loc import sbcgcDRSClient\n",
    "client = sbcgcDRSClient(\"~/.keys/sbcgc_key.json\", \"s3\")\n",
    "response = client.get_object('62b077884e3edb6b1c23c6f9')\n",
    "file_name = response['name']\n",
    "print(file_name)\n",
    "if file_name == 'references-hs37d5-hs37d5.fasta':\n",
    "    print (\"Success!\")"
   ]
  },
  {
   "cell_type": "code",
   "execution_count": null,
   "id": "d308a804",
   "metadata": {},
   "outputs": [],
   "source": []
  }
 ],
 "metadata": {
  "kernelspec": {
   "display_name": "Python 3 (ipykernel)",
   "language": "python",
   "name": "python3"
  },
  "language_info": {
   "codemirror_mode": {
    "name": "ipython",
    "version": 3
   },
   "file_extension": ".py",
   "mimetype": "text/x-python",
   "name": "python",
   "nbconvert_exporter": "python",
   "pygments_lexer": "ipython3",
   "version": "3.9.7"
  }
 },
 "nbformat": 4,
 "nbformat_minor": 5
}
